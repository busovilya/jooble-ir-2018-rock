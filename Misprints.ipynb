{
 "cells": [
  {
   "cell_type": "code",
   "execution_count": null,
   "metadata": {},
   "outputs": [
    {
     "name": "stderr",
     "output_type": "stream",
     "text": [
      " * Running on http://0.0.0.0:13540/ (Press CTRL+C to quit)\n",
      "127.0.0.1 - - [08/Nov/2018 16:02:26] \"POST /analysis/misprints HTTP/1.1\" 200 -\n",
      "127.0.0.1 - - [08/Nov/2018 17:03:48] \"POST /analysis/misprints HTTP/1.1\" 200 -\n",
      "127.0.0.1 - - [08/Nov/2018 17:04:40] \"POST /analysis/misprints HTTP/1.1\" 200 -\n"
     ]
    }
   ],
   "source": [
    "from flask import Flask, request\n",
    "import json\n",
    "\n",
    "app = Flask(__name__)\n",
    "\n",
    "\n",
    "@app.route('/analysis/misprints', methods =['POST'])\n",
    "def misprints():\n",
    "    j = request.json\n",
    "    new_data = j['data']\n",
    "    return json.dumps({\"status\":\"ok\", \"got_data\": j[\"data\"], \"processed_data\":new_data})\n",
    "    \n",
    "\n",
    "if __name__ == \"__main__\":\n",
    "    app.run(host='0.0.0.0', port=13540)"
   ]
  },
  {
   "cell_type": "code",
   "execution_count": null,
   "metadata": {
    "collapsed": true
   },
   "outputs": [],
   "source": []
  }
 ],
 "metadata": {
  "kernelspec": {
   "display_name": "Python 3",
   "language": "python",
   "name": "python3"
  },
  "language_info": {
   "codemirror_mode": {
    "name": "ipython",
    "version": 3
   },
   "file_extension": ".py",
   "mimetype": "text/x-python",
   "name": "python",
   "nbconvert_exporter": "python",
   "pygments_lexer": "ipython3",
   "version": "3.6.3"
  }
 },
 "nbformat": 4,
 "nbformat_minor": 2
}
