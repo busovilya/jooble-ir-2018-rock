{
 "cells": [
  {
   "cell_type": "code",
   "execution_count": null,
   "metadata": {},
   "outputs": [],
   "source": [
    "import json\n",
    "import numpy as np\n",
    "\n",
    "from flask import Flask, request\n",
    "\n",
    "app = Flask(__name__)\n",
    "\n",
    "\n",
    "@app.route('/rank', methods =['POST'])\n",
    "def ranking():\n",
    "    j = request.json\n",
    "    inverted_index = j['data']\n",
    "    documents = j['documents']\n",
    "    words = j['words']\n",
    "    \n",
    "    # create tf_idf -> {docID: tf_idf}\n",
    "    tf_idf = {key: [] for key in documents}\n",
    "    \n",
    "    for docID in documents:        \n",
    "        tf_idf_for_doc = 0\n",
    "        \n",
    "        for term in words:   \n",
    "            idf_for_term = idf[term]\n",
    "            list_of_dicts = inverted_index[term]\n",
    "            print(list_of_dicts)\n",
    "            print(docID)\n",
    "            tf_for_term = [np.log(1 + (len(doc['position_text']) + len(doc['position_title'])) / doc['doc_len']) \n",
    "                           for doc in list_of_dicts if doc['id'] == docID]\n",
    "         \n",
    "            tf_idf_for_doc += tf_for_term[0] * idf_for_term\n",
    "            \n",
    "        tf_idf[docID] = tf_idf_for_doc\n",
    "   \n",
    "\n",
    "    # sorting documents\n",
    "    ranked = sorted(tf_idf.items(), key=lambda kv: kv[1], reverse=True)\n",
    "    ranked = [d[0] for d in ranked]\n",
    "      \n",
    "    return json.dumps({'status':'ok', 'ranked': ranked})\n",
    "\n",
    "@app.route(\"/rank/idf\", methods=['POST'])\n",
    "def refresh_idf():\n",
    "    global idf\n",
    "    j = request.json\n",
    "    idf = j['data']\n",
    "    return json.dumps({'status':'ok'})\n",
    "\n",
    "if __name__ == \"__main__\":\n",
    "    app.run(host='0.0.0.0', port=13541)"
   ]
  }
 ],
 "metadata": {
  "kernelspec": {
   "display_name": "Python 3",
   "language": "python",
   "name": "python3"
  },
  "language_info": {
   "codemirror_mode": {
    "name": "ipython",
    "version": 3
   },
   "file_extension": ".py",
   "mimetype": "text/x-python",
   "name": "python",
   "nbconvert_exporter": "python",
   "pygments_lexer": "ipython3",
   "version": "3.7.0"
  }
 },
 "nbformat": 4,
 "nbformat_minor": 2
}
