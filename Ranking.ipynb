{
 "cells": [
  {
   "cell_type": "code",
   "execution_count": 7,
   "metadata": {},
   "outputs": [
    {
     "name": "stderr",
     "output_type": "stream",
     "text": [
      " * Running on http://0.0.0.0:13541/ (Press CTRL+C to quit)\n",
      "127.0.0.1 - - [29/Nov/2018 19:23:06] \"POST /rank HTTP/1.1\" 200 -\n",
      "127.0.0.1 - - [29/Nov/2018 19:23:16] \"POST /rank HTTP/1.1\" 200 -\n",
      "127.0.0.1 - - [29/Nov/2018 19:23:29] \"POST /rank HTTP/1.1\" 200 -\n",
      "127.0.0.1 - - [29/Nov/2018 19:24:52] \"POST /rank HTTP/1.1\" 200 -\n",
      "127.0.0.1 - - [29/Nov/2018 19:25:35] \"POST /rank HTTP/1.1\" 200 -\n",
      "127.0.0.1 - - [29/Nov/2018 19:25:49] \"POST /rank HTTP/1.1\" 200 -\n",
      "127.0.0.1 - - [29/Nov/2018 19:26:01] \"POST /rank HTTP/1.1\" 200 -\n",
      "127.0.0.1 - - [29/Nov/2018 19:26:27] \"POST /rank HTTP/1.1\" 200 -\n",
      "127.0.0.1 - - [29/Nov/2018 19:26:47] \"POST /rank HTTP/1.1\" 200 -\n",
      "127.0.0.1 - - [29/Nov/2018 19:27:09] \"POST /rank HTTP/1.1\" 200 -\n",
      "127.0.0.1 - - [29/Nov/2018 19:44:53] \"POST /rank/idf HTTP/1.1\" 200 -\n",
      "[2018-11-29 19:44:59,389] ERROR in app: Exception on /rank [POST]\n",
      "Traceback (most recent call last):\n",
      "  File \"/usr/local/anaconda/lib/python3.6/site-packages/flask/app.py\", line 1982, in wsgi_app\n",
      "    response = self.full_dispatch_request()\n",
      "  File \"/usr/local/anaconda/lib/python3.6/site-packages/flask/app.py\", line 1614, in full_dispatch_request\n",
      "    rv = self.handle_user_exception(e)\n",
      "  File \"/usr/local/anaconda/lib/python3.6/site-packages/flask/app.py\", line 1517, in handle_user_exception\n",
      "    reraise(exc_type, exc_value, tb)\n",
      "  File \"/usr/local/anaconda/lib/python3.6/site-packages/flask/_compat.py\", line 33, in reraise\n",
      "    raise value\n",
      "  File \"/usr/local/anaconda/lib/python3.6/site-packages/flask/app.py\", line 1612, in full_dispatch_request\n",
      "    rv = self.dispatch_request()\n",
      "  File \"/usr/local/anaconda/lib/python3.6/site-packages/flask/app.py\", line 1598, in dispatch_request\n",
      "    return self.view_functions[rule.endpoint](**req.view_args)\n",
      "  File \"<ipython-input-7-2f3ceb2695cb>\", line 26, in ranking\n",
      "    for doc in list_of_dicts if doc['id'] == docID]\n",
      "  File \"<ipython-input-7-2f3ceb2695cb>\", line 26, in <listcomp>\n",
      "    for doc in list_of_dicts if doc['id'] == docID]\n",
      "TypeError: unsupported operand type(s) for /: 'int' and 'NoneType'\n",
      "127.0.0.1 - - [29/Nov/2018 19:44:59] \"POST /rank HTTP/1.1\" 500 -\n",
      "127.0.0.1 - - [29/Nov/2018 19:47:41] \"POST /rank/idf HTTP/1.1\" 200 -\n",
      "127.0.0.1 - - [29/Nov/2018 19:51:18] \"POST /rank/idf HTTP/1.1\" 200 -\n",
      "127.0.0.1 - - [29/Nov/2018 19:52:43] \"POST /rank/idf HTTP/1.1\" 200 -\n",
      "127.0.0.1 - - [29/Nov/2018 19:54:07] \"POST /rank/idf HTTP/1.1\" 200 -\n"
     ]
    }
   ],
   "source": [
    "import json\n",
    "import numpy as np\n",
    "\n",
    "from flask import Flask, request\n",
    "\n",
    "app = Flask(__name__)\n",
    "\n",
    "\n",
    "@app.route('/rank', methods =['POST'])\n",
    "def ranking():\n",
    "    j = request.json\n",
    "    inverted_index = j['data']\n",
    "    documents = j['documents']\n",
    "    words = j['words']\n",
    "    \n",
    "    # create tf_idf -> {docID: tf_idf}\n",
    "    tf_idf = {key: [] for key in documents}\n",
    "    \n",
    "    for docID in documents:        \n",
    "        tf_idf_for_doc = 0\n",
    "        \n",
    "        for term in words:   \n",
    "            idf_for_term = idf[term]\n",
    "            list_of_dicts = inverted_index[term]\n",
    "            tf_for_term = [np.log(1 + (len(doc['position_text']) + len(doc['position_title'])) / doc['doc_len']) \n",
    "                           for doc in list_of_dicts if doc['id'] == docID]\n",
    "         \n",
    "            tf_idf_for_doc += tf_for_term[0] * idf_for_term\n",
    "            \n",
    "        tf_idf[docID] = tf_idf_for_doc\n",
    "   \n",
    "\n",
    "    # sorting documents\n",
    "    ranked = sorted(tf_idf.items(), key=lambda kv: kv[1], reverse=True)\n",
    "    ranked = [d[0] for d in ranked]\n",
    "      \n",
    "    return json.dumps({'status':'ok', 'ranked': ranked})\n",
    "\n",
    "@app.route(\"/rank/idf\", methods=['POST'])\n",
    "def refresh_idf():\n",
    "    global idf\n",
    "    j = request.json\n",
    "    idf = j['data']\n",
    "    return json.dumps({'status':'ok'})\n",
    "\n",
    "if __name__ == \"__main__\":\n",
    "    app.run(host='0.0.0.0', port=13541)"
   ]
  },
  {
   "cell_type": "code",
   "execution_count": null,
   "metadata": {
    "collapsed": true
   },
   "outputs": [],
   "source": []
  }
 ],
 "metadata": {
  "kernelspec": {
   "display_name": "Python 3",
   "language": "python",
   "name": "python3"
  },
  "language_info": {
   "codemirror_mode": {
    "name": "ipython",
    "version": 3
   },
   "file_extension": ".py",
   "mimetype": "text/x-python",
   "name": "python",
   "nbconvert_exporter": "python",
   "pygments_lexer": "ipython3",
   "version": "3.6.3"
  }
 },
 "nbformat": 4,
 "nbformat_minor": 2
}
