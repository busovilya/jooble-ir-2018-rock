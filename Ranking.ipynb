{
 "cells": [
  {
   "cell_type": "code",
   "execution_count": null,
   "metadata": {},
   "outputs": [],
   "source": [
    "import json\n",
    "import numpy as np\n",
    "\n",
    "from flask import Flask, request"
   ]
  },
  {
   "cell_type": "code",
   "execution_count": null,
   "metadata": {},
   "outputs": [],
   "source": [
    "app = Flask(__name__)\n",
    "'''\n",
    "Service for ranking.\n",
    "Input - list with relevant docIDS, list with tokens \n",
    "from the query.\n",
    "Output - list with ranked docIDs.    \n",
    "\n",
    "Cosine between normalized tf_idf vector of query \n",
    "and normilized tf_idf vector of document is used for ranking.\n",
    "\n",
    "Before using this service for ranking you must create idf and\n",
    "normalized tf_idf from inverted index by using ReverseIndex Service.\n",
    "'''\n",
    "\n",
    "@app.route('/rank', methods =['POST'])\n",
    "def ranking():\n",
    "    j = request.json\n",
    "    # list with relevant docID:\n",
    "    documents = j['documents']\n",
    "    # list with tokens from the query:\n",
    "    words = j['words']\n",
    "    \n",
    "    # dictionary with tf_idf for query:\n",
    "    tf_idf_query = {term: idf[term] / len(set(words)) for term in words}\n",
    "    # normalization:\n",
    "    norm = (sum([i ** 2 for i in tf_idf_query.values()])) **.5\n",
    "    tf_idf_query = {term: tf_idf_query[term] / norm for term in words}\n",
    "    print('tf_idf_query', tf_idf_query)      \n",
    "   \n",
    "    cos = {key: 0 for key in documents}\n",
    "    for docID in documents:\n",
    "        print(tf_idf[str(docID)])\n",
    "        cos[docID] = sum([tf_idf_query[term] * tf_idf[str(docID)][term] \n",
    "                          for term in words])\n",
    "    print('cos', cos)\n",
    "    \n",
    "    # sorting documents\n",
    "    ranked = sorted(cos.items(), key=lambda kv: kv[1], reverse = True)\n",
    "    ranked = [d[0] for d in ranked]\n",
    "    print('ranked',ranked)\n",
    "      \n",
    "    return json.dumps({'status':'ok', 'ranked': ranked})\n",
    "\n",
    "@app.route(\"/rank/idf\", methods=['POST'])\n",
    "def refresh_idf():\n",
    "    '''\n",
    "    \n",
    "    idf = {term: idf}\n",
    "    \n",
    "    normalized tf_idf = {\n",
    "        docID1: {term1: tf_idf_docID1_term1, term2: tf_idf_docID1_term2, ...},\n",
    "        docID2: {term1: tf_idf_docID2_term1, term3: tf_idf_docID2_term3, ...}, \n",
    "        ...,\n",
    "        docIDn: {...}\n",
    "        }   \n",
    "    '''\n",
    "    global idf\n",
    "    global tf_idf\n",
    "    \n",
    "    j = request.json\n",
    "    idf = j['idf']\n",
    "    tf_idf = j['tf_idf']\n",
    "    return json.dumps({'status':'ok'})\n",
    "\n",
    "if __name__ == \"__main__\":\n",
    "    app.run(host='0.0.0.0', port=13541)"
   ]
  },
  {
   "cell_type": "code",
   "execution_count": null,
   "metadata": {},
   "outputs": [],
   "source": []
  }
 ],
 "metadata": {
  "kernelspec": {
   "display_name": "Python 3",
   "language": "python",
   "name": "python3"
  },
  "language_info": {
   "codemirror_mode": {
    "name": "ipython",
    "version": 3
   },
   "file_extension": ".py",
   "mimetype": "text/x-python",
   "name": "python",
   "nbconvert_exporter": "python",
   "pygments_lexer": "ipython3",
   "version": "3.7.0"
  }
 },
 "nbformat": 4,
 "nbformat_minor": 2
}
