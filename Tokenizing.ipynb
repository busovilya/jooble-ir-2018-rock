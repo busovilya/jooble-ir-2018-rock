{
 "cells": [
  {
   "cell_type": "code",
   "execution_count": null,
   "metadata": {},
   "outputs": [],
   "source": [
    "from flask import Flask\n",
    "from flask import request\n",
    "import json\n",
    "import requests\n",
    "import string\n",
    "from nltk.tokenize import word_tokenize\n",
    "\n",
    "app = Flask(__name__)\n",
    "\n",
    "@app.route(\"/analysis/tokenize\", methods=[\"POST\"])\n",
    "def test():\n",
    "    j = request.json\n",
    "    # guery's format - string\n",
    "    query = j['data']\n",
    "    \n",
    "    #Caution: when tokenizing a Unicode string, make sure\\\n",
    "    #you are not using an encoded version of the string (it may be necessary to\n",
    "    #decode it first, e.g. with ``s.decode(\"utf8\")``\n",
    "    t = word_tokenize(query)\n",
    "    \n",
    "    #to remove punctuations\n",
    "    t = [''.join(c for c in s if c not in string.punctuation) for s in t]\n",
    "    \n",
    "    #to remove the empty strings\n",
    "    t = [s for s in t if s]\n",
    "    return json.dumps({\"status\":\"ok\", \"got_data\":j, \"processed_data\": t})\n",
    "    \n",
    "\n",
    "if __name__ == \"__main__\":\n",
    "    app.run(host='0.0.0.0', port=13549)\n"
   ]
  }
 ],
 "metadata": {
  "kernelspec": {
   "display_name": "Python 3",
   "language": "python",
   "name": "python3"
  },
  "language_info": {
   "codemirror_mode": {
    "name": "ipython",
    "version": 3
   },
   "file_extension": ".py",
   "mimetype": "text/x-python",
   "name": "python",
   "nbconvert_exporter": "python",
   "pygments_lexer": "ipython3",
   "version": "3.7.0"
  }
 },
 "nbformat": 4,
 "nbformat_minor": 2
}
