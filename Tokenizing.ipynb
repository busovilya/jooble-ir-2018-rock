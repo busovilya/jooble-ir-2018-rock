{
 "cells": [
  {
   "cell_type": "code",
   "execution_count": null,
   "metadata": {},
   "outputs": [],
   "source": [
    "from flask import Flask\n",
    "from flask import request\n",
    "import json\n",
    "import requests\n",
    "import string\n",
    "from nltk.tokenize import word_tokenize, sent_tokenize\n",
    "\n",
    "app = Flask(__name__)\n",
    "\n",
    "'''\n",
    "This service tokenize recieved query\n",
    "'''\n",
    "\n",
    "@app.route(\"/analysis/tokenize\", methods=[\"POST\"])\n",
    "def tokenizing():\n",
    "    json_data = request.json\n",
    "    # guery's format - string\n",
    "    query = json_data['data']\n",
    "    query = query.lower()\n",
    "    \n",
    "    # create list of string, where each string - separate sentence\n",
    "    sentences = sent_tokenize(query)     \n",
    "    \n",
    "    # tokens - list of lists\n",
    "    tokens = [word_tokenize(s) for s in sentences]    \n",
    "    \n",
    "    # remove punctuation and split term like salesman-cashier into two\n",
    "    tokens = [[item for sublist in \n",
    "               [w.split('-') for w in sent if w not in string.punctuation] \n",
    "               for item in sublist] for sent in tokens]\n",
    "    \n",
    "    # remove empty string\n",
    "    tokens = [[w for w in sent if w] for sent in tokens]\n",
    "    \n",
    "    return json.dumps({\"status\":\"ok\", \"got_data\":query, \n",
    "                       \"processed_data\": tokens})\n",
    "    \n",
    "\n",
    "if __name__ == \"__main__\":\n",
    "    app.run(host='0.0.0.0', port=13549)"
   ]
  },
  {
   "cell_type": "code",
   "execution_count": null,
   "metadata": {},
   "outputs": [],
   "source": []
  }
 ],
 "metadata": {
  "kernelspec": {
   "display_name": "Python 3",
   "language": "python",
   "name": "python3"
  },
  "language_info": {
   "codemirror_mode": {
    "name": "ipython",
    "version": 3
   },
   "file_extension": ".py",
   "mimetype": "text/x-python",
   "name": "python",
   "nbconvert_exporter": "python",
   "pygments_lexer": "ipython3",
   "version": "3.7.0"
  }
 },
 "nbformat": 4,
 "nbformat_minor": 2
}
