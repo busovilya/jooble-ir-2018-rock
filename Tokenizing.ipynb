{
 "cells": [
  {
   "cell_type": "code",
   "execution_count": null,
   "metadata": {},
   "outputs": [],
   "source": [
    "import json\n",
    "import requests\n",
    "import string\n",
    "import re\n",
    "\n",
    "from flask import Flask\n",
    "from flask import request\n",
    "from nltk.tokenize import word_tokenize, sent_tokenize"
   ]
  },
  {
   "cell_type": "code",
   "execution_count": null,
   "metadata": {},
   "outputs": [],
   "source": [
    "app = Flask(__name__)\n",
    "\n",
    "'''\n",
    "This service tokenize recieved query\n",
    "'''\n",
    "\n",
    "@app.route(\"/analysis/tokenize\", methods=[\"POST\"])\n",
    "def tokenizing():\n",
    "    json_data = request.json\n",
    "    # guery's format - string\n",
    "    query = json_data['data']\n",
    "    \n",
    "    # create list of string, where each string - separate sentence\n",
    "    sentences = sent_tokenize(query)  \n",
    "\n",
    "    # tokens - list of lists, where each list - separate sentence\n",
    "    tokens = [word_tokenize(s.lower()) for s in sentences] \n",
    "     \n",
    "    # remove punctuation and split term like '~salesman*-cashier' into ['salesman','cashier']\n",
    "    tokens = [[item for sublist in\n",
    "               [re.findall(r\"[\\w]+\", word) for word in sent]\n",
    "               for item in sublist]\n",
    "              for sent in tokens]    \n",
    "    print(tokens)\n",
    "         \n",
    "    return json.dumps({\"status\":\"ok\", \"got_data\":query, \n",
    "                       \"processed_data\": tokens}, ensure_ascii=False)\n",
    "    \n",
    "\n",
    "if __name__ == \"__main__\":\n",
    "    app.run(host='0.0.0.0', port=13549)"
   ]
  },
  {
   "cell_type": "code",
   "execution_count": null,
   "metadata": {},
   "outputs": [],
   "source": []
  }
 ],
 "metadata": {
  "kernelspec": {
   "display_name": "Python 3",
   "language": "python",
   "name": "python3"
  },
  "language_info": {
   "codemirror_mode": {
    "name": "ipython",
    "version": 3
   },
   "file_extension": ".py",
   "mimetype": "text/x-python",
   "name": "python",
   "nbconvert_exporter": "python",
   "pygments_lexer": "ipython3",
   "version": "3.7.0"
  }
 },
 "nbformat": 4,
 "nbformat_minor": 2
}
