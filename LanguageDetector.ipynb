{
 "cells": [
  {
   "cell_type": "code",
   "execution_count": null,
   "metadata": {},
   "outputs": [
    {
     "name": "stderr",
     "output_type": "stream",
     "text": [
      " * Running on http://0.0.0.0:13534/ (Press CTRL+C to quit)\n",
<<<<<<< HEAD
      "127.0.0.1 - - [08/Nov/2018 09:13:11] \"POST /analysis/detector HTTP/1.1\" 200 -\n",
      "127.0.0.1 - - [08/Nov/2018 09:13:18] \"POST /analysis/detector HTTP/1.1\" 200 -\n",
      "127.0.0.1 - - [08/Nov/2018 09:13:28] \"POST /analysis/detector HTTP/1.1\" 200 -\n",
      "127.0.0.1 - - [08/Nov/2018 09:13:32] \"POST /analysis/detector HTTP/1.1\" 200 -\n",
      "127.0.0.1 - - [08/Nov/2018 09:13:38] \"POST /analysis/detector HTTP/1.1\" 200 -\n",
      "127.0.0.1 - - [08/Nov/2018 09:13:45] \"POST /analysis/detector HTTP/1.1\" 200 -\n",
      "127.0.0.1 - - [08/Nov/2018 09:13:54] \"POST /analysis/detector HTTP/1.1\" 200 -\n",
      "127.0.0.1 - - [08/Nov/2018 09:13:58] \"POST /analysis/detector HTTP/1.1\" 200 -\n",
      "127.0.0.1 - - [08/Nov/2018 09:19:36] \"POST /analysis/detector HTTP/1.1\" 200 -\n",
      "127.0.0.1 - - [08/Nov/2018 09:21:54] \"POST /analysis/detector HTTP/1.1\" 200 -\n",
      "127.0.0.1 - - [08/Nov/2018 09:22:02] \"POST /analysis/detector HTTP/1.1\" 200 -\n",
      "127.0.0.1 - - [08/Nov/2018 09:22:13] \"POST /analysis/detector HTTP/1.1\" 200 -\n",
      "127.0.0.1 - - [08/Nov/2018 09:22:17] \"POST /analysis/detector HTTP/1.1\" 200 -\n",
      "127.0.0.1 - - [08/Nov/2018 09:22:23] \"POST /analysis/detector HTTP/1.1\" 200 -\n",
      "127.0.0.1 - - [08/Nov/2018 09:22:30] \"POST /analysis/detector HTTP/1.1\" 200 -\n",
      "127.0.0.1 - - [08/Nov/2018 09:22:41] \"POST /analysis/detector HTTP/1.1\" 200 -\n",
      "127.0.0.1 - - [08/Nov/2018 09:22:46] \"POST /analysis/detector HTTP/1.1\" 200 -\n",
      "127.0.0.1 - - [08/Nov/2018 09:34:39] \"POST /analysis/detector HTTP/1.1\" 200 -\n",
      "127.0.0.1 - - [08/Nov/2018 09:34:46] \"POST /analysis/detector HTTP/1.1\" 200 -\n",
      "127.0.0.1 - - [08/Nov/2018 09:34:55] \"POST /analysis/detector HTTP/1.1\" 200 -\n",
      "127.0.0.1 - - [08/Nov/2018 09:34:59] \"POST /analysis/detector HTTP/1.1\" 200 -\n",
      "127.0.0.1 - - [08/Nov/2018 09:35:05] \"POST /analysis/detector HTTP/1.1\" 200 -\n",
      "127.0.0.1 - - [08/Nov/2018 09:35:12] \"POST /analysis/detector HTTP/1.1\" 200 -\n",
      "127.0.0.1 - - [08/Nov/2018 09:35:22] \"POST /analysis/detector HTTP/1.1\" 200 -\n",
      "127.0.0.1 - - [08/Nov/2018 09:35:27] \"POST /analysis/detector HTTP/1.1\" 200 -\n"
=======
      "127.0.0.1 - - [08/Nov/2018 16:02:26] \"POST /analysis/detector HTTP/1.1\" 200 -\n",
      "127.0.0.1 - - [08/Nov/2018 17:03:48] \"POST /analysis/detector HTTP/1.1\" 200 -\n",
      "127.0.0.1 - - [08/Nov/2018 17:04:39] \"POST /analysis/detector HTTP/1.1\" 200 -\n"
>>>>>>> master
     ]
    }
   ],
   "source": [
    "from flask import Flask, request\n",
    "import json\n",
    "from nltk.classify.textcat import TextCat\n",
    "\n",
    "app = Flask(__name__)\n",
    " \n",
    "\n",
    "@app.route('/analysis/detector', methods =['POST'])\n",
    "def detector():\n",
    "    j = request.json\n",
    "    # receive guery in string format\n",
    "    query = j['data']\n",
    "    \n",
    "    #method \n",
    "    #tc = TextCat()           \n",
    "    lang = 'eng'#tc.guess_language(query)\n",
    "    \n",
    "    #method with TextBlob. You may have to \"pip install regx\" (If you want to use TextBlob method )\n",
    "    #b = TextBlob(query)\n",
    "    #lang = detect_language()\n",
    "    \n",
    "    return json.dumps({\"status\":\"ok\", \"got_data\": j[\"data\"], \"language\":lang})\n",
    "    \n",
    "\n",
    "if __name__ == \"__main__\":\n",
    "    app.run(host='0.0.0.0', port=13534)"
   ]
  },
  {
   "cell_type": "code",
   "execution_count": null,
   "metadata": {
    "collapsed": true
   },
   "outputs": [],
   "source": []
  }
 ],
 "metadata": {
  "kernelspec": {
   "display_name": "Python 3",
   "language": "python",
   "name": "python3"
  },
  "language_info": {
   "codemirror_mode": {
    "name": "ipython",
    "version": 3
   },
   "file_extension": ".py",
   "mimetype": "text/x-python",
   "name": "python",
   "nbconvert_exporter": "python",
   "pygments_lexer": "ipython3",
   "version": "3.6.3"
  }
 },
 "nbformat": 4,
 "nbformat_minor": 2
}
