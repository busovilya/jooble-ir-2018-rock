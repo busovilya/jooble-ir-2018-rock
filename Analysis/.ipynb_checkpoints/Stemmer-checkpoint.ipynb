{
 "cells": [
  {
   "cell_type": "code",
   "execution_count": null,
   "metadata": {},
   "outputs": [],
   "source": [
    "from flask import Flask\n",
    "from flask import request\n",
    "import nltk.stem.porter as stemmer\n",
    "import json\n",
    "import requests\n",
    "\n",
    "app = Flask(__name__)\n",
    "\n",
    "\n",
    "@app.route(\"/analysis/stemmer\", methods=[\"POST\"])\n",
    "def test():\n",
    "    j = request.json\n",
    "    data = j['data']\n",
    "    #language_detection = requests.post('http://127.0.0.1:13534/analysis/detector', json={'data' : data})\n",
    "    #leng = json.loads(language_detection.text)['language']\n",
    "    #now languageDetector is requested from Analyze\n",
    "    s = stemmer.PorterStemmer()\n",
    "    return json.dumps({\"status\":\"ok\", \"got_data\":j, \"processed_data\": list(map(s.stem, data))})\n",
    "    \n",
    "\n",
    "if __name__ == \"__main__\":\n",
    "    app.run(host='0.0.0.0', port=13535)"
   ]
  }
 ],
 "metadata": {
  "kernelspec": {
   "display_name": "Python 3",
   "language": "python",
   "name": "python3"
  },
  "language_info": {
   "codemirror_mode": {
    "name": "ipython",
    "version": 3
   },
   "file_extension": ".py",
   "mimetype": "text/x-python",
   "name": "python",
   "nbconvert_exporter": "python",
   "pygments_lexer": "ipython3",
   "version": "3.6.4"
  }
 },
 "nbformat": 4,
 "nbformat_minor": 2
}
