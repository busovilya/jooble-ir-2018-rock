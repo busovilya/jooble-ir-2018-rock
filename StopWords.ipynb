{
 "cells": [
  {
   "cell_type": "code",
   "execution_count": null,
   "metadata": {},
   "outputs": [
    {
     "name": "stdout",
     "output_type": "stream",
     "text": [
      " * Serving Flask app \"__main__\" (lazy loading)\n",
      " * Environment: production\n",
      "   WARNING: Do not use the development server in a production environment.\n",
      "   Use a production WSGI server instead.\n",
      " * Debug mode: off\n"
     ]
    },
    {
     "name": "stderr",
     "output_type": "stream",
     "text": [
      " * Running on http://0.0.0.0:13536/ (Press CTRL+C to quit)\n",
      "127.0.0.1 - - [04/Nov/2018 01:28:47] \"POST /analysis/stopwords HTTP/1.1\" 200 -\n"
     ]
    },
    {
     "name": "stdout",
     "output_type": "stream",
     "text": [
      "eng\n"
     ]
    }
   ],
   "source": [
    "from flask import Flask\n",
    "from flask import request\n",
    "import json\n",
    "import requests\n",
    "from nltk.corpus import stopwords\n",
    "\n",
    "app = Flask(__name__)\n",
    "\n",
    "\n",
    "@app.route(\"/analysis/stopwords\", methods=[\"POST\"])\n",
    "def stopwords_function():\n",
    "    j = request.json\n",
    "    data = j['data']\n",
    "    lang = j['language']\n",
    "       \n",
    "    friendly = {'eng': 'english', 'rus': 'russian', 'deu':'german','fra': 'french', 'lad':'spanish',\n",
    "                'por':'portuguese', 'ita':'italian','ell':'greek',\n",
    "                'nob':'norwegian', 'dan':'danish','nld':'dutch', 'swe':'swedish'}\n",
    "    \n",
    "    # using stop words from nltk for different language\n",
    "    stop_words = set(stopwords.words(friendly[lang]))\n",
    "    without_stop_words = [w for w in data if not w in stop_words]\n",
    "    \n",
    "    return json.dumps({\"status\":\"ok\", \"got_data\":data, \"processed_data\": without_stop_words})\n",
    "    \n",
    "\n",
    "if __name__ == \"__main__\":\n",
    "    app.run(host='0.0.0.0', port=13536)"
   ]
  },
  {
   "cell_type": "code",
   "execution_count": null,
   "metadata": {},
   "outputs": [],
   "source": []
  },
  {
   "cell_type": "code",
   "execution_count": null,
   "metadata": {},
   "outputs": [],
   "source": []
  }
 ],
 "metadata": {
  "kernelspec": {
   "display_name": "Python 3",
   "language": "python",
   "name": "python3"
  },
  "language_info": {
   "codemirror_mode": {
    "name": "ipython",
    "version": 3
   },
   "file_extension": ".py",
   "mimetype": "text/x-python",
   "name": "python",
   "nbconvert_exporter": "python",
   "pygments_lexer": "ipython3",
   "version": "3.7.0"
  }
 },
 "nbformat": 4,
 "nbformat_minor": 2
}
