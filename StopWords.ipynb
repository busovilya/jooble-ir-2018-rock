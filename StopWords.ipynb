{
 "cells": [
  {
   "cell_type": "code",
   "execution_count": null,
   "metadata": {},
   "outputs": [],
   "source": [
    "from flask import Flask\n",
    "from flask import request\n",
    "import json\n",
    "import requests\n",
    "from nltk.corpus import stopwords\n",
    "\n",
    "app = Flask(__name__)\n",
    "\n",
    "\n",
    "@app.route(\"/analysis/stopwords\", methods=[\"POST\"])\n",
    "def stopwords_function():\n",
    "    j = request.json\n",
    "    data = j['data']\n",
    "    lang = j['language']         \n",
    "        \n",
    "    heuristics = ['нужна', 'нужен', 'требуется', 'ищу', 'ищем', 'работа', 'работу','приглашаем']\n",
    "    \n",
    "    # using stop words from nltk for different language\n",
    "    stop_words = set(stopwords.words(lang) + heuristics)\n",
    "    # create list of lists, where each nested list - separate sentence\n",
    "    without_stop_words = [[w for w in lst if not w in stop_words] for lst in data]\n",
    "\n",
    "    \n",
    "    return json.dumps({\"status\":\"ok\", \"got_data\":data, \"processed_data\": without_stop_words})\n",
    "    \n",
    "\n",
    "if __name__ == \"__main__\":\n",
    "    app.run(host='0.0.0.0', port=13536)"
   ]
  },
  {
   "cell_type": "code",
   "execution_count": null,
   "metadata": {},
   "outputs": [],
   "source": []
  }
 ],
 "metadata": {
  "kernelspec": {
   "display_name": "Python 3",
   "language": "python",
   "name": "python3"
  },
  "language_info": {
   "codemirror_mode": {
    "name": "ipython",
    "version": 3
   },
   "file_extension": ".py",
   "mimetype": "text/x-python",
   "name": "python",
   "nbconvert_exporter": "python",
   "pygments_lexer": "ipython3",
   "version": "3.7.0"
  }
 },
 "nbformat": 4,
 "nbformat_minor": 2
}
