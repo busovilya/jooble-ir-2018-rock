{
 "cells": [
  {
   "cell_type": "code",
   "execution_count": 1,
   "metadata": {},
   "outputs": [],
   "source": [
    "import requests\n",
    "import json\n",
    "\n",
    "from flask import Flask, render_template\n",
    "from flask import request"
   ]
  },
  {
   "cell_type": "code",
   "execution_count": 2,
   "metadata": {},
   "outputs": [],
   "source": [
    "def rendering(query = None, category = None):\n",
    "    print('rendering:',query, category)\n",
    "    if query is not None:\n",
    "        print('query isnt none')\n",
    "        response_checker = requests.post('http://127.0.0.1:13539/spellchecker',\n",
    "                                         json={'query': query})\n",
    "        parsed_checker = json.loads(response_checker.text)\n",
    "\n",
    "        if parsed_checker['state']:\n",
    "            # if checker found mistakes in the query\n",
    "            r = requests.post('http://127.0.0.1:13565/search', \n",
    "                              json={'query': parsed_checker[\"processed_data\"], \n",
    "                                    'category': category,\n",
    "                                    'max_docs': 10}).json()[\"documents\"]\n",
    "            if len(r) == 0:\n",
    "                return render_template('blank.html', old_query=query)\n",
    "            title = [doc['title'] for doc in r]\n",
    "            url = [doc['url'] for doc in r]\n",
    "            snippet = [doc['snippet'] +' (' + str(doc['id']) +')' for doc in r]\n",
    "            print(snippet)\n",
    "\n",
    "            return render_template('checked.html', old_query=query,\n",
    "                                   checked_query=parsed_checker[\"processed_data\"],\n",
    "                                   title=title, url=url, snippet=snippet)\n",
    "        else:\n",
    "            r = requests.post('http://127.0.0.1:13565/search', \n",
    "                              json={'query': query, 'category': category, \n",
    "                                    'max_docs': 10}).json()[\"documents\"]\n",
    "            if len(r) == 0:\n",
    "                return render_template('blank.html', old_query=query)\n",
    "            title = [doc['title'] for doc in r]\n",
    "            url = [doc['url'] for doc in r]\n",
    "            snippet = [doc['snippet'] +' (' + str(doc['id']) +')' for doc in r]\n",
    "            print(snippet)\n",
    "\n",
    "            return render_template('result.html', old_query=query, \n",
    "                                   query=query,title=title, url=url, \n",
    "                                   snippet=snippet)\n",
    "        \n",
    "    else:\n",
    "        print('query is none')\n",
    "        r = requests.post('http://127.0.0.1:13565/search', \n",
    "                              json={'query': None, 'category': category,\n",
    "                                    'max_docs': 10}).json()[\"documents\"]\n",
    "        \n",
    "        title = [doc['title'] for doc in r]\n",
    "        url = [doc['url'] for doc in r]\n",
    "        snippet = [doc['snippet'] +' (' + str(doc['id']) +')' for doc in r]\n",
    "\n",
    "        return render_template('result.html', old_query=query,\n",
    "                               checked_query=parsed_checker[\"processed_data\"],\n",
    "                               title=title, url=url, snippet=snippet)"
   ]
  },
  {
   "cell_type": "code",
   "execution_count": null,
   "metadata": {},
   "outputs": [
    {
     "name": "stdout",
     "output_type": "stream",
     "text": [
      " * Serving Flask app \"__main__\" (lazy loading)\n",
      " * Environment: production\n",
      "   WARNING: Do not use the development server in a production environment.\n",
      "   Use a production WSGI server instead.\n",
      " * Debug mode: off\n"
     ]
    },
    {
     "name": "stderr",
     "output_type": "stream",
     "text": [
      " * Running on http://127.0.0.1:13560/ (Press CTRL+C to quit)\n",
      "127.0.0.1 - - [09/Dec/2018 12:08:00] \"GET / HTTP/1.1\" 200 -\n",
      "127.0.0.1 - - [09/Dec/2018 12:08:00] \"GET /static/style.css HTTP/1.1\" 404 -\n"
     ]
    },
    {
     "name": "stdout",
     "output_type": "stream",
     "text": [
      "rendering: программист None\n",
      "query isnt none\n"
     ]
    },
    {
     "name": "stderr",
     "output_type": "stream",
     "text": [
      "[2018-12-09 12:08:04,574] ERROR in app: Exception on /search [POST]\n",
      "Traceback (most recent call last):\n",
      "  File \"C:\\Users\\busov\\Anaconda3\\lib\\site-packages\\flask\\app.py\", line 2292, in wsgi_app\n",
      "    response = self.full_dispatch_request()\n",
      "  File \"C:\\Users\\busov\\Anaconda3\\lib\\site-packages\\flask\\app.py\", line 1815, in full_dispatch_request\n",
      "    rv = self.handle_user_exception(e)\n",
      "  File \"C:\\Users\\busov\\Anaconda3\\lib\\site-packages\\flask\\app.py\", line 1718, in handle_user_exception\n",
      "    reraise(exc_type, exc_value, tb)\n",
      "  File \"C:\\Users\\busov\\Anaconda3\\lib\\site-packages\\flask\\_compat.py\", line 35, in reraise\n",
      "    raise value\n",
      "  File \"C:\\Users\\busov\\Anaconda3\\lib\\site-packages\\flask\\app.py\", line 1813, in full_dispatch_request\n",
      "    rv = self.dispatch_request()\n",
      "  File \"C:\\Users\\busov\\Anaconda3\\lib\\site-packages\\flask\\app.py\", line 1799, in dispatch_request\n",
      "    return self.view_functions[rule.endpoint](**req.view_args)\n",
      "  File \"<ipython-input-3-7efb0ffdc7e6>\", line 19, in search\n",
      "    result = rendering(query=query)\n",
      "  File \"<ipython-input-2-2ccba1ee67f5>\", line 28, in rendering\n",
      "    'max_docs': 10}).json()[\"documents\"]\n",
      "  File \"C:\\Users\\busov\\Anaconda3\\lib\\site-packages\\requests\\models.py\", line 896, in json\n",
      "    return complexjson.loads(self.text, **kwargs)\n",
      "  File \"C:\\Users\\busov\\Anaconda3\\lib\\json\\__init__.py\", line 348, in loads\n",
      "    return _default_decoder.decode(s)\n",
      "  File \"C:\\Users\\busov\\Anaconda3\\lib\\json\\decoder.py\", line 337, in decode\n",
      "    obj, end = self.raw_decode(s, idx=_w(s, 0).end())\n",
      "  File \"C:\\Users\\busov\\Anaconda3\\lib\\json\\decoder.py\", line 355, in raw_decode\n",
      "    raise JSONDecodeError(\"Expecting value\", s, err.value) from None\n",
      "json.decoder.JSONDecodeError: Expecting value: line 1 column 1 (char 0)\n",
      "127.0.0.1 - - [09/Dec/2018 12:08:04] \"POST /search HTTP/1.1\" 500 -\n",
      "127.0.0.1 - - [09/Dec/2018 12:08:04] \"POST /search HTTP/1.1\" 200 -\n"
     ]
    },
    {
     "name": "stdout",
     "output_type": "stream",
     "text": [
      "rendering: программист None\n",
      "query isnt none\n",
      "['не виджет (7358703381408928598)', 'Необходимо скачать, изменить платежные реквизиты,название сайт и загрузить на новый хостинг с новым доменом! (-5056369421223872223)', 'Создание последовательность в галереи с аудио и визаульными эффектами\\r\\nкак в powerpoint. (5486986853987679144)', 'Есть сайт с форумом на bbpress. (9215076518035403589)', 'Есть сайт, на нем форма с кнопкой заказать. (-6785272277285658041)', 'Члены приложения могут регистрировать себя по номеру телефона и подтверждать регистрацию по СМС, далее они могут видеть друг друга на карте, как иконки синхронизированные с Google Maps модулем, также переписываться с друг другом, посылать запросы в друзья и добавлять в друзья друг друга. (5855289697273586582)', 'Специфика работы предприятия:\\r\\nIT, программисты и консультанты, достаточно сложная и постоянно меняющаяся отрасль, подробную должностную инструкцию создать невозможно, только в общих чертах. (1575454953891638548)']\n"
     ]
    },
    {
     "name": "stderr",
     "output_type": "stream",
     "text": [
      "127.0.0.1 - - [09/Dec/2018 12:08:04] \"GET /static/style.css HTTP/1.1\" 404 -\n",
      "127.0.0.1 - - [09/Dec/2018 12:08:09] \"POST /search HTTP/1.1\" 200 -\n",
      "127.0.0.1 - - [09/Dec/2018 12:08:10] \"GET /static/style.css HTTP/1.1\" 404 -\n"
     ]
    },
    {
     "name": "stdout",
     "output_type": "stream",
     "text": [
      "rendering: водитель Производство\n",
      "query isnt none\n"
     ]
    },
    {
     "name": "stderr",
     "output_type": "stream",
     "text": [
      "127.0.0.1 - - [09/Dec/2018 12:08:14] \"POST /search HTTP/1.1\" 200 -\n",
      "127.0.0.1 - - [09/Dec/2018 12:08:14] \"GET /static/style.css HTTP/1.1\" 404 -\n"
     ]
    },
    {
     "name": "stdout",
     "output_type": "stream",
     "text": [
      "rendering: водитель Транспорт, логистика\n",
      "query isnt none\n",
      "['Требования к кандидату\\r\\r\\nОбразование\\r\\r\\n~ОБЩЕЕ СРЕДНЕЕ\\r\\r\\n\\r\\r\\n\\r\\r\\nДополнительные требования\\r\\r\\n~водитель автобуса МАЗ 251 кат.Д, непрерывный стаж водителя кат.Д не менее 3 лет\\r\\r\\n\\r\\r\\n\\r\\r\\n Сведения о нанимателе\\r\\r\\nМинская областная комплексная ДЮСШ \"Олимпик-2011\"\\r\\r\\nАдрес\\r\\r\\n~Минская область, г. Молодечно, , ул. (-5106661011727278216)', '. (-2739712980812332939)', 'Водитель Uber с личным автомобилем\\r\\r\\nПриглашаем водителей с личным авто для работы с Uber. (9070065374789539172)', 'НЕВЕРОЯТНО выгодные условия аренды, гибкий график работы (в соответствии с желаниями каждого водителя), ОФИЦИАЛЬНОЕ ТРУДОУСТРОЙСТВО (полный соц. (-8675281324665670302)', 'Дзержинского 8а, Требуются водители на новые авто предприятия. (-3672194650572532362)']\n"
     ]
    }
   ],
   "source": [
    "app = Flask(__name__)\n",
    "  \n",
    "\n",
    "@app.route('/')\n",
    "def index():\n",
    "    return render_template('search.html')\n",
    "\n",
    "@app.route('/search', methods=['POST'])\n",
    "def search():\n",
    "    \n",
    "    formData = request.values if request.method == \"POST\" else request.values\n",
    "    query = formData['query']\n",
    "    category = formData['category']   \n",
    "    \n",
    "    if not query and category == 'none':\n",
    "        return render_template('blank.html', old_query=query)\n",
    "    else:\n",
    "        if query and category == 'none':\n",
    "            result = rendering(query=query)        \n",
    "        if not query and category != 'none':\n",
    "            result = rendering(category=category)\n",
    "        if query and category != 'none':\n",
    "            result = rendering(query=query, category=category)    \n",
    "    \n",
    "    return result\n",
    "\n",
    "if __name__ == '__main__':\n",
    "    app.run(host='127.0.0.1', port=13560)"
   ]
  }
 ],
 "metadata": {
  "kernelspec": {
   "display_name": "Python 3",
   "language": "python",
   "name": "python3"
  },
  "language_info": {
   "codemirror_mode": {
    "name": "ipython",
    "version": 3
   },
   "file_extension": ".py",
   "mimetype": "text/x-python",
   "name": "python",
   "nbconvert_exporter": "python",
   "pygments_lexer": "ipython3",
   "version": "3.7.0"
  }
 },
 "nbformat": 4,
 "nbformat_minor": 2
}
