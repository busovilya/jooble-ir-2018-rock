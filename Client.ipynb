{
 "cells": [
  {
   "cell_type": "code",
   "execution_count": 3,
   "metadata": {},
   "outputs": [
    {
     "name": "stdout",
     "output_type": "stream",
     "text": [
      "200\n",
      "{\"status\": \"ok\", \"documents\": [{\"doc_id\": 43, \"word_info\": {\"w1\": 1, \"w2\": 2}}, {\"doc_id\": 87, \"word_info\": {\"w1\": 1, \"w2\": 2}}], \"snippets\": [{\"doc_id\": 43, \"snippet\": \"some text\"}, {\"doc_id\": 87, \"snippet\": \"some text\"}]}\n"
     ]
    }
   ],
   "source": [
    "import requests\n",
    "\n",
    "content = 'looking for job'\n",
    "\n",
    "r = requests.post('http://127.0.0.1:13565/search', json={'query' : content})\n",
    "print(r.status_code)\n",
    "print(r.text)"
   ]
  },
  {
   "cell_type": "code",
   "execution_count": null,
   "metadata": {
    "collapsed": true
   },
   "outputs": [],
   "source": []
  }
 ],
 "metadata": {
  "kernelspec": {
   "display_name": "Python 3",
   "language": "python",
   "name": "python3"
  },
  "language_info": {
   "codemirror_mode": {
    "name": "ipython",
    "version": 3
   },
   "file_extension": ".py",
   "mimetype": "text/x-python",
   "name": "python",
   "nbconvert_exporter": "python",
   "pygments_lexer": "ipython3",
   "version": "3.6.4"
  }
 },
 "nbformat": 4,
 "nbformat_minor": 2
}
