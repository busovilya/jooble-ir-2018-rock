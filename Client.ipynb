{
 "cells": [
  {
   "cell_type": "code",
   "execution_count": 3,
   "metadata": {},
   "outputs": [],
   "source": [
    "import requests\n",
    "\n",
    "#r = requests.post('http://127.0.0.1:13538/reverseindex/add')\n",
    "#print(r.status_code)"
   ]
  },
  {
   "cell_type": "code",
   "execution_count": 25,
   "metadata": {},
   "outputs": [
    {
     "name": "stdout",
     "output_type": "stream",
     "text": [
      "200\n",
      "{\"status\": \"ok\", \"documents\": [{\"id\": \"-1783178256216189450\", \"title\": \"Водитель автомобиля\", \"url\": \"http://hrodna.regiony.by/работа/вакансии/#!jobs/174692\", \"snippet\": \"Образование:Общее среднееХарактер работы:ПостояннаяЗарплата:133.00 руб.Вакансия:Водитель автомобиля (0,5 ставки, водитель категории \\\"Д\\\")Адрес:Гродненская область, г. Зельва, , Пушкина, 49Телефоны:8(01564)2-39-34\"}, {\"id\": \"-5676106156117408935\", \"title\": \"Водитель такси\", \"url\": \"http://rabota.by/vacancy/view/604984/\", \"snippet\": \"Организация с 9-ти летним стажем приглашает водителей с личными автомобилями на работу в такси г. Минска.\"}, {\"id\": \"-5602031887149969505\", \"title\": \"Водитель-международник\", \"url\": \"https://mogilev.jobs.tut.by/vacancy/19421504\", \"snippet\": \"Условия:\\r\\n~официальное оформление;\\r\\n~своевременная выплаты заработной платы;\\r\\n~содействие в оформление виз и медицинской страховки;\\r\\n~обеспечение круглосуточной информационной поддержки и консультирование водителя в рейсе.\"}, {\"id\": \"-6640320355000523085\", \"title\": \"водитель С вахта проживание\", \"url\": \"http://slanet.by/voditel_S_vahta_prozhivanie/~6456850/~487/\", \"snippet\": \"\\r\\n Срочно требуются водители кат.\"}]}\n"
     ]
    }
   ],
   "source": [
    "import requests\n",
    "\n",
    "content = 'водитель'\n",
    "\n",
    "r = requests.post('http://127.0.0.1:13565/search', json={'query' : content})\n",
    "print(r.status_code)\n",
    "print(r.text)"
   ]
  }
 ],
 "metadata": {
  "kernelspec": {
   "display_name": "Python 3",
   "language": "python",
   "name": "python3"
  },
  "language_info": {
   "codemirror_mode": {
    "name": "ipython",
    "version": 3
   },
   "file_extension": ".py",
   "mimetype": "text/x-python",
   "name": "python",
   "nbconvert_exporter": "python",
   "pygments_lexer": "ipython3",
   "version": "3.7.0"
  }
 },
 "nbformat": 4,
 "nbformat_minor": 2
}
