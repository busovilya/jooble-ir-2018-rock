{
 "cells": [
  {
   "cell_type": "code",
   "execution_count": 6,
   "metadata": {},
   "outputs": [
    {
     "name": "stdout",
     "output_type": "stream",
     "text": [
      "200\n",
      "{\"status\": \"ok\", \"documents\": [{\"id\": 9477456, \"snippet\": \"Ищем водителя на подработку со своим л/а (не кажды\"}, {\"id\": 7284024, \"snippet\": \"Просим внимательно и полностью прочитать текст вак\"}, {\"id\": 1794250, \"snippet\": \"Компания, занимающаяся предоставлением услуг в сфе\"}, {\"id\": 3119780, \"snippet\": \"Ищем водителя в почтовую компанию для работы на ав\"}, {\"id\": 2495750, \"snippet\": \"Не любишь сидеть на одном месте? Ищешь работу в св\"}, {\"id\": 9120694, \"snippet\": \"Рекламная компания, объявляет конкурс на замещение\"}, {\"id\": 9822035, \"snippet\": \"Просим внимательно и полностью прочитать текст вак\"}, {\"id\": 9386922, \"snippet\": \"Компания импортер овощной и мясной продукции пригл\"}, {\"id\": 324804, \"snippet\": \"Компания HRTop.xyz ищет Водителя на автомобиль фир\"}, {\"id\": 9654542, \"snippet\": \"Обязанности: Мы ищем водителя, который: Бережно до\"}]}\n"
     ]
    }
   ],
   "source": [
    "import requests\n",
    "\n",
    "content = 'ищем водителя'\n",
    "\n",
    "r = requests.post('http://127.0.0.1:13565/search', json={'query' : content, 'max_docs': 10})\n",
    "print(r.status_code)\n",
    "print(r.text)"
   ]
  },
  {
   "cell_type": "code",
   "execution_count": null,
   "metadata": {
    "collapsed": true
   },
   "outputs": [],
   "source": []
  }
 ],
 "metadata": {
  "kernelspec": {
   "display_name": "Python 3",
   "language": "python",
   "name": "python3"
  },
  "language_info": {
   "codemirror_mode": {
    "name": "ipython",
    "version": 3
   },
   "file_extension": ".py",
   "mimetype": "text/x-python",
   "name": "python",
   "nbconvert_exporter": "python",
   "pygments_lexer": "ipython3",
   "version": "3.7.0"
  }
 },
 "nbformat": 4,
 "nbformat_minor": 2
}
