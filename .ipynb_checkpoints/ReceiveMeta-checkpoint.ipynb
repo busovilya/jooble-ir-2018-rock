{
 "cells": [
  {
   "cell_type": "code",
   "execution_count": null,
   "metadata": {},
   "outputs": [],
   "source": [
    "from flask import Flask, request\n",
    "import json\n",
    "\n",
    "app = Flask(__name__)\n",
    "\n",
    "\n",
    "@app.route('/meta', methods =['POST'])\n",
    "def getmeta():\n",
    "    return request.headers\n",
    "\n",
<<<<<<< HEAD:.ipynb_checkpoints/ReceiveMeta-checkpoint.ipynb
    "if __name__ == \"__main__\":\n",
    "    app.run(host='0.0.0.0', port=13537)"
=======
    "@app.route('/search', methods=['POST'])\n",
    "def search():\n",
    "    form = SearchForm(request.form)\n",
    "    if request.method == 'POST' and form.validate():\n",
    "        query = request.form['query']\n",
    "        r = requests.post('http://127.0.0.1:13565/search', json={'query' : query, 'max_docs': 10}).json()['documents']\n",
    "        r = [doc['snippet']+' ('+ str(doc['id'])+')' for doc in r]\n",
    "        return render_template('result.html', result=r, form=form)\n",
    "    return render_template('search.html', form=form)\n",
    "\n",
    "if __name__ == '__main__':\n",
    "    #app.jinja_env.auto_reload = True\n",
    "    #app.config['TEMPLATES_AUTO_RELOAD'] = True\n",
    "    app.run(host='127.0.0.1', port=13560)"
>>>>>>> parent of e7fb308... Comments added:Client_UI.ipynb
   ]
  },
  {
   "cell_type": "code",
   "execution_count": null,
   "metadata": {},
   "outputs": [],
   "source": []
  }
 ],
 "metadata": {
  "kernelspec": {
   "display_name": "Python 3",
   "language": "python",
   "name": "python3"
  },
  "language_info": {
   "codemirror_mode": {
    "name": "ipython",
    "version": 3
   },
   "file_extension": ".py",
   "mimetype": "text/x-python",
   "name": "python",
   "nbconvert_exporter": "python",
   "pygments_lexer": "ipython3",
   "version": "3.7.0"
  }
 },
 "nbformat": 4,
 "nbformat_minor": 2
}
