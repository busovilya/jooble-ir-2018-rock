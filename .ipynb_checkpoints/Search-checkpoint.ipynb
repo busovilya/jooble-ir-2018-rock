{
 "cells": [
  {
   "cell_type": "code",
   "execution_count": null,
   "metadata": {},
   "outputs": [
    {
     "name": "stderr",
     "output_type": "stream",
     "text": [
      " * Running on http://0.0.0.0:13565/ (Press CTRL+C to quit)\n",
      "127.0.0.1 - - [08/Nov/2018 18:25:05] \"POST /search HTTP/1.1\" 200 -\n"
     ]
    },
    {
     "name": "stdout",
     "output_type": "stream",
     "text": [
      "{'status': 'ok', 'words': ['водител'], 'language': 'eng'}\n",
      "[{'id': 172044, 'snippet': 'яндекс такси это крупнейш в росси сервис котор отк'}, {'id': 172044, 'snippet': 'яндекс такси это крупнейш в росси сервис котор отк'}, {'id': 1204227, 'snippet': 'требован ответственност коммуникабельност стрессоу'}, {'id': 172044, 'snippet': 'яндекс такси это крупнейш в росси сервис котор отк'}, {'id': 8167440, 'snippet': 'круп курьерск компан курьер сервис экспресс пригла'}, {'id': 9617421, 'snippet': 'наш компан явля официал прям партнер служб яндекс '}, {'id': 172044, 'snippet': 'яндекс такси это крупнейш в росси сервис котор отк'}, {'id': 49163, 'snippet': 'должност обязанност яндекс такси это крупнейш в ро'}, {'id': 1400845, 'snippet': 'объедин компан dpd spsr express объявля конкурс на'}, {'id': 5070850, 'snippet': 'услов компан приглаша водител для работ в такси ge'}, {'id': 49163, 'snippet': 'должност обязанност яндекс такси это крупнейш в ро'}, {'id': 671746, 'snippet': 'на работ требуется водител кат bc строител материа'}, {'id': 1409041, 'snippet': 'обязанност достав и получен товар соглас дан маршр'}, {'id': 7798786, 'snippet': 'в извест магазин сушисет в г московск 3 микрорайон'}, {'id': 172044, 'snippet': 'яндекс такси это крупнейш в росси сервис котор отк'}]\n"
     ]
    },
    {
     "name": "stderr",
     "output_type": "stream",
     "text": [
      "127.0.0.1 - - [08/Nov/2018 18:25:09] \"POST /search HTTP/1.1\" 200 -\n"
     ]
    },
    {
     "name": "stdout",
     "output_type": "stream",
     "text": [
      "{'status': 'ok', 'words': ['водител'], 'language': 'eng'}\n",
      "[{'id': 5070850, 'snippet': 'услов компан приглаша водител для работ в такси ge'}]\n"
     ]
    },
    {
     "name": "stderr",
     "output_type": "stream",
     "text": [
      "127.0.0.1 - - [08/Nov/2018 18:25:22] \"POST /search HTTP/1.1\" 200 -\n"
     ]
    },
    {
     "name": "stdout",
     "output_type": "stream",
     "text": [
      "{'status': 'ok', 'words': ['водител', 'машина'], 'language': 'eng'}\n",
      "[]\n"
     ]
    },
    {
     "name": "stderr",
     "output_type": "stream",
     "text": [
      "127.0.0.1 - - [08/Nov/2018 18:25:26] \"POST /search HTTP/1.1\" 200 -\n"
     ]
    },
    {
     "name": "stdout",
     "output_type": "stream",
     "text": [
      "{'status': 'ok', 'words': ['водител', 'машин'], 'language': 'eng'}\n",
      "[{'id': 9239040, 'snippet': 'основ обязанност больш част работ с обувь сбор обу'}]\n"
     ]
    },
    {
     "name": "stderr",
     "output_type": "stream",
     "text": [
      "127.0.0.1 - - [08/Nov/2018 18:25:43] \"POST /search HTTP/1.1\" 200 -\n"
     ]
    },
    {
     "name": "stdout",
     "output_type": "stream",
     "text": [
      "{'status': 'ok', 'words': ['водител', 'курьер'], 'language': 'eng'}\n",
      "[{'id': 7798786, 'snippet': 'в извест магазин сушисет в г московск 3 микрорайон'}]\n"
     ]
    },
    {
     "name": "stderr",
     "output_type": "stream",
     "text": [
      "127.0.0.1 - - [08/Nov/2018 18:25:46] \"POST /search HTTP/1.1\" 200 -\n"
     ]
    },
    {
     "name": "stdout",
     "output_type": "stream",
     "text": [
      "{'status': 'ok', 'words': ['водител', 'курьер'], 'language': 'eng'}\n",
      "[{'id': 5242898, 'snippet': 'компан примет водител курьер с лич автомобил обяза'}, {'id': 2539544, 'snippet': 'водител курьер в служб достав мелких пакет со свои'}, {'id': 3178526, 'snippet': 'в компан требуется водител курьер ответственност в'}, {'id': 6406164, 'snippet': 'в связ с расширен рознич сет компан sushi do требу'}, {'id': 5242898, 'snippet': 'компан примет водител курьер с лич автомобил обяза'}, {'id': 1318941, 'snippet': 'приглаша в свою команд водител курьер на лич автом'}, {'id': 8167440, 'snippet': 'круп курьерск компан курьер сервис экспресс пригла'}, {'id': 1318941, 'snippet': 'приглаша в свою команд водител курьер на лич автом'}, {'id': 1400845, 'snippet': 'объедин компан dpd spsr express объявля конкурс на'}, {'id': 294936, 'snippet': 'круп федерал логистическ компан dpd объявля конкур'}, {'id': 1409041, 'snippet': 'обязанност достав и получен товар соглас дан маршр'}, {'id': 7798786, 'snippet': 'в извест магазин сушисет в г московск 3 микрорайон'}]\n"
     ]
    },
    {
     "name": "stderr",
     "output_type": "stream",
     "text": [
      "127.0.0.1 - - [08/Nov/2018 18:25:48] \"POST /search HTTP/1.1\" 200 -\n"
     ]
    },
    {
     "name": "stdout",
     "output_type": "stream",
     "text": [
      "{'status': 'ok', 'words': ['водител', 'курьер'], 'language': 'eng'}\n",
      "[{'id': 1400845, 'snippet': 'объедин компан dpd spsr express объявля конкурс на'}, {'id': 7798786, 'snippet': 'в извест магазин сушисет в г московск 3 микрорайон'}]\n"
     ]
    },
    {
     "name": "stderr",
     "output_type": "stream",
     "text": [
      "127.0.0.1 - - [08/Nov/2018 18:28:57] \"POST /search HTTP/1.1\" 200 -\n"
     ]
    },
    {
     "name": "stdout",
     "output_type": "stream",
     "text": [
      "{'status': 'ok', 'words': ['водител', 'курьер'], 'language': 'eng'}\n",
      "[{'id': 1400845, 'snippet': 'объедин компан dpd spsr express объявля конкурс на'}, {'id': 7798786, 'snippet': 'в извест магазин сушисет в г московск 3 микрорайон'}]\n"
     ]
    },
    {
     "name": "stderr",
     "output_type": "stream",
     "text": [
      "127.0.0.1 - - [08/Nov/2018 18:29:02] \"POST /search HTTP/1.1\" 200 -\n"
     ]
    },
    {
     "name": "stdout",
     "output_type": "stream",
     "text": [
      "{'status': 'ok', 'words': ['водителя', 'курьер'], 'language': 'eng'}\n",
      "[]\n"
     ]
    },
    {
     "name": "stderr",
     "output_type": "stream",
     "text": [
      "127.0.0.1 - - [08/Nov/2018 18:29:08] \"POST /search HTTP/1.1\" 200 -\n"
     ]
    },
    {
     "name": "stdout",
     "output_type": "stream",
     "text": [
      "{'status': 'ok', 'words': ['водитель', 'курьер'], 'language': 'eng'}\n",
      "[]\n"
     ]
    },
    {
     "name": "stderr",
     "output_type": "stream",
     "text": [
      "127.0.0.1 - - [08/Nov/2018 18:29:17] \"POST /search HTTP/1.1\" 200 -\n"
     ]
    },
    {
     "name": "stdout",
     "output_type": "stream",
     "text": [
      "{'status': 'ok', 'words': ['водителб', 'курьер'], 'language': 'eng'}\n",
      "[]\n"
     ]
    },
    {
     "name": "stderr",
     "output_type": "stream",
     "text": [
      "127.0.0.1 - - [08/Nov/2018 18:29:21] \"POST /search HTTP/1.1\" 200 -\n"
     ]
    },
    {
     "name": "stdout",
     "output_type": "stream",
     "text": [
      "{'status': 'ok', 'words': ['водитель', 'курьер'], 'language': 'eng'}\n",
      "[]\n"
     ]
    },
    {
     "name": "stderr",
     "output_type": "stream",
     "text": [
      "[2018-11-08 18:51:37,492] ERROR in app: Exception on /search [POST]\n",
      "Traceback (most recent call last):\n",
      "  File \"/usr/local/anaconda/lib/python3.6/site-packages/flask/app.py\", line 1982, in wsgi_app\n",
      "    response = self.full_dispatch_request()\n",
      "  File \"/usr/local/anaconda/lib/python3.6/site-packages/flask/app.py\", line 1614, in full_dispatch_request\n",
      "    rv = self.handle_user_exception(e)\n",
      "  File \"/usr/local/anaconda/lib/python3.6/site-packages/flask/app.py\", line 1517, in handle_user_exception\n",
      "    reraise(exc_type, exc_value, tb)\n",
      "  File \"/usr/local/anaconda/lib/python3.6/site-packages/flask/_compat.py\", line 33, in reraise\n",
      "    raise value\n",
      "  File \"/usr/local/anaconda/lib/python3.6/site-packages/flask/app.py\", line 1612, in full_dispatch_request\n",
      "    rv = self.dispatch_request()\n",
      "  File \"/usr/local/anaconda/lib/python3.6/site-packages/flask/app.py\", line 1598, in dispatch_request\n",
      "    return self.view_functions[rule.endpoint](**req.view_args)\n",
      "  File \"<ipython-input-22-dcc44ce99c2f>\", line 26, in search\n",
      "    parsed_docs_snippets = json.loads(response_docs_snippets.text)\n",
      "  File \"/usr/local/anaconda/lib/python3.6/json/__init__.py\", line 354, in loads\n",
      "    return _default_decoder.decode(s)\n",
      "  File \"/usr/local/anaconda/lib/python3.6/json/decoder.py\", line 339, in decode\n",
      "    obj, end = self.raw_decode(s, idx=_w(s, 0).end())\n",
      "  File \"/usr/local/anaconda/lib/python3.6/json/decoder.py\", line 357, in raw_decode\n",
      "    raise JSONDecodeError(\"Expecting value\", s, err.value) from None\n",
      "json.decoder.JSONDecodeError: Expecting value: line 1 column 1 (char 0)\n",
      "127.0.0.1 - - [08/Nov/2018 18:51:37] \"POST /search HTTP/1.1\" 500 -\n"
     ]
    },
    {
     "name": "stdout",
     "output_type": "stream",
     "text": [
      "{'status': 'ok', 'words': ['водитель', 'курьер'], 'language': 'eng'}\n"
     ]
    },
    {
     "name": "stderr",
     "output_type": "stream",
     "text": [
      "[2018-11-08 18:55:27,835] ERROR in app: Exception on /search [POST]\n",
      "Traceback (most recent call last):\n",
      "  File \"/usr/local/anaconda/lib/python3.6/site-packages/flask/app.py\", line 1982, in wsgi_app\n",
      "    response = self.full_dispatch_request()\n",
      "  File \"/usr/local/anaconda/lib/python3.6/site-packages/flask/app.py\", line 1614, in full_dispatch_request\n",
      "    rv = self.handle_user_exception(e)\n",
      "  File \"/usr/local/anaconda/lib/python3.6/site-packages/flask/app.py\", line 1517, in handle_user_exception\n",
      "    reraise(exc_type, exc_value, tb)\n",
      "  File \"/usr/local/anaconda/lib/python3.6/site-packages/flask/_compat.py\", line 33, in reraise\n",
      "    raise value\n",
      "  File \"/usr/local/anaconda/lib/python3.6/site-packages/flask/app.py\", line 1612, in full_dispatch_request\n",
      "    rv = self.dispatch_request()\n",
      "  File \"/usr/local/anaconda/lib/python3.6/site-packages/flask/app.py\", line 1598, in dispatch_request\n",
      "    return self.view_functions[rule.endpoint](**req.view_args)\n",
      "  File \"<ipython-input-22-dcc44ce99c2f>\", line 20, in search\n",
      "    parsed_reverceindex = json.loads(response_reverceindex.text)\n",
      "  File \"/usr/local/anaconda/lib/python3.6/json/__init__.py\", line 354, in loads\n",
      "    return _default_decoder.decode(s)\n",
      "  File \"/usr/local/anaconda/lib/python3.6/json/decoder.py\", line 339, in decode\n",
      "    obj, end = self.raw_decode(s, idx=_w(s, 0).end())\n",
      "  File \"/usr/local/anaconda/lib/python3.6/json/decoder.py\", line 357, in raw_decode\n",
      "    raise JSONDecodeError(\"Expecting value\", s, err.value) from None\n",
      "json.decoder.JSONDecodeError: Expecting value: line 1 column 1 (char 0)\n",
      "127.0.0.1 - - [08/Nov/2018 18:55:27] \"POST /search HTTP/1.1\" 500 -\n"
     ]
    },
    {
     "name": "stdout",
     "output_type": "stream",
     "text": [
      "{'status': 'ok', 'words': ['водитель', 'курьер'], 'language': 'eng'}\n"
     ]
    },
    {
     "name": "stderr",
     "output_type": "stream",
     "text": [
      "[2018-11-08 18:55:42,856] ERROR in app: Exception on /search [POST]\n",
      "Traceback (most recent call last):\n",
      "  File \"/usr/local/anaconda/lib/python3.6/site-packages/flask/app.py\", line 1982, in wsgi_app\n",
      "    response = self.full_dispatch_request()\n",
      "  File \"/usr/local/anaconda/lib/python3.6/site-packages/flask/app.py\", line 1614, in full_dispatch_request\n",
      "    rv = self.handle_user_exception(e)\n",
      "  File \"/usr/local/anaconda/lib/python3.6/site-packages/flask/app.py\", line 1517, in handle_user_exception\n",
      "    reraise(exc_type, exc_value, tb)\n",
      "  File \"/usr/local/anaconda/lib/python3.6/site-packages/flask/_compat.py\", line 33, in reraise\n",
      "    raise value\n",
      "  File \"/usr/local/anaconda/lib/python3.6/site-packages/flask/app.py\", line 1612, in full_dispatch_request\n",
      "    rv = self.dispatch_request()\n",
      "  File \"/usr/local/anaconda/lib/python3.6/site-packages/flask/app.py\", line 1598, in dispatch_request\n",
      "    return self.view_functions[rule.endpoint](**req.view_args)\n",
      "  File \"<ipython-input-22-dcc44ce99c2f>\", line 20, in search\n",
      "    parsed_reverceindex = json.loads(response_reverceindex.text)\n",
      "  File \"/usr/local/anaconda/lib/python3.6/json/__init__.py\", line 354, in loads\n",
      "    return _default_decoder.decode(s)\n",
      "  File \"/usr/local/anaconda/lib/python3.6/json/decoder.py\", line 339, in decode\n",
      "    obj, end = self.raw_decode(s, idx=_w(s, 0).end())\n",
      "  File \"/usr/local/anaconda/lib/python3.6/json/decoder.py\", line 357, in raw_decode\n",
      "    raise JSONDecodeError(\"Expecting value\", s, err.value) from None\n",
      "json.decoder.JSONDecodeError: Expecting value: line 1 column 1 (char 0)\n",
      "127.0.0.1 - - [08/Nov/2018 18:55:42] \"POST /search HTTP/1.1\" 500 -\n"
     ]
    },
    {
     "name": "stdout",
     "output_type": "stream",
     "text": [
      "{'status': 'ok', 'words': ['водитель', 'курьер'], 'language': 'eng'}\n"
     ]
    },
    {
     "name": "stderr",
     "output_type": "stream",
     "text": [
      "[2018-11-08 18:56:14,372] ERROR in app: Exception on /search [POST]\n",
      "Traceback (most recent call last):\n",
      "  File \"/usr/local/anaconda/lib/python3.6/site-packages/flask/app.py\", line 1982, in wsgi_app\n",
      "    response = self.full_dispatch_request()\n",
      "  File \"/usr/local/anaconda/lib/python3.6/site-packages/flask/app.py\", line 1614, in full_dispatch_request\n",
      "    rv = self.handle_user_exception(e)\n",
      "  File \"/usr/local/anaconda/lib/python3.6/site-packages/flask/app.py\", line 1517, in handle_user_exception\n",
      "    reraise(exc_type, exc_value, tb)\n",
      "  File \"/usr/local/anaconda/lib/python3.6/site-packages/flask/_compat.py\", line 33, in reraise\n",
      "    raise value\n",
      "  File \"/usr/local/anaconda/lib/python3.6/site-packages/flask/app.py\", line 1612, in full_dispatch_request\n",
      "    rv = self.dispatch_request()\n",
      "  File \"/usr/local/anaconda/lib/python3.6/site-packages/flask/app.py\", line 1598, in dispatch_request\n",
      "    return self.view_functions[rule.endpoint](**req.view_args)\n",
      "  File \"<ipython-input-22-dcc44ce99c2f>\", line 20, in search\n",
      "    parsed_reverceindex = json.loads(response_reverceindex.text)\n",
      "  File \"/usr/local/anaconda/lib/python3.6/json/__init__.py\", line 354, in loads\n",
      "    return _default_decoder.decode(s)\n",
      "  File \"/usr/local/anaconda/lib/python3.6/json/decoder.py\", line 339, in decode\n",
      "    obj, end = self.raw_decode(s, idx=_w(s, 0).end())\n",
      "  File \"/usr/local/anaconda/lib/python3.6/json/decoder.py\", line 357, in raw_decode\n",
      "    raise JSONDecodeError(\"Expecting value\", s, err.value) from None\n",
      "json.decoder.JSONDecodeError: Expecting value: line 1 column 1 (char 0)\n",
      "127.0.0.1 - - [08/Nov/2018 18:56:14] \"POST /search HTTP/1.1\" 500 -\n"
     ]
    },
    {
     "name": "stdout",
     "output_type": "stream",
     "text": [
      "{'status': 'ok', 'words': ['водитель', 'курьер'], 'language': 'eng'}\n"
     ]
    },
    {
     "name": "stderr",
     "output_type": "stream",
     "text": [
      "[2018-11-08 18:56:49,005] ERROR in app: Exception on /search [POST]\n",
      "Traceback (most recent call last):\n",
      "  File \"/usr/local/anaconda/lib/python3.6/site-packages/flask/app.py\", line 1982, in wsgi_app\n",
      "    response = self.full_dispatch_request()\n",
      "  File \"/usr/local/anaconda/lib/python3.6/site-packages/flask/app.py\", line 1614, in full_dispatch_request\n",
      "    rv = self.handle_user_exception(e)\n",
      "  File \"/usr/local/anaconda/lib/python3.6/site-packages/flask/app.py\", line 1517, in handle_user_exception\n",
      "    reraise(exc_type, exc_value, tb)\n",
      "  File \"/usr/local/anaconda/lib/python3.6/site-packages/flask/_compat.py\", line 33, in reraise\n",
      "    raise value\n",
      "  File \"/usr/local/anaconda/lib/python3.6/site-packages/flask/app.py\", line 1612, in full_dispatch_request\n",
      "    rv = self.dispatch_request()\n",
      "  File \"/usr/local/anaconda/lib/python3.6/site-packages/flask/app.py\", line 1598, in dispatch_request\n",
      "    return self.view_functions[rule.endpoint](**req.view_args)\n",
      "  File \"<ipython-input-22-dcc44ce99c2f>\", line 20, in search\n",
      "    parsed_reverceindex = json.loads(response_reverceindex.text)\n",
      "  File \"/usr/local/anaconda/lib/python3.6/json/__init__.py\", line 354, in loads\n",
      "    return _default_decoder.decode(s)\n",
      "  File \"/usr/local/anaconda/lib/python3.6/json/decoder.py\", line 339, in decode\n",
      "    obj, end = self.raw_decode(s, idx=_w(s, 0).end())\n",
      "  File \"/usr/local/anaconda/lib/python3.6/json/decoder.py\", line 357, in raw_decode\n",
      "    raise JSONDecodeError(\"Expecting value\", s, err.value) from None\n",
      "json.decoder.JSONDecodeError: Expecting value: line 1 column 1 (char 0)\n",
      "127.0.0.1 - - [08/Nov/2018 18:56:49] \"POST /search HTTP/1.1\" 500 -\n"
     ]
    },
    {
     "name": "stdout",
     "output_type": "stream",
     "text": [
      "{'status': 'ok', 'words': ['водитель', 'курьер'], 'language': 'eng'}\n"
     ]
    },
    {
     "name": "stderr",
     "output_type": "stream",
     "text": [
      "[2018-11-08 18:57:19,147] ERROR in app: Exception on /search [POST]\n",
      "Traceback (most recent call last):\n",
      "  File \"/usr/local/anaconda/lib/python3.6/site-packages/flask/app.py\", line 1982, in wsgi_app\n",
      "    response = self.full_dispatch_request()\n",
      "  File \"/usr/local/anaconda/lib/python3.6/site-packages/flask/app.py\", line 1614, in full_dispatch_request\n",
      "    rv = self.handle_user_exception(e)\n",
      "  File \"/usr/local/anaconda/lib/python3.6/site-packages/flask/app.py\", line 1517, in handle_user_exception\n",
      "    reraise(exc_type, exc_value, tb)\n",
      "  File \"/usr/local/anaconda/lib/python3.6/site-packages/flask/_compat.py\", line 33, in reraise\n",
      "    raise value\n",
      "  File \"/usr/local/anaconda/lib/python3.6/site-packages/flask/app.py\", line 1612, in full_dispatch_request\n",
      "    rv = self.dispatch_request()\n",
      "  File \"/usr/local/anaconda/lib/python3.6/site-packages/flask/app.py\", line 1598, in dispatch_request\n",
      "    return self.view_functions[rule.endpoint](**req.view_args)\n",
      "  File \"<ipython-input-22-dcc44ce99c2f>\", line 26, in search\n",
      "    parsed_docs_snippets = json.loads(response_docs_snippets.text)\n",
      "  File \"/usr/local/anaconda/lib/python3.6/json/__init__.py\", line 354, in loads\n",
      "    return _default_decoder.decode(s)\n",
      "  File \"/usr/local/anaconda/lib/python3.6/json/decoder.py\", line 339, in decode\n",
      "    obj, end = self.raw_decode(s, idx=_w(s, 0).end())\n",
      "  File \"/usr/local/anaconda/lib/python3.6/json/decoder.py\", line 357, in raw_decode\n",
      "    raise JSONDecodeError(\"Expecting value\", s, err.value) from None\n",
      "json.decoder.JSONDecodeError: Expecting value: line 1 column 1 (char 0)\n",
      "127.0.0.1 - - [08/Nov/2018 18:57:19] \"POST /search HTTP/1.1\" 500 -\n"
     ]
    },
    {
     "name": "stdout",
     "output_type": "stream",
     "text": [
      "{'status': 'ok', 'words': ['водитель', 'курьер'], 'language': 'eng'}\n"
     ]
    },
    {
     "name": "stderr",
     "output_type": "stream",
     "text": [
      "[2018-11-08 18:57:48,077] ERROR in app: Exception on /search [POST]\n",
      "Traceback (most recent call last):\n",
      "  File \"/usr/local/anaconda/lib/python3.6/site-packages/flask/app.py\", line 1982, in wsgi_app\n",
      "    response = self.full_dispatch_request()\n",
      "  File \"/usr/local/anaconda/lib/python3.6/site-packages/flask/app.py\", line 1614, in full_dispatch_request\n",
      "    rv = self.handle_user_exception(e)\n",
      "  File \"/usr/local/anaconda/lib/python3.6/site-packages/flask/app.py\", line 1517, in handle_user_exception\n",
      "    reraise(exc_type, exc_value, tb)\n",
      "  File \"/usr/local/anaconda/lib/python3.6/site-packages/flask/_compat.py\", line 33, in reraise\n",
      "    raise value\n",
      "  File \"/usr/local/anaconda/lib/python3.6/site-packages/flask/app.py\", line 1612, in full_dispatch_request\n",
      "    rv = self.dispatch_request()\n",
      "  File \"/usr/local/anaconda/lib/python3.6/site-packages/flask/app.py\", line 1598, in dispatch_request\n",
      "    return self.view_functions[rule.endpoint](**req.view_args)\n",
      "  File \"<ipython-input-22-dcc44ce99c2f>\", line 26, in search\n",
      "    parsed_docs_snippets = json.loads(response_docs_snippets.text)\n",
      "  File \"/usr/local/anaconda/lib/python3.6/json/__init__.py\", line 354, in loads\n",
      "    return _default_decoder.decode(s)\n",
      "  File \"/usr/local/anaconda/lib/python3.6/json/decoder.py\", line 339, in decode\n",
      "    obj, end = self.raw_decode(s, idx=_w(s, 0).end())\n",
      "  File \"/usr/local/anaconda/lib/python3.6/json/decoder.py\", line 357, in raw_decode\n",
      "    raise JSONDecodeError(\"Expecting value\", s, err.value) from None\n",
      "json.decoder.JSONDecodeError: Expecting value: line 1 column 1 (char 0)\n",
      "127.0.0.1 - - [08/Nov/2018 18:57:48] \"POST /search HTTP/1.1\" 500 -\n"
     ]
    },
    {
     "name": "stdout",
     "output_type": "stream",
     "text": [
      "{'status': 'ok', 'words': ['водитель', 'курьер'], 'language': 'eng'}\n"
     ]
    },
    {
     "name": "stderr",
     "output_type": "stream",
     "text": [
      "[2018-11-08 18:58:21,716] ERROR in app: Exception on /search [POST]\n",
      "Traceback (most recent call last):\n",
      "  File \"/usr/local/anaconda/lib/python3.6/site-packages/flask/app.py\", line 1982, in wsgi_app\n",
      "    response = self.full_dispatch_request()\n",
      "  File \"/usr/local/anaconda/lib/python3.6/site-packages/flask/app.py\", line 1614, in full_dispatch_request\n",
      "    rv = self.handle_user_exception(e)\n",
      "  File \"/usr/local/anaconda/lib/python3.6/site-packages/flask/app.py\", line 1517, in handle_user_exception\n",
      "    reraise(exc_type, exc_value, tb)\n",
      "  File \"/usr/local/anaconda/lib/python3.6/site-packages/flask/_compat.py\", line 33, in reraise\n",
      "    raise value\n",
      "  File \"/usr/local/anaconda/lib/python3.6/site-packages/flask/app.py\", line 1612, in full_dispatch_request\n",
      "    rv = self.dispatch_request()\n",
      "  File \"/usr/local/anaconda/lib/python3.6/site-packages/flask/app.py\", line 1598, in dispatch_request\n",
      "    return self.view_functions[rule.endpoint](**req.view_args)\n",
      "  File \"<ipython-input-22-dcc44ce99c2f>\", line 26, in search\n",
      "    parsed_docs_snippets = json.loads(response_docs_snippets.text)\n",
      "  File \"/usr/local/anaconda/lib/python3.6/json/__init__.py\", line 354, in loads\n",
      "    return _default_decoder.decode(s)\n",
      "  File \"/usr/local/anaconda/lib/python3.6/json/decoder.py\", line 339, in decode\n",
      "    obj, end = self.raw_decode(s, idx=_w(s, 0).end())\n",
      "  File \"/usr/local/anaconda/lib/python3.6/json/decoder.py\", line 357, in raw_decode\n",
      "    raise JSONDecodeError(\"Expecting value\", s, err.value) from None\n",
      "json.decoder.JSONDecodeError: Expecting value: line 1 column 1 (char 0)\n",
      "127.0.0.1 - - [08/Nov/2018 18:58:21] \"POST /search HTTP/1.1\" 500 -\n"
     ]
    },
    {
     "name": "stdout",
     "output_type": "stream",
     "text": [
      "{'status': 'ok', 'words': ['водитель', 'курьер'], 'language': 'eng'}\n"
     ]
    },
    {
     "name": "stderr",
     "output_type": "stream",
     "text": [
      "[2018-11-08 19:08:07,508] ERROR in app: Exception on /search [POST]\n",
      "Traceback (most recent call last):\n",
      "  File \"/usr/local/anaconda/lib/python3.6/site-packages/flask/app.py\", line 1982, in wsgi_app\n",
      "    response = self.full_dispatch_request()\n",
      "  File \"/usr/local/anaconda/lib/python3.6/site-packages/flask/app.py\", line 1614, in full_dispatch_request\n",
      "    rv = self.handle_user_exception(e)\n",
      "  File \"/usr/local/anaconda/lib/python3.6/site-packages/flask/app.py\", line 1517, in handle_user_exception\n",
      "    reraise(exc_type, exc_value, tb)\n",
      "  File \"/usr/local/anaconda/lib/python3.6/site-packages/flask/_compat.py\", line 33, in reraise\n",
      "    raise value\n",
      "  File \"/usr/local/anaconda/lib/python3.6/site-packages/flask/app.py\", line 1612, in full_dispatch_request\n",
      "    rv = self.dispatch_request()\n",
      "  File \"/usr/local/anaconda/lib/python3.6/site-packages/flask/app.py\", line 1598, in dispatch_request\n",
      "    return self.view_functions[rule.endpoint](**req.view_args)\n",
      "  File \"<ipython-input-22-dcc44ce99c2f>\", line 20, in search\n",
      "    parsed_reverceindex = json.loads(response_reverceindex.text)\n",
      "  File \"/usr/local/anaconda/lib/python3.6/json/__init__.py\", line 354, in loads\n",
      "    return _default_decoder.decode(s)\n",
      "  File \"/usr/local/anaconda/lib/python3.6/json/decoder.py\", line 339, in decode\n",
      "    obj, end = self.raw_decode(s, idx=_w(s, 0).end())\n",
      "  File \"/usr/local/anaconda/lib/python3.6/json/decoder.py\", line 357, in raw_decode\n",
      "    raise JSONDecodeError(\"Expecting value\", s, err.value) from None\n",
      "json.decoder.JSONDecodeError: Expecting value: line 1 column 1 (char 0)\n",
      "127.0.0.1 - - [08/Nov/2018 19:08:07] \"POST /search HTTP/1.1\" 500 -\n"
     ]
    },
    {
     "name": "stdout",
     "output_type": "stream",
     "text": [
      "{'status': 'ok', 'words': ['водитель', 'курьер'], 'language': 'eng'}\n"
     ]
    },
    {
     "name": "stderr",
     "output_type": "stream",
     "text": [
      "[2018-11-08 19:08:27,514] ERROR in app: Exception on /search [POST]\n",
      "Traceback (most recent call last):\n",
      "  File \"/usr/local/anaconda/lib/python3.6/site-packages/flask/app.py\", line 1982, in wsgi_app\n",
      "    response = self.full_dispatch_request()\n",
      "  File \"/usr/local/anaconda/lib/python3.6/site-packages/flask/app.py\", line 1614, in full_dispatch_request\n",
      "    rv = self.handle_user_exception(e)\n",
      "  File \"/usr/local/anaconda/lib/python3.6/site-packages/flask/app.py\", line 1517, in handle_user_exception\n",
      "    reraise(exc_type, exc_value, tb)\n",
      "  File \"/usr/local/anaconda/lib/python3.6/site-packages/flask/_compat.py\", line 33, in reraise\n",
      "    raise value\n",
      "  File \"/usr/local/anaconda/lib/python3.6/site-packages/flask/app.py\", line 1612, in full_dispatch_request\n",
      "    rv = self.dispatch_request()\n",
      "  File \"/usr/local/anaconda/lib/python3.6/site-packages/flask/app.py\", line 1598, in dispatch_request\n",
      "    return self.view_functions[rule.endpoint](**req.view_args)\n",
      "  File \"<ipython-input-22-dcc44ce99c2f>\", line 20, in search\n",
      "    parsed_reverceindex = json.loads(response_reverceindex.text)\n",
      "  File \"/usr/local/anaconda/lib/python3.6/json/__init__.py\", line 354, in loads\n",
      "    return _default_decoder.decode(s)\n",
      "  File \"/usr/local/anaconda/lib/python3.6/json/decoder.py\", line 339, in decode\n",
      "    obj, end = self.raw_decode(s, idx=_w(s, 0).end())\n",
      "  File \"/usr/local/anaconda/lib/python3.6/json/decoder.py\", line 357, in raw_decode\n",
      "    raise JSONDecodeError(\"Expecting value\", s, err.value) from None\n",
      "json.decoder.JSONDecodeError: Expecting value: line 1 column 1 (char 0)\n",
      "127.0.0.1 - - [08/Nov/2018 19:08:27] \"POST /search HTTP/1.1\" 500 -\n"
     ]
    },
    {
     "name": "stdout",
     "output_type": "stream",
     "text": [
      "{'status': 'ok', 'words': ['водитель', 'курьер'], 'language': 'eng'}\n"
     ]
    },
    {
     "name": "stderr",
     "output_type": "stream",
     "text": [
      "[2018-11-08 19:08:49,466] ERROR in app: Exception on /search [POST]\n",
      "Traceback (most recent call last):\n",
      "  File \"/usr/local/anaconda/lib/python3.6/site-packages/flask/app.py\", line 1982, in wsgi_app\n",
      "    response = self.full_dispatch_request()\n",
      "  File \"/usr/local/anaconda/lib/python3.6/site-packages/flask/app.py\", line 1614, in full_dispatch_request\n",
      "    rv = self.handle_user_exception(e)\n",
      "  File \"/usr/local/anaconda/lib/python3.6/site-packages/flask/app.py\", line 1517, in handle_user_exception\n",
      "    reraise(exc_type, exc_value, tb)\n",
      "  File \"/usr/local/anaconda/lib/python3.6/site-packages/flask/_compat.py\", line 33, in reraise\n",
      "    raise value\n",
      "  File \"/usr/local/anaconda/lib/python3.6/site-packages/flask/app.py\", line 1612, in full_dispatch_request\n",
      "    rv = self.dispatch_request()\n",
      "  File \"/usr/local/anaconda/lib/python3.6/site-packages/flask/app.py\", line 1598, in dispatch_request\n",
      "    return self.view_functions[rule.endpoint](**req.view_args)\n",
      "  File \"<ipython-input-22-dcc44ce99c2f>\", line 20, in search\n",
      "    parsed_reverceindex = json.loads(response_reverceindex.text)\n",
      "  File \"/usr/local/anaconda/lib/python3.6/json/__init__.py\", line 354, in loads\n",
      "    return _default_decoder.decode(s)\n",
      "  File \"/usr/local/anaconda/lib/python3.6/json/decoder.py\", line 339, in decode\n",
      "    obj, end = self.raw_decode(s, idx=_w(s, 0).end())\n",
      "  File \"/usr/local/anaconda/lib/python3.6/json/decoder.py\", line 357, in raw_decode\n",
      "    raise JSONDecodeError(\"Expecting value\", s, err.value) from None\n",
      "json.decoder.JSONDecodeError: Expecting value: line 1 column 1 (char 0)\n",
      "127.0.0.1 - - [08/Nov/2018 19:08:49] \"POST /search HTTP/1.1\" 500 -\n"
     ]
    },
    {
     "name": "stdout",
     "output_type": "stream",
     "text": [
      "{'status': 'ok', 'words': ['водитель', 'курьер'], 'language': 'eng'}\n"
     ]
    },
    {
     "name": "stderr",
     "output_type": "stream",
     "text": [
      "127.0.0.1 - - [08/Nov/2018 19:09:18] \"POST /search HTTP/1.1\" 200 -\n"
     ]
    },
    {
     "name": "stdout",
     "output_type": "stream",
     "text": [
      "{'status': 'ok', 'words': ['водитель', 'курьер'], 'language': 'eng'}\n",
      "[]\n"
     ]
    },
    {
     "name": "stderr",
     "output_type": "stream",
     "text": [
      "127.0.0.1 - - [08/Nov/2018 19:09:30] \"POST /search HTTP/1.1\" 200 -\n"
     ]
    },
    {
     "name": "stdout",
     "output_type": "stream",
     "text": [
      "{'status': 'ok', 'words': ['водитель'], 'language': 'eng'}\n",
      "[]\n"
     ]
    },
    {
     "name": "stderr",
     "output_type": "stream",
     "text": [
      "127.0.0.1 - - [08/Nov/2018 19:10:08] \"POST /search HTTP/1.1\" 200 -\n"
     ]
    },
    {
     "name": "stdout",
     "output_type": "stream",
     "text": [
      "{'status': 'ok', 'words': ['водитель'], 'language': 'eng'}\n",
      "[{'id': 9680896, 'text': 'Требования к кандидату: Знание особенностей эксплуатации спц.техники иностранного производства. Вакансия отрыта с о1.01.2018 по 31.12.2018 г. Должностные обязанности: В соответствии с должностными инструкциями, утвержденными в организации для данной специальности (профессии) Дополнительная информация по вакансии: Шестидневная неделя. Водитель автомобиля Ответственность Дисциплинированность Инициативность Дополнительные бонусы: Общежитие за счет предприятия Питание за счет предприятия Социальный пакетПредоставляется жилье. Общежитие', 'snippet': 'Требования к кандидату: Знание особенностей эксплу'}, {'id': 671746, 'text': 'На работу требуется: Водитель кат.Bc ( Строительные материалы ). Требования: ~ желателен опыт. Условия: График работы: 6\\\\1, воскр.-выходной з.плата: 18000 по результатам собеседования Код вакансии: 36943', 'snippet': 'На работу требуется: Водитель кат.Bc ( Строительны'}]\n"
     ]
    },
    {
     "name": "stderr",
     "output_type": "stream",
     "text": [
      "127.0.0.1 - - [08/Nov/2018 19:10:42] \"POST /search HTTP/1.1\" 200 -\n"
     ]
    },
    {
     "name": "stdout",
     "output_type": "stream",
     "text": [
      "{'status': 'ok', 'words': ['ищем', 'водителя'], 'language': 'eng'}\n",
      "[{'id': 3119780, 'text': 'Ищем водителя в почтовую компанию для работы на автомобиле Форд Транзит (цельнометаллический)/лада ларгус Стоянка автомобиля в Митино (р-он Митинского Радиорынка) Загрузка в САО, СЗАО: Рязиновая, Митино, Бусиново График 5/2, 6/1 Занятость постоянная, работа по договору Заработная плата сдельная. Не менее 1600 в день Первые 2 недели 1600 руб/ставка день, далее 85 руб. каждая точка; Рабочий день не нормирован, 20-30 точек в день по одному району! Доставка грузов по Москве и МО (САО и СЗАО)', 'snippet': 'Ищем водителя в почтовую компанию для работы на ав'}, {'id': 324804, 'text': 'Компания HRTop.xyz ищет Водителя на автомобиль фирмы приглашаем ответственных и порядочных водителей Условия работы: Вы работаете водителем на транспорте работодателя! Персональный водитель руководителя Обслуживание авто, заправка за счет фирмы. выплата зарплаты без задержек. автомобиль бизнес класса Уважение к Вам – вы профессиональный водитель в хорошем деловом костюме, прошедший отбор) авто на домашнем хранении у водителя; Требования к кандидату: Опыт работы водителем обязателен; Презентабельный внешний вид ‚ знание деловой этики, аккуратность Желание работать и зарабатывать деньги. Мы ищем энергичных, инициативных и пунктуальных водителей Обязанности: Уход за Авто, поддержание его в чистоте. Выполнение поручений руководителя в ответ на вашу заявку с вами свяжутся наши менеджеры и вы им сможете задать интересующие вас вопросы', 'snippet': 'Компания HRTop.xyz ищет Водителя на автомобиль фир'}]\n"
     ]
    },
    {
     "name": "stderr",
     "output_type": "stream",
     "text": [
      "127.0.0.1 - - [08/Nov/2018 19:11:00] \"POST /search HTTP/1.1\" 200 -\n"
     ]
    },
    {
     "name": "stdout",
     "output_type": "stream",
     "text": [
      "{'status': 'ok', 'words': ['ищем', 'водителя'], 'language': 'eng'}\n",
      "[{'id': 9477456, 'text': 'Ищем водителя на подработку со своим л/а (не каждый день) Выход 500 руб. + 300 руб. с каждой клиентской доставки. + бывают чаевые. Доставок не много, подработка для тех, кто в любом случае едет в Москву и мог бы отвезти заказ. Компенсация за ГСМ 200 руб. Забрать документы на доставку Забрать у поставщиков/поставщика товар Отвезти заказ/заказы. Приехать обратно в офис отчитаться и свободен.', 'snippet': 'Ищем водителя на подработку со своим л/а (не кажды'}, {'id': 7284024, 'text': 'Просим внимательно и полностью прочитать текст вакансии. Мы ищем сотрудников для выполнения именно описанной в тексте работы. В компании «Семейное Видео Фото» (СВФ) открыта вакансия водителя - курьера по ДОСТАВКЕ И ПРОДАЖЕ готовой Продукции. Требования: желание работать с клиентами, ориентация на продажу, вежливость и пунктуальность. Обязанности: - получение и комплектация Продукции по накладным в рамках договора поставки; - доставка и продажа Продукции заказчику в удобное для заказчика время от 4 до 10 адресов в день. - работа постоянно в одном, заранее определенном районе города; - надлежащее хранение и материальная ответственность за Продукцию в течение всего срока реализации; - сдача денежных средств, полученных в результате реализации Продукции, в указанный срок. Условия работы: - полная занятость; - гибкий график работы с посещением офиса два раза в неделю по будням. Зарплата: сдельная, напрямую зависит от эффективности продаж от 70 000 руб рублей в месяц.', 'snippet': 'Просим внимательно и полностью прочитать текст вак'}, {'id': 1794250, 'text': 'Компания, занимающаяся предоставлением услуг в сфере ИТ-технологий ищет себе на постоянную работу курьера. Требования: Ответственность, мы ищем ответственных людей, сюда можно отнести: дисциплинированность, если вы можете себе позволить опаздывать на встречи с друзьями, на работу и т.д. вероятно, мы быстро это заметим, и тогда вы не будете работать у нас, для нас важно обязательное выполнение данных вами обещаний – клиентам, друзьям, коллегам, субординация в отношениях. Пунктуальность, для нас неприемлемы опоздания. Коммуникабельность, мы ищем коммуникабельных людей, которые спокойно могут общаться в любых коллективах, могут поддержать разговор, пошутить, посмеяться, даже с незнакомым человеком. Как правило, ситуации на работе будут таковыми, что Вы часто будете попадать в не знакомый Вам коллектив, надо обладать определенным уровнем коммуникабельности, чтобы не потеряться и не \"тупить\". Спокойно и уверенно общаться, даже если Вы чего-то не знаете, умение ясно излагать свои мысли, общительность (не путать с надоедливостью). Мы ищем чистоплотных людей. Сюда можно отнести: стиль одежды – в нашем понимании, это когда вам удобно и комфортно находиться в чистой, опрятной одежде, для нас важно, чтобы не только одежда, но и вы сами были опрятным человеком от природы и мы не переживали, что вы можете выглядеть как-то иначе, мы бы хотели видеть у себя в компании чистоплотных людей, умеющих ухаживать за собой, с Вами должно быть приятно общаться. Врожденная порядочность и великодушие, мы ищем порядочных людей во всех отношениях. Сюда можно отнести: любовь к родителям, уважение к старшим (уступить место), уважение к людям; поздороваться, когда заходите куда-то, попрощаться, когда уходите, сказать “Будьте здоровы”, когда кто-нибудь чихает, хорошие манеры во всем, вежливость, честность, отзывчивость. Для нас важно, чтобы у вас присутствовало желание помочь, быть кому-то полезным. Представьте, что завтра о ситуации (когда Вы НЕ должны были, но СМОГЛИ помочь кому-то) напечатают на первых страницах газет и Вам будет приятно, если про Ваш поступок расскажут на всю страну. К каждому обращению клиента Вы должны относиться именно так, как будто именно ЭТОТ Ваш поступок завтра станет публичным. Вам не должно быть стыдно за свои поступки. Очень важно иметь внутреннее стремление принести пользу, желание быть полезным. Мы хотим видеть коммуникабельных, легко находящих язык, точку соприкосновения с любым человеком. Знание Москвы (метро, основных проспектов), умение пользоваться навигатором (картой). Обязанности: Своевременно и в полном объеме выполнять поставленные перед Вами задачи, а также отчитываться о проделанной работе. Развозить документы и комплектующие (до 10/15 кг); Осуществлять отгрузку оборудования ( в сопровождении водителя), следить за передачей заказчикам документов; Условия: Офис компании находится на Бульваре Дмитрия Донского. Пятидневная рабочая неделя с 9 до 18. Зарплата в виде оклада 25000 на время испытательного срока. Оплата проездного.', 'snippet': 'Компания, занимающаяся предоставлением услуг в сфе'}, {'id': 1794250, 'text': 'Компания, занимающаяся предоставлением услуг в сфере ИТ-технологий ищет себе на постоянную работу курьера. Требования: Ответственность, мы ищем ответственных людей, сюда можно отнести: дисциплинированность, если вы можете себе позволить опаздывать на встречи с друзьями, на работу и т.д. вероятно, мы быстро это заметим, и тогда вы не будете работать у нас, для нас важно обязательное выполнение данных вами обещаний – клиентам, друзьям, коллегам, субординация в отношениях. Пунктуальность, для нас неприемлемы опоздания. Коммуникабельность, мы ищем коммуникабельных людей, которые спокойно могут общаться в любых коллективах, могут поддержать разговор, пошутить, посмеяться, даже с незнакомым человеком. Как правило, ситуации на работе будут таковыми, что Вы часто будете попадать в не знакомый Вам коллектив, надо обладать определенным уровнем коммуникабельности, чтобы не потеряться и не \"тупить\". Спокойно и уверенно общаться, даже если Вы чего-то не знаете, умение ясно излагать свои мысли, общительность (не путать с надоедливостью). Мы ищем чистоплотных людей. Сюда можно отнести: стиль одежды – в нашем понимании, это когда вам удобно и комфортно находиться в чистой, опрятной одежде, для нас важно, чтобы не только одежда, но и вы сами были опрятным человеком от природы и мы не переживали, что вы можете выглядеть как-то иначе, мы бы хотели видеть у себя в компании чистоплотных людей, умеющих ухаживать за собой, с Вами должно быть приятно общаться. Врожденная порядочность и великодушие, мы ищем порядочных людей во всех отношениях. Сюда можно отнести: любовь к родителям, уважение к старшим (уступить место), уважение к людям; поздороваться, когда заходите куда-то, попрощаться, когда уходите, сказать “Будьте здоровы”, когда кто-нибудь чихает, хорошие манеры во всем, вежливость, честность, отзывчивость. Для нас важно, чтобы у вас присутствовало желание помочь, быть кому-то полезным. Представьте, что завтра о ситуации (когда Вы НЕ должны были, но СМОГЛИ помочь кому-то) напечатают на первых страницах газет и Вам будет приятно, если про Ваш поступок расскажут на всю страну. К каждому обращению клиента Вы должны относиться именно так, как будто именно ЭТОТ Ваш поступок завтра станет публичным. Вам не должно быть стыдно за свои поступки. Очень важно иметь внутреннее стремление принести пользу, желание быть полезным. Мы хотим видеть коммуникабельных, легко находящих язык, точку соприкосновения с любым человеком. Знание Москвы (метро, основных проспектов), умение пользоваться навигатором (картой). Обязанности: Своевременно и в полном объеме выполнять поставленные перед Вами задачи, а также отчитываться о проделанной работе. Развозить документы и комплектующие (до 10/15 кг); Осуществлять отгрузку оборудования ( в сопровождении водителя), следить за передачей заказчикам документов; Условия: Офис компании находится на Бульваре Дмитрия Донского. Пятидневная рабочая неделя с 9 до 18. Зарплата в виде оклада 25000 на время испытательного срока. Оплата проездного.', 'snippet': 'Компания, занимающаяся предоставлением услуг в сфе'}, {'id': 3119780, 'text': 'Ищем водителя в почтовую компанию для работы на автомобиле Форд Транзит (цельнометаллический)/лада ларгус Стоянка автомобиля в Митино (р-он Митинского Радиорынка) Загрузка в САО, СЗАО: Рязиновая, Митино, Бусиново График 5/2, 6/1 Занятость постоянная, работа по договору Заработная плата сдельная. Не менее 1600 в день Первые 2 недели 1600 руб/ставка день, далее 85 руб. каждая точка; Рабочий день не нормирован, 20-30 точек в день по одному району! Доставка грузов по Москве и МО (САО и СЗАО)', 'snippet': 'Ищем водителя в почтовую компанию для работы на ав'}, {'id': 2495750, 'text': 'Не любишь сидеть на одном месте? Ищешь работу в своем районе? Удобен сменный график работы? У тебя есть свой автомобиль и ты готов использовать его для работы? Значит мы ищем именно тебя. Основная задача наших водителей: ~ Доставка заказов (итальянская, японская кухня) клиентам в пределах района. Мы ждем от кандидата на вакансию водителя: Готовность к разъездному характеру работы; Вежливость и ответственное отношение к работе; Наличие личного автомобиля и прав категории В. Мы предлагаем: Гибкий график работы - 2/2, 3/1, 5/2 (смены дневные, ночные и вечерние); Бесплатное питание; Ежедневные выплаты; Возможность работать в удобном для себя районе (вакансии открыты в разных районах города + в городе Пушкин); Разъездной характер работы.', 'snippet': 'Не любишь сидеть на одном месте? Ищешь работу в св'}, {'id': 9120694, 'text': 'Рекламная компания, объявляет конкурс на замещение вакантной должности Водитель Условия работы: Вы работаете водителем на транспорте работодателя! Персональный водитель руководителя Обслуживание авто, заправка за счет фирмы. Выплата зарплаты без задержек. Автомобиль бизнес класса Уважение к Вам – вы профессиональный водитель в хорошем деловом костюме, прошедший отбор) Авто на домашнем хранении у водителя; Требования к кандидату: Опыт работы водителем обязателен; Знание деловой этики, аккуратность Желание работать и зарабатывать деньги. Мы ищем энергичных, инициативных и пунктуальных водителей Обязанности: Уход за Авто, поддержание его в чистоте. Выполнение поручений руководителя', 'snippet': 'Рекламная компания, объявляет конкурс на замещение'}, {'id': 2495750, 'text': 'Не любишь сидеть на одном месте? Ищешь работу в своем районе? Удобен сменный график работы? У тебя есть свой автомобиль и ты готов использовать его для работы? Значит мы ищем именно тебя. Основная задача наших водителей: ~ Доставка заказов (итальянская, японская кухня) клиентам в пределах района. Мы ждем от кандидата на вакансию водителя: Готовность к разъездному характеру работы; Вежливость и ответственное отношение к работе; Наличие личного автомобиля и прав категории В. Мы предлагаем: Гибкий график работы - 2/2, 3/1, 5/2 (смены дневные, ночные и вечерние); Бесплатное питание; Ежедневные выплаты; Возможность работать в удобном для себя районе (вакансии открыты в разных районах города + в городе Пушкин); Разъездной характер работы.', 'snippet': 'Не любишь сидеть на одном месте? Ищешь работу в св'}, {'id': 2495750, 'text': 'Не любишь сидеть на одном месте? Ищешь работу в своем районе? Удобен сменный график работы? У тебя есть свой автомобиль и ты готов использовать его для работы? Значит мы ищем именно тебя. Основная задача наших водителей: ~ Доставка заказов (итальянская, японская кухня) клиентам в пределах района. Мы ждем от кандидата на вакансию водителя: Готовность к разъездному характеру работы; Вежливость и ответственное отношение к работе; Наличие личного автомобиля и прав категории В. Мы предлагаем: Гибкий график работы - 2/2, 3/1, 5/2 (смены дневные, ночные и вечерние); Бесплатное питание; Ежедневные выплаты; Возможность работать в удобном для себя районе (вакансии открыты в разных районах города + в городе Пушкин); Разъездной характер работы.', 'snippet': 'Не любишь сидеть на одном месте? Ищешь работу в св'}, {'id': 9822035, 'text': 'Просим внимательно и полностью прочитать текст вакансии. Мы ищем сотрудников для выполнения именно описанной в тексте работы. В компании «Семейное Видео Фото» (СВФ) открыта вакансия водителя - курьера по ДОСТАВКЕ И ПРОДАЖЕ готовой Продукции. Требования: желание работать с клиентами, ориентация на продажу, вежливость и пунктуальность. Обязанности: - получение и комплектация Продукции по накладным в рамках договора поставки; - доставка и продажа Продукции заказчику в удобное для заказчика время до 10 адресов в день. - работа постоянно в одном, заранее определенном районе города; - надлежащее хранение и материальная ответственность за Продукцию в течение всего срока реализации; - сдача денежных средств, полученных в результате реализации Продукции, в указанный срок. Условия работы: - полная занятость; - гибкий график работы с посещением офиса два раза в неделю по будням. Зарплата: сдельная, напрямую зависит от эффективности продаж.', 'snippet': 'Просим внимательно и полностью прочитать текст вак'}, {'id': 2495750, 'text': 'Не любишь сидеть на одном месте? Ищешь работу в своем районе? Удобен сменный график работы? У тебя есть свой автомобиль и ты готов использовать его для работы? Значит мы ищем именно тебя. Основная задача наших водителей: ~ Доставка заказов (итальянская, японская кухня) клиентам в пределах района. Мы ждем от кандидата на вакансию водителя: Готовность к разъездному характеру работы; Вежливость и ответственное отношение к работе; Наличие личного автомобиля и прав категории В. Мы предлагаем: Гибкий график работы - 2/2, 3/1, 5/2 (смены дневные, ночные и вечерние); Бесплатное питание; Ежедневные выплаты; Возможность работать в удобном для себя районе (вакансии открыты в разных районах города + в городе Пушкин); Разъездной характер работы.', 'snippet': 'Не любишь сидеть на одном месте? Ищешь работу в св'}, {'id': 9386922, 'text': 'Компания импортер овощной и мясной продукции приглашает на постоянную работу водителя с личным автомобилем. Мы ищем кандидата, который может быть больше чем водитель. Если Вы молодой, энергичный, стремитесь быть не просто водителем – звоните, мы готовы предложить Вам интересные перспективы. Требования: - Наличие личного автомобиля не старше 2008 г. в хорошем техническом состоянии. - Исполнительность. - Пунктуальность. - Стаж вождения не менее 3 лет Обязанности: - Содержать а/м в технически исправном состоянии - Поездки по Москве, Мо, изредка по России - Поездки с сотрудниками компании - Выполнение поручений по доставке документации Условия: - Официальное оформление по Тк Рф - Рабочая неделя 5 дней. Рабочий день ненормирован. - Начало и окончание рабочего дня в р-не м.Бунинская аллея - При подаче машины топливо оплачивается из расчета не далее 20 км от места подачи автомобиля. - Оплата топлива. - Испытательный срок 1 мес. - Зарплата – предмет собеседования', 'snippet': 'Компания импортер овощной и мясной продукции пригл'}, {'id': 324804, 'text': 'Компания HRTop.xyz ищет Водителя на автомобиль фирмы приглашаем ответственных и порядочных водителей Условия работы: Вы работаете водителем на транспорте работодателя! Персональный водитель руководителя Обслуживание авто, заправка за счет фирмы. выплата зарплаты без задержек. автомобиль бизнес класса Уважение к Вам – вы профессиональный водитель в хорошем деловом костюме, прошедший отбор) авто на домашнем хранении у водителя; Требования к кандидату: Опыт работы водителем обязателен; Презентабельный внешний вид ‚ знание деловой этики, аккуратность Желание работать и зарабатывать деньги. Мы ищем энергичных, инициативных и пунктуальных водителей Обязанности: Уход за Авто, поддержание его в чистоте. Выполнение поручений руководителя в ответ на вашу заявку с вами свяжутся наши менеджеры и вы им сможете задать интересующие вас вопросы', 'snippet': 'Компания HRTop.xyz ищет Водителя на автомобиль фир'}, {'id': 9120694, 'text': 'Рекламная компания, объявляет конкурс на замещение вакантной должности Водитель Условия работы: Вы работаете водителем на транспорте работодателя! Персональный водитель руководителя Обслуживание авто, заправка за счет фирмы. Выплата зарплаты без задержек. Автомобиль бизнес класса Уважение к Вам – вы профессиональный водитель в хорошем деловом костюме, прошедший отбор) Авто на домашнем хранении у водителя; Требования к кандидату: Опыт работы водителем обязателен; Знание деловой этики, аккуратность Желание работать и зарабатывать деньги. Мы ищем энергичных, инициативных и пунктуальных водителей Обязанности: Уход за Авто, поддержание его в чистоте. Выполнение поручений руководителя', 'snippet': 'Рекламная компания, объявляет конкурс на замещение'}, {'id': 9654542, 'text': 'Обязанности: Мы ищем водителя, который: Бережно доставит наш товар (от 14 доставок в день) Будет вежлив с клиентами и аккуратен в расчетах Хорошо знает городские и подмосковные маршруты. Требования: Водительские права категории \"В\" Релевантный опыт работы Хорошее знание Москвы и Московской области Автомобиль в собственности (каблук, универсал) Стрессоустойчивость, вежливость. Условия: Район доставки обсуждается на собеседовании Оклад 45 000 р. + бонусы. Оплата ГСМ и мобильного телефона Без вечернего возврата График работы: 5/2 + одна суббота в месяц Оформление по ТК РФ.', 'snippet': 'Обязанности: Мы ищем водителя, который: Бережно до'}, {'id': 2495750, 'text': 'Не любишь сидеть на одном месте? Ищешь работу в своем районе? Удобен сменный график работы? У тебя есть свой автомобиль и ты готов использовать его для работы? Значит мы ищем именно тебя. Основная задача наших водителей: ~ Доставка заказов (итальянская, японская кухня) клиентам в пределах района. Мы ждем от кандидата на вакансию водителя: Готовность к разъездному характеру работы; Вежливость и ответственное отношение к работе; Наличие личного автомобиля и прав категории В. Мы предлагаем: Гибкий график работы - 2/2, 3/1, 5/2 (смены дневные, ночные и вечерние); Бесплатное питание; Ежедневные выплаты; Возможность работать в удобном для себя районе (вакансии открыты в разных районах города + в городе Пушкин); Разъездной характер работы.', 'snippet': 'Не любишь сидеть на одном месте? Ищешь работу в св'}, {'id': 2495750, 'text': 'Не любишь сидеть на одном месте? Ищешь работу в своем районе? Удобен сменный график работы? У тебя есть свой автомобиль и ты готов использовать его для работы? Значит мы ищем именно тебя. Основная задача наших водителей: ~ Доставка заказов (итальянская, японская кухня) клиентам в пределах района. Мы ждем от кандидата на вакансию водителя: Готовность к разъездному характеру работы; Вежливость и ответственное отношение к работе; Наличие личного автомобиля и прав категории В. Мы предлагаем: Гибкий график работы - 2/2, 3/1, 5/2 (смены дневные, ночные и вечерние); Бесплатное питание; Ежедневные выплаты; Возможность работать в удобном для себя районе (вакансии открыты в разных районах города + в городе Пушкин); Разъездной характер работы.', 'snippet': 'Не любишь сидеть на одном месте? Ищешь работу в св'}]\n"
     ]
    },
    {
     "name": "stderr",
     "output_type": "stream",
     "text": [
      "127.0.0.1 - - [08/Nov/2018 19:11:34] \"POST /search HTTP/1.1\" 200 -\n"
     ]
    },
    {
     "name": "stdout",
     "output_type": "stream",
     "text": [
      "{'status': 'ok', 'words': ['ищем', 'водителя'], 'language': 'eng'}\n",
      "[{'id': 9477456, 'snippet': 'Ищем водителя на подработку со своим л/а (не кажды'}, {'id': 7284024, 'snippet': 'Просим внимательно и полностью прочитать текст вак'}, {'id': 1794250, 'snippet': 'Компания, занимающаяся предоставлением услуг в сфе'}, {'id': 1794250, 'snippet': 'Компания, занимающаяся предоставлением услуг в сфе'}, {'id': 3119780, 'snippet': 'Ищем водителя в почтовую компанию для работы на ав'}, {'id': 2495750, 'snippet': 'Не любишь сидеть на одном месте? Ищешь работу в св'}, {'id': 9120694, 'snippet': 'Рекламная компания, объявляет конкурс на замещение'}, {'id': 2495750, 'snippet': 'Не любишь сидеть на одном месте? Ищешь работу в св'}, {'id': 2495750, 'snippet': 'Не любишь сидеть на одном месте? Ищешь работу в св'}, {'id': 9822035, 'snippet': 'Просим внимательно и полностью прочитать текст вак'}, {'id': 2495750, 'snippet': 'Не любишь сидеть на одном месте? Ищешь работу в св'}, {'id': 9386922, 'snippet': 'Компания импортер овощной и мясной продукции пригл'}, {'id': 324804, 'snippet': 'Компания HRTop.xyz ищет Водителя на автомобиль фир'}, {'id': 9120694, 'snippet': 'Рекламная компания, объявляет конкурс на замещение'}, {'id': 9654542, 'snippet': 'Обязанности: Мы ищем водителя, который: Бережно до'}, {'id': 2495750, 'snippet': 'Не любишь сидеть на одном месте? Ищешь работу в св'}, {'id': 2495750, 'snippet': 'Не любишь сидеть на одном месте? Ищешь работу в св'}]\n"
     ]
    }
   ],
   "source": [
    "from flask import Flask\n",
    "from flask import request\n",
    "import nltk.stem.porter as stemmer\n",
    "import json\n",
    "import requests\n",
    "\n",
    "app = Flask(__name__)\n",
    "\n",
    "\n",
    "@app.route(\"/search\", methods=[\"POST\"])\n",
    "def search():\n",
    "    j = request.json\n",
    "    query = j['query']\n",
    "    \n",
    "    response_analyze = requests.post('http://127.0.0.1:13533/analyze', json={'data' : query})\n",
    "    parsed_analyze = json.loads(response_analyze.text)\n",
    "    print(parsed_analyze)\n",
    "    \n",
    "    response_reverceindex = requests.post('http://127.0.0.1:13538/reverseindex', json={'data': parsed_analyze['words'], 'max_docs':j.get('max_docs')})\n",
    "    parsed_reverceindex = json.loads(response_reverceindex.text)\n",
    "    '''\n",
    "    response_ranked_docs = requests.post('http://127.0.0.1:13541/rank', json={'data': parsed_reverceindex['processed_data']})\n",
    "    parsed_ranked_docs = json.loads(response_ranked_docs.text)\n",
    "    '''\n",
    "    response_docs_snippets = requests.post('http://127.0.0.1:13542/snippets', json={'data': parsed_reverceindex['processed_data']})\n",
    "    parsed_docs_snippets = json.loads(response_docs_snippets.text)\n",
    "    print(parsed_docs_snippets['processed_data'])\n",
    "\n",
    "    return json.dumps({\"status\":\"ok\", \"documents\": parsed_docs_snippets['processed_data']}, ensure_ascii=False)\n",
    "\n",
    "if __name__ == \"__main__\":\n",
    "    app.run(host='0.0.0.0', port=13565)"
   ]
  },
  {
   "cell_type": "code",
   "execution_count": null,
   "metadata": {
    "collapsed": true
   },
   "outputs": [],
   "source": []
  }
 ],
 "metadata": {
  "kernelspec": {
   "display_name": "Python 3",
   "language": "python",
   "name": "python3"
  },
  "language_info": {
   "codemirror_mode": {
    "name": "ipython",
    "version": 3
   },
   "file_extension": ".py",
   "mimetype": "text/x-python",
   "name": "python",
   "nbconvert_exporter": "python",
   "pygments_lexer": "ipython3",
   "version": "3.6.3"
  }
 },
 "nbformat": 4,
 "nbformat_minor": 2
}
