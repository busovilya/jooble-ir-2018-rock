{
 "cells": [
  {
   "cell_type": "code",
   "execution_count": null,
   "metadata": {},
   "outputs": [],
   "source": [
    "from flask import Flask\n",
    "from flask import request\n",
    "import nltk.stem.porter as stemmer\n",
    "import json\n",
    "import requests\n",
    "\n",
    "app = Flask(__name__)\n",
    "\n",
    "'''\n",
    "This service makes text stemming\n",
    "'''\n",
    "@app.route(\"/analysis/stemmer\", methods=[\"POST\"])\n",
    "def stemming():\n",
    "    json_data = request.json\n",
    "    data = json_data['data']\n",
    "    s = stemmer.PorterStemmer()\n",
    "    \n",
    "    #apply stemmer for each token in each sentences\n",
    "    stemmed = [list(map(s.stem, lst)) for lst in data]\n",
    "\n",
    "    return json.dumps({\"status\":\"ok\", \"got_data\":data, \"processed_data\": stemmed})\n",
    "    \n",
    "\n",
    "if __name__ == \"__main__\":\n",
    "    app.run(host='0.0.0.0', port=13535)"
   ]
  }
 ],
 "metadata": {
  "kernelspec": {
   "display_name": "Python 3",
   "language": "python",
   "name": "python3"
  },
  "language_info": {
   "codemirror_mode": {
    "name": "ipython",
    "version": 3
   },
   "file_extension": ".py",
   "mimetype": "text/x-python",
   "name": "python",
   "nbconvert_exporter": "python",
   "pygments_lexer": "ipython3",
   "version": "3.7.0"
  }
 },
 "nbformat": 4,
 "nbformat_minor": 2
}
