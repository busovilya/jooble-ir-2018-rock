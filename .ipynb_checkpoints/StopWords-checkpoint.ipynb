{
 "cells": [
  {
   "cell_type": "code",
   "execution_count": null,
   "metadata": {},
   "outputs": [
    {
     "name": "stderr",
     "output_type": "stream",
     "text": [
      " * Running on http://0.0.0.0:13536/ (Press CTRL+C to quit)\n",
      "[2018-11-08 16:02:04,315] ERROR in app: Exception on /analysis/stopwords [POST]\n",
      "Traceback (most recent call last):\n",
      "  File \"/usr/local/anaconda/lib/python3.6/site-packages/flask/app.py\", line 1982, in wsgi_app\n",
      "    response = self.full_dispatch_request()\n",
      "  File \"/usr/local/anaconda/lib/python3.6/site-packages/flask/app.py\", line 1614, in full_dispatch_request\n",
      "    rv = self.handle_user_exception(e)\n",
      "  File \"/usr/local/anaconda/lib/python3.6/site-packages/flask/app.py\", line 1517, in handle_user_exception\n",
      "    reraise(exc_type, exc_value, tb)\n",
      "  File \"/usr/local/anaconda/lib/python3.6/site-packages/flask/_compat.py\", line 33, in reraise\n",
      "    raise value\n",
      "  File \"/usr/local/anaconda/lib/python3.6/site-packages/flask/app.py\", line 1612, in full_dispatch_request\n",
      "    rv = self.dispatch_request()\n",
      "  File \"/usr/local/anaconda/lib/python3.6/site-packages/flask/app.py\", line 1598, in dispatch_request\n",
      "    return self.view_functions[rule.endpoint](**req.view_args)\n",
      "  File \"<ipython-input-1-8065e20351c0>\", line 21, in stopwords_function\n",
      "    stop_words = set(stopwords.words(friendly[lang]))\n",
      "KeyError: 'en'\n",
      "127.0.0.1 - - [08/Nov/2018 16:02:04] \"POST /analysis/stopwords HTTP/1.1\" 500 -\n",
      "127.0.0.1 - - [08/Nov/2018 16:02:26] \"POST /analysis/stopwords HTTP/1.1\" 200 -\n",
      "127.0.0.1 - - [08/Nov/2018 17:03:48] \"POST /analysis/stopwords HTTP/1.1\" 200 -\n",
      "127.0.0.1 - - [08/Nov/2018 17:04:39] \"POST /analysis/stopwords HTTP/1.1\" 200 -\n"
     ]
    }
   ],
   "source": [
    "from flask import Flask\n",
    "from flask import request\n",
    "import json\n",
    "import requests\n",
    "from nltk.corpus import stopwords\n",
    "\n",
    "app = Flask(__name__)\n",
    "\n",
    "\n",
    "@app.route(\"/analysis/stopwords\", methods=[\"POST\"])\n",
    "def stopwords_function():\n",
    "    j = request.json\n",
    "    data = j['data']\n",
    "    lang = j['language']\n",
    "       \n",
    "    friendly = {'eng': 'english', 'rus': 'russian', 'deu':'german','fra': 'french', 'lad':'spanish',\n",
    "                'por':'portuguese', 'ita':'italian','ell':'greek',\n",
    "                'nob':'norwegian', 'dan':'danish','nld':'dutch', 'swe':'swedish'}\n",
    "    \n",
    "    # using stop words from nltk for different language\n",
    "    stop_words = set(stopwords.words(friendly[lang]))\n",
    "    without_stop_words = [w for w in data if not w in stop_words]\n",
    "    \n",
    "    return json.dumps({\"status\":\"ok\", \"got_data\":data, \"processed_data\": without_stop_words})\n",
    "    \n",
    "\n",
    "if __name__ == \"__main__\":\n",
    "    app.run(host='0.0.0.0', port=13536)"
   ]
  },
  {
   "cell_type": "code",
   "execution_count": null,
   "metadata": {
    "collapsed": true
   },
   "outputs": [],
   "source": []
  },
  {
   "cell_type": "code",
   "execution_count": null,
   "metadata": {
    "collapsed": true
   },
   "outputs": [],
   "source": []
  }
 ],
 "metadata": {
  "kernelspec": {
   "display_name": "Python 3",
   "language": "python",
   "name": "python3"
  },
  "language_info": {
   "codemirror_mode": {
    "name": "ipython",
    "version": 3
   },
   "file_extension": ".py",
   "mimetype": "text/x-python",
   "name": "python",
   "nbconvert_exporter": "python",
   "pygments_lexer": "ipython3",
   "version": "3.6.3"
  }
 },
 "nbformat": 4,
 "nbformat_minor": 2
}
