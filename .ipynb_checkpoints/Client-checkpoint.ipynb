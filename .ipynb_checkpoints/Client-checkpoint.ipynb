{
 "cells": [
  {
   "cell_type": "code",
   "execution_count": 105,
   "metadata": {},
   "outputs": [
    {
     "name": "stdout",
     "output_type": "stream",
     "text": [
      "200\n",
      "{\"status\": \"ok\", \"documents\": [{\"id\": 9680896, \"text\": \"Требования к кандидату: Знание особенностей эксплуатации спц.техники иностранного производства. Вакансия отрыта с о1.01.2018 по 31.12.2018 г. Должностные обязанности: В соответствии с должностными инструкциями, утвержденными в организации для данной специальности (профессии) Дополнительная информация по вакансии: Шестидневная неделя. Водитель автомобиля Ответственность Дисциплинированность Инициативность Дополнительные бонусы: Общежитие за счет предприятия Питание за счет предприятия Социальный пакетПредоставляется жилье. Общежитие\", \"snippet\": \"Требования к кандидату: Знание особенностей эксплу\"}, {\"id\": 671746, \"text\": \"На работу требуется: Водитель кат.Bc ( Строительные материалы ). Требования: ~ желателен опыт. Условия: График работы: 6\\\\1, воскр.-выходной з.плата: 18000 по результатам собеседования Код вакансии: 36943\", \"snippet\": \"На работу требуется: Водитель кат.Bc ( Строительны\"}]}\n"
     ]
    }
   ],
   "source": [
    "import requests\n",
    "\n",
    "content = 'водитель'\n",
    "\n",
    "r = requests.post('http://127.0.0.1:13565/search', json={'query' : content, 'max_docs': 2})\n",
    "print(r.status_code)\n",
    "print(r.text)"
   ]
  },
  {
   "cell_type": "code",
   "execution_count": null,
   "metadata": {
    "collapsed": true
   },
   "outputs": [],
   "source": []
  }
 ],
 "metadata": {
  "kernelspec": {
   "display_name": "Python 3",
   "language": "python",
   "name": "python3"
  },
  "language_info": {
   "codemirror_mode": {
    "name": "ipython",
    "version": 3
   },
   "file_extension": ".py",
   "mimetype": "text/x-python",
   "name": "python",
   "nbconvert_exporter": "python",
   "pygments_lexer": "ipython3",
   "version": "3.6.3"
  }
 },
 "nbformat": 4,
 "nbformat_minor": 2
}
