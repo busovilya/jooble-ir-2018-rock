{
 "cells": [
  {
   "cell_type": "code",
   "execution_count": null,
   "metadata": {},
   "outputs": [
    {
     "name": "stderr",
     "output_type": "stream",
     "text": [
      " * Running on http://0.0.0.0:13560/ (Press CTRL+C to quit)\n",
      "195.123.10.42 - - [22/Nov/2018 19:08:27] \"GET /search HTTP/1.1\" 405 -\n",
      "195.123.10.42 - - [22/Nov/2018 19:08:27] \"GET /search HTTP/1.1\" 405 -\n",
      "195.123.10.42 - - [22/Nov/2018 19:10:32] \"GET /search HTTP/1.1\" 405 -\n",
      "195.123.10.42 - - [22/Nov/2018 19:15:48] code 400, message Bad request syntax ('\\x16\\x03\\x01\\x02\\x00\\x01\\x00\\x01ü\\x03\\x03\\x9e\\x0fºÍêy«?,\\x12Uþ\\x0cDÃ\\x81\\x15º$,P[l%ñ\\x16,\\x1e\\x05=K\\x84 \\x1dÓÏ7\\x8fÜûå¼\\x92],u\\xa0\\x98Âpvcé)\\x03')\n",
      "195.123.10.42 - - [22/Nov/2018 19:15:48] \"\u0016\u0003\u0001\u0002\u0000\u0001\u0000\u0001ü\u0003\u0003\u000fºÍêy«?,\u0012Uþ\f",
      "DÃ\u0015º$,P[l%ñ\u0016,\u001e",
      "\u0005=K \u001d",
      "ÓÏ7Üûå¼],u Âpvcé)\u0003\" HTTPStatus.BAD_REQUEST -\n",
      "195.123.10.42 - - [22/Nov/2018 19:15:48] code 400, message Bad request syntax ('\\x16\\x03\\x01\\x02\\x00\\x01\\x00\\x01ü\\x03\\x03ÓØ,Ø\\x81\\x10Ë[î\\x96\\x08b\\x1c¿Ào\\x0cF\\x84¸\\r\\x9cûÃ\\x02Kãd\\x96\\t\\x1fÿ Á{\\x91\\x03\\x0eÖ\\x11å\\x8bà\\tÄûæÁ\\x95\\r\\tPj\\x7f$ð\\të,\\\\¢àá{Ä\\x00\"zz\\x13\\x03\\x13\\x01\\x13\\x02Ì©Ì¨À+À/À,À0À\\x13À\\x14\\x00\\x9c\\x00\\x9d\\x00/\\x005\\x00')\n",
      "\tPj$ð\të,\\¢àá{Ä\u0000\"zz\u0013\u0003\u0013\u0001\u0013\u0002Ì©Ì¨À+À/À,À0À\u0013À\u0014\u0000\u0000\u0000/\u00005\u0000\" HTTPStatus.BAD_REQUEST -\n",
      "195.123.10.42 - - [22/Nov/2018 19:15:48] code 400, message Bad request version ('zzÌ©Ì¨À+À/À,À0À\\x13À\\x14\\x00\\x9c\\x00\\x9d\\x00/\\x005\\x00')\n",
      "195.123.10.42 - - [22/Nov/2018 19:15:48] \"\u0016\u0003\u0001\u0000Î\u0001\u0000\u0000Ê\u0003\u0003\f",
      "­ú3o<\u0004\u0017ìÿH´sú\u000e>ÎÄú~ã©[\u0013geø¬\u0000\u0000\u001c",
      "zzÌ©Ì¨À+À/À,À0À\u0013À\u0014\u0000\u0000\u0000/\u00005\u0000\" HTTPStatus.BAD_REQUEST -\n",
      "195.123.10.42 - - [22/Nov/2018 19:15:49] code 400, message Bad request syntax ('\\x16\\x03\\x01\\x02\\x00\\x01\\x00\\x01ü\\x03\\x03iCTZ2\\x8bU\\x7f\\x9f~p\\x18#$\\x82Þ\\x03ZÏ\\x00')\n",
      "195.123.10.42 - - [22/Nov/2018 19:15:49] \"\u0016\u0003\u0001\u0002\u0000\u0001\u0000\u0001ü\u0003\u0003iCTZ2U~p\u0018#$Þ\u0003ZÏ\u0000\" HTTPStatus.BAD_REQUEST -\n",
      "195.123.10.42 - - [22/Nov/2018 19:15:49] code 400, message Bad request syntax ('\\x16\\x03\\x01\\x02\\x00\\x01\\x00\\x01ü\\x03\\x03tòähÒ¸îÏ«Èé.Ð\\t^\\x92\\x1b³[<²ÆÆß\\x9c¤~ÆcSæ  \\x16\\x93\\x07~\\x8a{F¢¼&\\x0b+\\x85\\x86 \\x13}zU½$ÑBný\\x9cY²8Üö\\x11\\x00\"ªª\\x13\\x03\\x13\\x01\\x13\\x02Ì©Ì¨À+À/À,À0À\\x13À\\x14\\x00\\x9c\\x00\\x9d\\x00/\\x005\\x00')\n",
      "195.123.10.42 - - [22/Nov/2018 19:15:49] \"\u0016\u0003\u0001\u0002\u0000\u0001\u0000\u0001ü\u0003\u0003tòähÒ¸îÏ«Èé.Ð\t^\u001b³[<²ÆÆß¤~ÆcSæ  \u0016\u0007~{F¢¼&\u000b",
      "+",
      " \u0013}zU½$ÑBnýY²8Üö\u0011\u0000\"ªª\u0013\u0003\u0013\u0001\u0013\u0002Ì©Ì¨À+À/À,À0À\u0013À\u0014\u0000\u0000\u0000/\u00005\u0000\" HTTPStatus.BAD_REQUEST -\n",
      "195.123.10.42 - - [22/Nov/2018 19:15:49] code 400, message Bad request syntax ('\\x16\\x03\\x01\\x00Î\\x01\\x00\\x00Ê\\x03\\x03\\x026HÜR\\x05¥\\x08,N%»1\\x97Ùu!×y\\x15¼Â\\t§\\r\\x19G=ë¦?J\\x00\\x00\\x1c::Ì©Ì¨À+À/À,À0À\\x13À\\x14\\x00\\x9c\\x00\\x9d\\x00/\\x005\\x00')\n",
      "\u0019G=ë¦?J\u0000\u0000\u001c",
      "::Ì©Ì¨À+À/À,À0À\u0013À\u0014\u0000\u0000\u0000/\u00005\u0000\" HTTPStatus.BAD_REQUEST -1Ùu!×y\u0015¼Â\t§\n",
      "195.123.10.42 - - [22/Nov/2018 19:15:50] code 400, message Bad request syntax ('\\x16\\x03\\x01\\x02\\x00\\x01\\x00\\x01ü\\x03\\x03Ñc¼®ÛwQ\\x18êË\\r\\t:\\x07ÒëÈØ(Ü#Wâ\\x99E}\\x08Òh\\x8a°z \\x97(¸\\x9fÎÌ°[¤ô?\\x92M\\x0b÷Ð¦è`Â\\x87¸Á\\x16&\\x92}Dî\\x04¢ô\\x00\"jj\\x13\\x03\\x13\\x01\\x13\\x02Ì©Ì¨À+À/À,À0À\\x13À\\x14\\x00\\x9c\\x00\\x9d\\x00/\\x005\\x00')\n",
      "\t:\u0007ÒëÈØ(Ü#WâEÒh°z (¸ÎÌ°[¤ô?M\u000b",
      "÷Ð¦è`Â¸Á\u0016&}Dî\u0004¢ô\u0000\"jj\u0013\u0003\u0013\u0001\u0013\u0002Ì©Ì¨À+À/À,À0À\u0013À\u0014\u0000\u0000\u0000/\u00005\u0000\" HTTPStatus.BAD_REQUEST -\n",
      "195.123.10.42 - - [22/Nov/2018 19:15:50] code 400, message Bad request syntax ('\\x16\\x03\\x01\\x02\\x00\\x01\\x00\\x01ü\\x03\\x03\\x98\\x9d\\x15C%Wp7f\\x9b«bv/ý\\x1dÝE`\\x0bÁJÆ\\xa0¯²\\x17þ\\xa0èÚ\\x1a \\x06³m¤¡¾\\x9a\\x13N\\x98E ß\\xad\\x07Ú¸Õ>·\\x07r\\x07¦\\x84ÍÓ\\x18ú\\x1c\\x10ä\\x00\"**\\x13\\x03\\x13\\x01\\x13\\x02Ì©Ì¨À+À/À,À0À\\x13À\\x14\\x00\\x9c\\x00\\x9d\\x00/\\x005\\x00')\n",
      "195.123.10.42 - - [22/Nov/2018 19:15:50] \"\u0016\u0003\u0001\u0002\u0000\u0001\u0000\u0001ü\u0003\u0003\u0015C%Wp7f«bv/ý\u001d",
      "ÝE`\u000b",
      "ÁJÆ ¯²\u0017þ èÚ\u001a \u0006³m¤¡¾\u0013NE ß­\u0007Ú¸Õ>·\u0007r\u0007¦ÍÓ\u0018ú\u001c",
      "\u0010ä\u0000\"**\u0013\u0003\u0013\u0001\u0013\u0002Ì©Ì¨À+À/À,À0À\u0013À\u0014\u0000\u0000\u0000/\u00005\u0000\" HTTPStatus.BAD_REQUEST -\n",
      "195.123.10.42 - - [22/Nov/2018 19:15:50] code 400, message Bad request version ('jjÌ©Ì¨À+À/À,À0À\\x13À\\x14\\x00\\x9c\\x00\\x9d\\x00/\\x005\\x00')\n",
      "195.123.10.42 - - [22/Nov/2018 19:15:50] \"\u0016\u0003\u0001\u0000Î\u0001\u0000\u0000Ê\u0003\u0003)}*È_\u0006~öWs\f",
      "cdyGTY\u0017¦\"cg|e\u0000\u0000\u001c",
      "jjÌ©Ì¨À+À/À,À0À\u0013À\u0014\u0000\u0000\u0000/\u00005\u0000\" HTTPStatus.BAD_REQUEST -\n",
      "195.123.10.42 - - [22/Nov/2018 19:16:06] code 400, message Bad HTTP/0.9 request type ('\\x16\\x03\\x01\\x02\\x00\\x01\\x00\\x01ü\\x03\\x03\\xadTá¤é\\x1aäR¸\\x06\\\\\\x01,\\x9aêÖ\\x89\\x87ãÉ¦åÕß\\x87&\\x94]=¿8±')\n",
      "195.123.10.42 - - [22/Nov/2018 19:16:06] \"\u0016\u0003\u0001\u0002\u0000\u0001\u0000\u0001ü\u0003\u0003­Tá¤é\u001aäR¸\u0006\\\u0001,êÖãÉ¦åÕß&]=¿8± ¨|qZ8¿¸z¶hqt`ä%\u0012Ëãä|æ\u0017,¸\u0005²J=S¢@\u0000\"úú\u0013\u0003\u0013\u0001\u0013\u0002Ì©Ì¨À+À/À,À0À\u0013À\u0014\u0000\u0000\u0000/\u00005\u0000\" HTTPStatus.BAD_REQUEST -\n",
      "195.123.10.42 - - [22/Nov/2018 19:16:06] code 400, message Bad request syntax ('\\x16\\x03\\x01\\x02\\x00\\x01\\x00\\x01ü\\x03\\x03\\xa0²¬\\x1c_\\x0båvù¢Â`\\x8e\\'\\x88Õ\\x1b)\\x02©\\ra\\xad·s@)ô)XN\\x16 ¨}¹)ß\\x97ã.+¢u\\x96:\\x97üþ\\x87¡\\x11´\\x84å\\x9fÊAd\\x08\\x06ï\\x1få-\\x00\"ÚÚ\\x13\\x03\\x13\\x01\\x13\\x02Ì©Ì¨À+À/À,À0À\\x13À\\x14\\x00\\x9c\\x00\\x9d\\x00/\\x005\\x00')\n",
      "a­·s@)ô)XN\u0016 ¨}¹)ßã.+¢u:üþ¡\u0011´åÊA\u0006ï\u001få-\u0000\"ÚÚ\u0013\u0003\u0013\u0001\u0013\u0002Ì©Ì¨À+À/À,À0À\u0013À\u0014\u0000\u0000\u0000/\u00005\u0000\" HTTPStatus.BAD_REQUEST -\n",
      "195.123.10.42 - - [22/Nov/2018 19:16:20] \"GET / HTTP/1.1\" 200 -\n",
      "195.123.10.42 - - [22/Nov/2018 19:16:20] \"GET /static/style.css HTTP/1.1\" 404 -\n",
      "195.123.10.42 - - [22/Nov/2018 19:16:24] \"POST /search HTTP/1.1\" 200 -\n",
      "195.123.10.42 - - [22/Nov/2018 19:16:24] \"GET /static/style.css HTTP/1.1\" 404 -\n",
      "195.123.10.42 - - [22/Nov/2018 19:21:10] \"POST /search HTTP/1.1\" 200 -\n",
      "195.123.10.42 - - [22/Nov/2018 19:21:10] \"GET /static/style.css HTTP/1.1\" 404 -\n",
      "195.123.10.42 - - [22/Nov/2018 19:21:57] \"POST /search HTTP/1.1\" 200 -\n",
      "195.123.10.42 - - [22/Nov/2018 19:21:57] \"GET /static/style.css HTTP/1.1\" 404 -\n",
      "195.123.10.42 - - [22/Nov/2018 19:22:56] \"POST /search HTTP/1.1\" 200 -\n",
      "195.123.10.42 - - [22/Nov/2018 19:22:56] \"GET /static/style.css HTTP/1.1\" 404 -\n"
     ]
    }
   ],
   "source": [
    "from flask import Flask, render_template\n",
    "from flask import request\n",
    "from wtforms import Form, TextAreaField, validators\n",
    "import requests\n",
    "'''\n",
    "Client with web UI\n",
    "'''\n",
    "app = Flask(__name__)\n",
    "\n",
    "class SearchForm(Form):\n",
    "    query = TextAreaField('',[validators.DataRequired()])\n",
    "\n",
    "@app.route('/')\n",
    "def index():\n",
    "    form = SearchForm(request.form)\n",
    "    return render_template('search.html', form=form)\n",
    "\n",
    "@app.route('/search', methods=['POST'])\n",
    "def search():\n",
    "    form = SearchForm(request.form)\n",
    "    if request.method == 'POST' and form.validate():\n",
    "        query = request.form['query']\n",
    "        r = requests.post('http://127.0.0.1:13565/search', json={'query' : query, 'max_docs': 10}).json()[\"documents\"]\n",
    "        title = [doc['title'] for doc in r]\n",
    "        url = [doc['url'] for doc in r]\n",
    "        snippet = [doc['snippet']+' ('+ str(doc['id'])+')' for doc in r]\n",
    "        return render_template('result.html', title=title, url =url, snippet=snippet, form=form)\n",
    "    return render_template('search.html', form=form)\n",
    "\n",
    "if __name__ == '__main__':\n",
    "    app.run(host='0.0.0.0', port=13560)"
   ]
  },
  {
   "cell_type": "code",
   "execution_count": null,
   "metadata": {
    "collapsed": true
   },
   "outputs": [],
   "source": []
  }
 ],
 "metadata": {
  "kernelspec": {
   "display_name": "Python 3",
   "language": "python",
   "name": "python3"
  },
  "language_info": {
   "codemirror_mode": {
    "name": "ipython",
    "version": 3
   },
   "file_extension": ".py",
   "mimetype": "text/x-python",
   "name": "python",
   "nbconvert_exporter": "python",
   "pygments_lexer": "ipython3",
   "version": "3.6.3"
  }
 },
 "nbformat": 4,
 "nbformat_minor": 2
}
