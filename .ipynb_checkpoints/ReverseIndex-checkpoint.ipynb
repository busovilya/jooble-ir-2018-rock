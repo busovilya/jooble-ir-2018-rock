{
 "cells": [
  {
   "cell_type": "code",
   "execution_count": 126,
   "metadata": {
    "collapsed": true
   },
   "outputs": [],
   "source": [
    "obj = create_inverted_index()"
   ]
  },
  {
   "cell_type": "code",
   "execution_count": 27,
   "metadata": {},
   "outputs": [],
   "source": [
    "with open('reverse_index.pickle', 'rb') as file:\n",
    "    obj = pickle.load(file)"
   ]
  },
  {
   "cell_type": "code",
   "execution_count": 132,
   "metadata": {},
   "outputs": [
    {
     "data": {
      "text/html": [
       "<div>\n",
       "<style scoped>\n",
       "    .dataframe tbody tr th:only-of-type {\n",
       "        vertical-align: middle;\n",
       "    }\n",
       "\n",
       "    .dataframe tbody tr th {\n",
       "        vertical-align: top;\n",
       "    }\n",
       "\n",
       "    .dataframe thead th {\n",
       "        text-align: right;\n",
       "    }\n",
       "</style>\n",
       "<table border=\"1\" class=\"dataframe\">\n",
       "  <thead>\n",
       "    <tr style=\"text-align: right;\">\n",
       "      <th></th>\n",
       "      <th>uid</th>\n",
       "      <th>id</th>\n",
       "      <th>text</th>\n",
       "      <th>text_searchable</th>\n",
       "      <th>text_hash64</th>\n",
       "      <th>text_lang</th>\n",
       "    </tr>\n",
       "  </thead>\n",
       "  <tbody>\n",
       "    <tr>\n",
       "      <th>0</th>\n",
       "      <td>-9223023784164508486</td>\n",
       "      <td>394513</td>\n",
       "      <td>Должностные обязанности: * Грамотная выкладка ...</td>\n",
       "      <td>должност обязанност грамот выклад товар чиртон...</td>\n",
       "      <td>4618598447649122478</td>\n",
       "      <td>ru</td>\n",
       "    </tr>\n",
       "    <tr>\n",
       "      <th>3</th>\n",
       "      <td>-9222236725167340775</td>\n",
       "      <td>6329712</td>\n",
       "      <td>Приглашаем на работу в компанию SushiBox ГДЕ П...</td>\n",
       "      <td>приглаша на работ в компан sushibox где платят...</td>\n",
       "      <td>-559923134811030623</td>\n",
       "      <td>ru</td>\n",
       "    </tr>\n",
       "  </tbody>\n",
       "</table>\n",
       "</div>"
      ],
      "text/plain": [
       "                   uid       id  \\\n",
       "0 -9223023784164508486   394513   \n",
       "3 -9222236725167340775  6329712   \n",
       "\n",
       "                                                text  \\\n",
       "0  Должностные обязанности: * Грамотная выкладка ...   \n",
       "3  Приглашаем на работу в компанию SushiBox ГДЕ П...   \n",
       "\n",
       "                                     text_searchable          text_hash64  \\\n",
       "0  должност обязанност грамот выклад товар чиртон...  4618598447649122478   \n",
       "3  приглаша на работ в компан sushibox где платят...  -559923134811030623   \n",
       "\n",
       "  text_lang  \n",
       "0        ru  \n",
       "3        ru  "
      ]
     },
     "execution_count": 132,
     "metadata": {},
     "output_type": "execute_result"
    }
   ],
   "source": [
    "docs[docs['id'].apply(lambda x : x in [394513, 6329712])]"
   ]
  },
  {
   "cell_type": "code",
   "execution_count": 129,
   "metadata": {
    "collapsed": true
   },
   "outputs": [],
   "source": [
    "import pickle\n",
    "\n",
    "with open('reverse_index.pickle', 'wb') as handle:\n",
    "    pickle.dump(obj, handle, protocol=pickle.HIGHEST_PROTOCOL)"
   ]
  },
  {
   "cell_type": "code",
   "execution_count": 38,
   "metadata": {
    "scrolled": true
   },
   "outputs": [
    {
     "name": "stderr",
     "output_type": "stream",
     "text": [
      " * Running on http://0.0.0.0:13538/ (Press CTRL+C to quit)\n",
      "127.0.0.1 - - [08/Nov/2018 19:10:42] \"POST /reverseindex HTTP/1.1\" 200 -\n",
      "127.0.0.1 - - [08/Nov/2018 19:11:00] \"POST /reverseindex HTTP/1.1\" 200 -\n",
      "127.0.0.1 - - [08/Nov/2018 19:11:34] \"POST /reverseindex HTTP/1.1\" 200 -\n"
     ]
    }
   ],
   "source": [
    "from flask import Flask\n",
    "from flask import request\n",
    "import nltk.stem.porter as stemmer\n",
    "import json\n",
    "import requests\n",
    "import numpy as np\n",
    "\n",
    "app = Flask(__name__)\n",
    "\n",
    "@app.route(\"/reverseindex\", methods=[\"POST\"])\n",
    "def reverceindex():\n",
    "    j = request.json\n",
    "    words = j['data']\n",
    "    \n",
    "    documents = list(intersect_all(words, obj))\n",
    "    \n",
    "    if j.get('max_docs'):\n",
    "        documents = documents[:j.get('max_docs')]\n",
    "    \n",
    "    documents = docs[docs['id'].apply(lambda x : x in documents)].loc[:, ['id', 'text']].to_dict('records')\n",
    "    \n",
    "    return json.dumps({\"status\":\"ok\", \"got_data\":j['data'], \"processed_data\": documents})\n",
    "\n",
    "\n",
    "@app.route(\"/reverseindex/add\", methods=['POST'])\n",
    "def add():\n",
    "    '''\n",
    "    Add doc to reverse index\n",
    "    '''\n",
    "    pass\n",
    "    \n",
    "\n",
    "if __name__ == \"__main__\":\n",
    "    app.run(host='0.0.0.0', port=13538)"
   ]
  },
  {
   "cell_type": "code",
   "execution_count": 35,
   "metadata": {},
   "outputs": [
    {
     "data": {
      "text/html": [
       "<div>\n",
       "<style scoped>\n",
       "    .dataframe tbody tr th:only-of-type {\n",
       "        vertical-align: middle;\n",
       "    }\n",
       "\n",
       "    .dataframe tbody tr th {\n",
       "        vertical-align: top;\n",
       "    }\n",
       "\n",
       "    .dataframe thead th {\n",
       "        text-align: right;\n",
       "    }\n",
       "</style>\n",
       "<table border=\"1\" class=\"dataframe\">\n",
       "  <thead>\n",
       "    <tr style=\"text-align: right;\">\n",
       "      <th></th>\n",
       "      <th>uid</th>\n",
       "      <th>id</th>\n",
       "      <th>text</th>\n",
       "      <th>text_searchable</th>\n",
       "      <th>text_hash64</th>\n",
       "      <th>text_lang</th>\n",
       "    </tr>\n",
       "  </thead>\n",
       "  <tbody>\n",
       "    <tr>\n",
       "      <th>0</th>\n",
       "      <td>-9223023784164508486</td>\n",
       "      <td>394513</td>\n",
       "      <td>Должностные обязанности: * Грамотная выкладка ...</td>\n",
       "      <td>должност обязанност грамот выклад товар чиртон...</td>\n",
       "      <td>4618598447649122478</td>\n",
       "      <td>ru</td>\n",
       "    </tr>\n",
       "    <tr>\n",
       "      <th>1</th>\n",
       "      <td>-9222980755089285550</td>\n",
       "      <td>8870790</td>\n",
       "      <td>В компанию требуется Курьер В молодой дружный ...</td>\n",
       "      <td>в компан требуется курьер В молод друж коллект...</td>\n",
       "      <td>-1436805725984275795</td>\n",
       "      <td>ru</td>\n",
       "    </tr>\n",
       "    <tr>\n",
       "      <th>2</th>\n",
       "      <td>-9222464969325259240</td>\n",
       "      <td>1866394</td>\n",
       "      <td>Должностные обязанности: • Ездить на встречу с...</td>\n",
       "      <td>должност обязанност ез на встреч с клиент вруч...</td>\n",
       "      <td>-2338421194536715427</td>\n",
       "      <td>ru</td>\n",
       "    </tr>\n",
       "    <tr>\n",
       "      <th>3</th>\n",
       "      <td>-9222236725167340775</td>\n",
       "      <td>6329712</td>\n",
       "      <td>Приглашаем на работу в компанию SushiBox ГДЕ П...</td>\n",
       "      <td>приглаша на работ в компан sushibox где платят...</td>\n",
       "      <td>-559923134811030623</td>\n",
       "      <td>ru</td>\n",
       "    </tr>\n",
       "    <tr>\n",
       "      <th>4</th>\n",
       "      <td>-9220847903682959224</td>\n",
       "      <td>7536361</td>\n",
       "      <td>Требования: В организацию по доставке питания ...</td>\n",
       "      <td>требован в организаци по достав питан услов оп...</td>\n",
       "      <td>-2668564901270524930</td>\n",
       "      <td>ru</td>\n",
       "    </tr>\n",
       "  </tbody>\n",
       "</table>\n",
       "</div>"
      ],
      "text/plain": [
       "                   uid       id  \\\n",
       "0 -9223023784164508486   394513   \n",
       "1 -9222980755089285550  8870790   \n",
       "2 -9222464969325259240  1866394   \n",
       "3 -9222236725167340775  6329712   \n",
       "4 -9220847903682959224  7536361   \n",
       "\n",
       "                                                text  \\\n",
       "0  Должностные обязанности: * Грамотная выкладка ...   \n",
       "1  В компанию требуется Курьер В молодой дружный ...   \n",
       "2  Должностные обязанности: • Ездить на встречу с...   \n",
       "3  Приглашаем на работу в компанию SushiBox ГДЕ П...   \n",
       "4  Требования: В организацию по доставке питания ...   \n",
       "\n",
       "                                     text_searchable          text_hash64  \\\n",
       "0  должност обязанност грамот выклад товар чиртон...  4618598447649122478   \n",
       "1  в компан требуется курьер В молод друж коллект... -1436805725984275795   \n",
       "2  должност обязанност ез на встреч с клиент вруч... -2338421194536715427   \n",
       "3  приглаша на работ в компан sushibox где платят...  -559923134811030623   \n",
       "4  требован в организаци по достав питан услов оп... -2668564901270524930   \n",
       "\n",
       "  text_lang  \n",
       "0        ru  \n",
       "1        ru  \n",
       "2        ru  \n",
       "3        ru  \n",
       "4        ru  "
      ]
     },
     "execution_count": 35,
     "metadata": {},
     "output_type": "execute_result"
    }
   ],
   "source": [
    "import pandas as pd\n",
    "docs = pd.read_csv('../../Data/eval_texts.csv', sep='\\t')\n",
    "docs.head()"
   ]
  },
  {
   "cell_type": "code",
   "execution_count": 30,
   "metadata": {
    "collapsed": true
   },
   "outputs": [],
   "source": [
    "import pandas as pd\n",
    "from collections import Counter\n",
    "\n",
    "def position_in_text(lst, term):\n",
    "    return [i for i, x in enumerate(lst) if x == term]\n",
    "\n",
    "def create_inverted_index():   \n",
    "    inverted_index = dict()\n",
    "    docs = pd.read_csv('../../Data/eval_texts.csv', sep='\\t')\n",
    "    for i in range(docs.shape[0]):\n",
    "        doc = dict()\n",
    "        doc['docID'] = int(docs.loc[i, 'id'])\n",
    "        #doc['text'] = docs.loc[i, 'text_searchable']\n",
    "        response_analyze = requests.post('http://127.0.0.1:13533/analyze', json={'data' : docs.loc[i, 'text']})\n",
    "        doc['text_searchable'] = json.loads(response_analyze.text)['words']\n",
    "        \n",
    "        #tokens = doc['text'].split(' ')\n",
    "        tokens = doc['text_searchable']\n",
    "        number_of_occurrences = Counter(tokens)         \n",
    "        for term in set(tokens):#number_of_occurrences.keys():\n",
    "          \n",
    "          if term not in inverted_index:\n",
    "            inverted_index[term] = [ {'docID': doc['docID'], 'count': number_of_occurrences[term], 'pos': position_in_text(tokens, term)}]\n",
    "          \n",
    "          else:\n",
    "            inverted_index[term].append({'docID': doc['docID'], 'count': number_of_occurrences[term], 'pos': position_in_text(tokens, term)})\n",
    "            \n",
    "    return(inverted_index)"
   ]
  },
  {
   "cell_type": "code",
   "execution_count": 31,
   "metadata": {
    "collapsed": true
   },
   "outputs": [],
   "source": [
    "def intersect_all(list_of_term, inverted_index):\n",
    "    \n",
    "    ans = set()\n",
    "    for term in list_of_term:            \n",
    "        p = inverted_index.get(term)\n",
    "        posting_list=set()\n",
    "        if not p:\n",
    "            return set()\n",
    "        for d in p:\n",
    "            posting_list.add(d['docID'])\n",
    "        if len(ans) == 0:\n",
    "            ans = posting_list\n",
    "        else:\n",
    "            ans = ans & posting_list\n",
    "\n",
    "    return ans"
   ]
  },
  {
   "cell_type": "code",
   "execution_count": 33,
   "metadata": {
    "collapsed": true
   },
   "outputs": [],
   "source": [
    "def intersect(term1, term2, inverted_index):\n",
    "    answer = []\n",
    "    p1, p2 = inverted_index[term1], inverted_index[term2]\n",
    "  \n",
    "    posting_list1, posting_list2 = [], []\n",
    "  \n",
    "    for d in p1:\n",
    "        posting_list1.append(d['docID'])\n",
    "    for d in p2:\n",
    "        posting_list2.append(d['docID'])\n",
    "    \n",
    "    posting_list1.sort()\n",
    "    posting_list2.sort()\n",
    "    \n",
    "    i,j = 0, 0    \n",
    "    while i < len(posting_list1) and j < len(posting_list2):\n",
    "        if posting_list1[i] == posting_list1[j]:\n",
    "            answer.append(posting_list1[i])\n",
    "            i+=1\n",
    "            j+=1\n",
    "        elif posting_list1[i] < posting_list1[j]:\n",
    "            i+=1\n",
    "        else:\n",
    "            j+=1\n",
    "      \n",
    "    return answer"
   ]
  }
 ],
 "metadata": {
  "kernelspec": {
   "display_name": "Python 3",
   "language": "python",
   "name": "python3"
  },
  "language_info": {
   "codemirror_mode": {
    "name": "ipython",
    "version": 3
   },
   "file_extension": ".py",
   "mimetype": "text/x-python",
   "name": "python",
   "nbconvert_exporter": "python",
   "pygments_lexer": "ipython3",
   "version": "3.6.3"
  }
 },
 "nbformat": 4,
 "nbformat_minor": 2
}
