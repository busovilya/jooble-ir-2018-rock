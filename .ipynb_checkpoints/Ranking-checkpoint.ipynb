{
 "cells": [
  {
   "cell_type": "code",
   "execution_count": null,
   "metadata": {},
   "outputs": [],
   "source": [
    "import json\n",
    "import numpy as np\n",
    "\n",
    "from flask import Flask, request\n",
    "\n",
    "app = Flask(__name__)\n",
    "\n",
    "\n",
    "@app.route('/rank', methods =['POST'])\n",
    "def ranking():\n",
    "    j = request.json\n",
    "    inverted_index = j['data']\n",
    "    # list with relevant docID\n",
    "    documents = j['documents']\n",
    "    # list with tokens from the query\n",
    "    words = j['words']\n",
    "    # weight for the term in the title\n",
    "    w = 5\n",
    "    \n",
    "    def tf(document):\n",
    "        # len(document['pos']) - number of term appearances in the text\n",
    "        # len(document['pos_title']) - number of term appearances in the title\n",
    "        return 1 + np.log((len(document['pos']) + w*len(document['pos_title'])) / document['doc_length'])\n",
    "    \n",
    "           \n",
    "    # create tf_idf -> {docID: tf_idf}\n",
    "    tf_idf = {key: 0 for key in documents}   \n",
    "    for term in words:  \n",
    "        idf_for_term = idf[term]\n",
    "        for doc in inverted_index[term]:\n",
    "            if doc['docID'] in documents:\n",
    "                tf_idf[doc['docID']] += tf(doc) * idf_for_term \n",
    "            \n",
    "           \n",
    "\n",
    "    # sorting documents\n",
    "    ranked = sorted(tf_idf.items(), key=lambda kv: kv[1], reverse=True)\n",
    "    ranked = [d[0] for d in ranked]\n",
    "      \n",
    "    return json.dumps({'status':'ok', 'ranked': ranked})\n",
    "\n",
    "@app.route(\"/rank/idf\", methods=['POST'])\n",
    "def refresh_idf():\n",
    "    global idf\n",
    "    j = request.json\n",
    "    # idf -> {term:idf}\n",
    "    idf = j['data']\n",
    "    return json.dumps({'status':'ok'})\n",
    "\n",
    "if __name__ == \"__main__\":\n",
    "    app.run(host='0.0.0.0', port=13541)"
   ]
  },
  {
   "cell_type": "code",
   "execution_count": null,
   "metadata": {},
   "outputs": [],
   "source": []
  }
 ],
 "metadata": {
  "kernelspec": {
   "display_name": "Python 3",
   "language": "python",
   "name": "python3"
  },
  "language_info": {
   "codemirror_mode": {
    "name": "ipython",
    "version": 3
   },
   "file_extension": ".py",
   "mimetype": "text/x-python",
   "name": "python",
   "nbconvert_exporter": "python",
   "pygments_lexer": "ipython3",
   "version": "3.7.0"
  }
 },
 "nbformat": 4,
 "nbformat_minor": 2
}
