{
 "cells": [
  {
   "cell_type": "code",
   "execution_count": 13,
   "metadata": {
    "collapsed": true
   },
   "outputs": [],
   "source": [
    "import gzip\n"
   ]
  },
  {
   "cell_type": "code",
   "execution_count": 7,
   "metadata": {
    "collapsed": true
   },
   "outputs": [],
   "source": [
    "import pandas as pd\n",
    "import json"
   ]
  },
  {
   "cell_type": "code",
   "execution_count": 32,
   "metadata": {},
   "outputs": [],
   "source": [
    "docs = []\n",
    "with gzip.open('../../Data/by/by_job_2017-01-01.json.gz', 'rb') as f:\n",
    "    #file_content = f.read().decode('utf-8-sig')\n",
    "    for line in f:\n",
    "        docs.append(json.loads(line))\n",
    "   "
   ]
  },
  {
   "cell_type": "code",
   "execution_count": 48,
   "metadata": {},
   "outputs": [],
   "source": [
    "docs = pd.DataFrame(docs)\n",
    "docs.drop_duplicates(subset='id', keep='first', inplace=True)"
   ]
  },
  {
   "cell_type": "code",
   "execution_count": 36,
   "metadata": {},
   "outputs": [],
   "source": [
    "texts = []\n",
    "with gzip.open('../../Data/by/by_job_text_2017-01-01.json.gz', 'rb') as f:\n",
    "    #file_content = f.read().decode('utf-8-sig')\n",
    "    for line in f:\n",
    "        texts.append(json.loads(line))\n"
   ]
  },
  {
   "cell_type": "code",
   "execution_count": 49,
   "metadata": {},
   "outputs": [],
   "source": [
    "texts = pd.DataFrame(texts)\n",
    "texts.drop_duplicates(subset='id_job', keep='first', inplace=True)"
   ]
  },
  {
   "cell_type": "code",
   "execution_count": 50,
   "metadata": {},
   "outputs": [
    {
     "name": "stdout",
     "output_type": "stream",
     "text": [
      "<class 'pandas.core.frame.DataFrame'>\n",
      "Int64Index: 207 entries, 0 to 210\n",
      "Data columns (total 32 columns):\n",
      "checksum               207 non-null object\n",
      "company_name           207 non-null object\n",
      "company_name_hash64    207 non-null object\n",
      "date_created           207 non-null object\n",
      "date_expired           207 non-null object\n",
      "date_updated           207 non-null object\n",
      "emails                 207 non-null object\n",
      "emails_src             207 non-null object\n",
      "html_desc_mode         207 non-null object\n",
      "id                     207 non-null object\n",
      "id_campaign            207 non-null object\n",
      "id_currency            207 non-null object\n",
      "id_language            207 non-null object\n",
      "id_project             207 non-null object\n",
      "id_region              207 non-null object\n",
      "id_salary_rate         207 non-null object\n",
      "id_similar_group       207 non-null object\n",
      "inactive               207 non-null object\n",
      "is_active              207 non-null object\n",
      "is_group_creator       207 non-null object\n",
      "is_pdf                 207 non-null object\n",
      "job_type1              207 non-null object\n",
      "job_type2              207 non-null object\n",
      "lang_text              207 non-null object\n",
      "lang_title             207 non-null object\n",
      "rel_bonus              207 non-null object\n",
      "salary_val1            207 non-null object\n",
      "salary_val2            207 non-null object\n",
      "title                  207 non-null object\n",
      "title_normalized       207 non-null object\n",
      "uid                    207 non-null object\n",
      "url                    207 non-null object\n",
      "dtypes: object(32)\n",
      "memory usage: 53.4+ KB\n"
     ]
    }
   ],
   "source": [
    "docs.info()"
   ]
  },
  {
   "cell_type": "code",
   "execution_count": 51,
   "metadata": {},
   "outputs": [
    {
     "name": "stdout",
     "output_type": "stream",
     "text": [
      "<class 'pandas.core.frame.DataFrame'>\n",
      "Int64Index: 207 entries, 0 to 210\n",
      "Data columns (total 6 columns):\n",
      "date_created       207 non-null object\n",
      "id_job             207 non-null object\n",
      "text               207 non-null object\n",
      "text_hash64        207 non-null object\n",
      "text_word_count    207 non-null object\n",
      "title_hash64       207 non-null object\n",
      "dtypes: object(6)\n",
      "memory usage: 11.3+ KB\n"
     ]
    }
   ],
   "source": [
    "texts.info()"
   ]
  },
  {
   "cell_type": "code",
   "execution_count": 52,
   "metadata": {},
   "outputs": [
    {
     "name": "stdout",
     "output_type": "stream",
     "text": [
      "<class 'pandas.core.frame.DataFrame'>\n",
      "Int64Index: 207 entries, 0 to 206\n",
      "Data columns (total 38 columns):\n",
      "checksum               207 non-null object\n",
      "company_name           207 non-null object\n",
      "company_name_hash64    207 non-null object\n",
      "date_created_x         207 non-null object\n",
      "date_expired           207 non-null object\n",
      "date_updated           207 non-null object\n",
      "emails                 207 non-null object\n",
      "emails_src             207 non-null object\n",
      "html_desc_mode         207 non-null object\n",
      "id                     207 non-null object\n",
      "id_campaign            207 non-null object\n",
      "id_currency            207 non-null object\n",
      "id_language            207 non-null object\n",
      "id_project             207 non-null object\n",
      "id_region              207 non-null object\n",
      "id_salary_rate         207 non-null object\n",
      "id_similar_group       207 non-null object\n",
      "inactive               207 non-null object\n",
      "is_active              207 non-null object\n",
      "is_group_creator       207 non-null object\n",
      "is_pdf                 207 non-null object\n",
      "job_type1              207 non-null object\n",
      "job_type2              207 non-null object\n",
      "lang_text              207 non-null object\n",
      "lang_title             207 non-null object\n",
      "rel_bonus              207 non-null object\n",
      "salary_val1            207 non-null object\n",
      "salary_val2            207 non-null object\n",
      "title                  207 non-null object\n",
      "title_normalized       207 non-null object\n",
      "uid                    207 non-null object\n",
      "url                    207 non-null object\n",
      "date_created_y         207 non-null object\n",
      "id_job                 207 non-null object\n",
      "text                   207 non-null object\n",
      "text_hash64            207 non-null object\n",
      "text_word_count        207 non-null object\n",
      "title_hash64           207 non-null object\n",
      "dtypes: object(38)\n",
      "memory usage: 63.1+ KB\n"
     ]
    }
   ],
   "source": [
    "pd.merge(docs, texts, how='inner', left_on='id', right_on='id_job').info()"
   ]
  },
  {
   "cell_type": "code",
   "execution_count": null,
   "metadata": {
    "collapsed": true
   },
   "outputs": [],
   "source": []
  }
 ],
 "metadata": {
  "kernelspec": {
   "display_name": "Python 3",
   "language": "python",
   "name": "python3"
  },
  "language_info": {
   "codemirror_mode": {
    "name": "ipython",
    "version": 3
   },
   "file_extension": ".py",
   "mimetype": "text/x-python",
   "name": "python",
   "nbconvert_exporter": "python",
   "pygments_lexer": "ipython3",
   "version": "3.6.3"
  }
 },
 "nbformat": 4,
 "nbformat_minor": 2
}
