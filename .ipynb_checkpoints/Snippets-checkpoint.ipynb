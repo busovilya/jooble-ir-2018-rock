{
 "cells": [
  {
   "cell_type": "code",
   "execution_count": null,
   "metadata": {},
   "outputs": [],
   "source": [
    "import json\n",
    "import string\n",
    "import requests\n",
    "from flask import Flask, request\n",
    "from nltk.tokenize import sent_tokenize\n",
    "\n",
    "app = Flask(__name__)\n",
    "\n",
    "'''\n",
    "This service makes snippets for documentss\n",
    "'''\n",
    "@app.route('/snippets', methods =['POST'])\n",
    "def snippets():\n",
    "    json_data = request.json\n",
    "    docs = json_data['data']\n",
    "    # index of sentences in which there are words from query\n",
    "    position = json_data['position']\n",
    "    \n",
    "    # snippet for every doc is the first sentence \\\n",
    "    # where you can find the word from the query\n",
    "    for doc in docs:\n",
    "        sentences = sent_tokenize(doc['text'])          \n",
    "                \n",
    "        pos = position[doc['id']]\n",
    "        pos.sort()\n",
    "                \n",
    "        if pos != []:\n",
    "            doc['snippet'] = sentences[pos[0]]\n",
    "        else:\n",
    "            # if we can't find the word in text (it can be in title)\n",
    "            doc['snippet'] = sentences[0]\n",
    "        del doc['text']\n",
    "    \n",
    "           \n",
    "    return json.dumps({'status':'ok', 'got_data': docs, 'processed_data':docs}, ensure_ascii=False)\n",
    "    \n",
    "\n",
    "if __name__ == \"__main__\":\n",
    "    app.run(host='0.0.0.0', port=13542)"
   ]
  },
  {
   "cell_type": "code",
   "execution_count": null,
   "metadata": {},
   "outputs": [],
   "source": []
  },
  {
   "cell_type": "code",
   "execution_count": null,
   "metadata": {},
   "outputs": [],
   "source": []
  }
 ],
 "metadata": {
  "kernelspec": {
   "display_name": "Python 3",
   "language": "python",
   "name": "python3"
  },
  "language_info": {
   "codemirror_mode": {
    "name": "ipython",
    "version": 3
   },
   "file_extension": ".py",
   "mimetype": "text/x-python",
   "name": "python",
   "nbconvert_exporter": "python",
   "pygments_lexer": "ipython3",
   "version": "3.7.0"
  }
 },
 "nbformat": 4,
 "nbformat_minor": 2
}
