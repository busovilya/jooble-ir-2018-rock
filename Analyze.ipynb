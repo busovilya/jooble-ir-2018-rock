{
 "cells": [
  {
   "cell_type": "code",
   "execution_count": null,
   "metadata": {},
   "outputs": [
    {
     "name": "stderr",
     "output_type": "stream",
     "text": [
      " * Running on http://0.0.0.0:13533/ (Press CTRL+C to quit)\n",
      "127.0.0.1 - - [02/Nov/2018 11:08:42] \"\u001b[37mPOST /analyze HTTP/1.1\u001b[0m\" 200 -\n",
      "127.0.0.1 - - [02/Nov/2018 11:10:39] \"\u001b[37mPOST /analyze HTTP/1.1\u001b[0m\" 200 -\n",
      "127.0.0.1 - - [02/Nov/2018 11:10:53] \"\u001b[37mPOST /analyze HTTP/1.1\u001b[0m\" 200 -\n",
      "[2018-11-02 11:13:57,359] ERROR in app: Exception on /analyze [POST]\n",
      "Traceback (most recent call last):\n",
      "  File \"C:\\Users\\busov\\Anaconda3\\lib\\site-packages\\flask\\app.py\", line 1982, in wsgi_app\n",
      "    response = self.full_dispatch_request()\n",
      "  File \"C:\\Users\\busov\\Anaconda3\\lib\\site-packages\\flask\\app.py\", line 1614, in full_dispatch_request\n",
      "    rv = self.handle_user_exception(e)\n",
      "  File \"C:\\Users\\busov\\Anaconda3\\lib\\site-packages\\flask\\app.py\", line 1517, in handle_user_exception\n",
      "    reraise(exc_type, exc_value, tb)\n",
      "  File \"C:\\Users\\busov\\Anaconda3\\lib\\site-packages\\flask\\_compat.py\", line 33, in reraise\n",
      "    raise value\n",
      "  File \"C:\\Users\\busov\\Anaconda3\\lib\\site-packages\\flask\\app.py\", line 1612, in full_dispatch_request\n",
      "    rv = self.dispatch_request()\n",
      "  File \"C:\\Users\\busov\\Anaconda3\\lib\\site-packages\\flask\\app.py\", line 1598, in dispatch_request\n",
      "    return self.view_functions[rule.endpoint](**req.view_args)\n",
      "  File \"<ipython-input-1-916b5a76d064>\", line 17, in analyze\n",
      "    words = query.split(' ')\n",
      "AttributeError: 'list' object has no attribute 'split'\n",
      "127.0.0.1 - - [02/Nov/2018 11:13:57] \"\u001b[1m\u001b[35mPOST /analyze HTTP/1.1\u001b[0m\" 500 -\n",
      "127.0.0.1 - - [02/Nov/2018 11:14:25] \"\u001b[37mPOST /analyze HTTP/1.1\u001b[0m\" 200 -\n",
      "127.0.0.1 - - [02/Nov/2018 11:17:24] \"\u001b[37mPOST /analyze HTTP/1.1\u001b[0m\" 200 -\n",
      "127.0.0.1 - - [02/Nov/2018 11:20:30] \"\u001b[37mPOST /analyze HTTP/1.1\u001b[0m\" 200 -\n",
      "127.0.0.1 - - [02/Nov/2018 11:20:56] \"\u001b[37mPOST /analyze HTTP/1.1\u001b[0m\" 200 -\n",
      "127.0.0.1 - - [02/Nov/2018 11:21:26] \"\u001b[37mPOST /analyze HTTP/1.1\u001b[0m\" 200 -\n",
      "127.0.0.1 - - [02/Nov/2018 11:21:50] \"\u001b[37mPOST /analyze HTTP/1.1\u001b[0m\" 200 -\n",
      "127.0.0.1 - - [02/Nov/2018 11:24:48] \"\u001b[37mPOST /analyze HTTP/1.1\u001b[0m\" 200 -\n",
      "127.0.0.1 - - [02/Nov/2018 11:26:46] \"\u001b[37mPOST /analyze HTTP/1.1\u001b[0m\" 200 -\n",
      "127.0.0.1 - - [02/Nov/2018 11:27:19] \"\u001b[37mPOST /analyze HTTP/1.1\u001b[0m\" 200 -\n",
      "127.0.0.1 - - [02/Nov/2018 11:27:39] \"\u001b[37mPOST /analyze HTTP/1.1\u001b[0m\" 200 -\n",
      "127.0.0.1 - - [02/Nov/2018 11:28:56] \"\u001b[37mPOST /analyze HTTP/1.1\u001b[0m\" 200 -\n",
      "127.0.0.1 - - [02/Nov/2018 11:29:39] \"\u001b[37mPOST /analyze HTTP/1.1\u001b[0m\" 200 -\n",
      "127.0.0.1 - - [02/Nov/2018 11:29:55] \"\u001b[37mPOST /analyze HTTP/1.1\u001b[0m\" 200 -\n",
      "127.0.0.1 - - [02/Nov/2018 11:30:24] \"\u001b[37mPOST /analyze HTTP/1.1\u001b[0m\" 200 -\n"
     ]
    }
   ],
   "source": [
    "from flask import Flask\n",
    "from flask import request\n",
    "import nltk.stem.porter as stemmer\n",
    "import json\n",
    "import requests\n",
    "\n",
    "app = Flask(__name__)\n",
    "\n",
    "@app.route(\"/\")\n",
    "def hello():\n",
    "    return \"Hello World!\"\n",
    "\n",
    "@app.route(\"/analyze\", methods=[\"POST\"])\n",
    "def analyze():\n",
    "    j = request.json\n",
    "    query = j['data']\n",
    "    words = query.split(' ')\n",
    "    response_stemmed = requests.post('http://127.0.0.1:13535/stemmer', json={'data' : words})\n",
    "    parsed_stemmed = json.loads(response_stemmed.text)\n",
    "    response_stopwords = requests.post('http://127.0.0.1:13536/stopwords', json={'data' : parsed_stemmed['data']})\n",
    "    parsed_stopwords = json.loads(response_stopwords.text)\n",
    "    return json.dumps({\"status\":\"ok\", \"words\": parsed_stopwords['data'], \"language\" : parsed_stemmed['language']})\n",
    "    \n",
    "\n",
    "if __name__ == \"__main__\":\n",
    "    app.run(host='0.0.0.0', port=13533)"
   ]
  },
  {
   "cell_type": "code",
   "execution_count": null,
   "metadata": {
    "collapsed": true
   },
   "outputs": [],
   "source": []
  }
 ],
 "metadata": {
  "kernelspec": {
   "display_name": "Python 3",
   "language": "python",
   "name": "python3"
  },
  "language_info": {
   "codemirror_mode": {
    "name": "ipython",
    "version": 3
   },
   "file_extension": ".py",
   "mimetype": "text/x-python",
   "name": "python",
   "nbconvert_exporter": "python",
   "pygments_lexer": "ipython3",
   "version": "3.6.4"
  }
 },
 "nbformat": 4,
 "nbformat_minor": 2
}
