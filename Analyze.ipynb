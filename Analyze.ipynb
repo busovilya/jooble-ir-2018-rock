{
 "cells": [
  {
   "cell_type": "code",
   "execution_count": null,
   "metadata": {},
   "outputs": [],
   "source": [
    "from flask import Flask\n",
    "from flask import request\n",
    "import nltk.stem.porter as stemmer\n",
    "import json\n",
    "import requests\n",
    "\n",
    "app = Flask(__name__)\n",
    "\n",
    "\n",
    "@app.route(\"/analyze\", methods=[\"POST\"])\n",
    "def analyze():\n",
    "    json_data = request.json\n",
    "    # query format - string\n",
    "    query = json_data['data']\n",
    "    '''\n",
    "    #language detection\n",
    "    response_languagedetector = requests.post('http://127.0.0.1:13534/analysis/detector', json={'data' : query})\n",
    "    language = json.loads(response_languagedetector.text)['language']\n",
    "    '''\n",
    "    \n",
    "    #tokenizing\n",
    "    response_tokenized = requests.post('http://127.0.0.1:13549/analysis/tokenize', json={'data' : query})\n",
    "    parsed_tokenized = json.loads(response_tokenized.text)\n",
    "    '''\n",
    "    #delete stopwords\n",
    "    response_stopwords = requests.post('http://127.0.0.1:13536/analysis/stopwords',\n",
    "                                       json={'data' : parsed_tokenized['processed_data'], 'language' : language})\n",
    "    parsed_stopwords = json.loads(response_stopwords.text) \n",
    "    '''\n",
    "    #stemming\n",
    "    response_stemmed = requests.post('http://127.0.0.1:13535/analysis/stemmer',\n",
    "                                     json={'data' : parsed_tokenized['processed_data']})\n",
    "    parsed_stemmed = json.loads(response_stemmed.text)\n",
    "    '''\n",
    "       \n",
    "    #add synonymus\n",
    "    response_synonymus = requests.post('http://127.0.0.1:13539/analysis/synonymus', \n",
    "                                       json={'data' : parsed_stemmed['processed_data']})\n",
    "    parsed_synonymus = json.loads(response_synonymus.text) \n",
    "    \n",
    "    #fix misprints\n",
    "    response_fixed = requests.post('http://127.0.0.1:13540/analysis/misprints', \n",
    "                                   json={'data' : parsed_stopwords['processed_data']})\n",
    "    parsed_fixed_text = json.loads(response_fixed.text)\n",
    "    '''\n",
    "\n",
    "    return json.dumps({\"status\":\"ok\", \"words\": parsed_stemmed['processed_data'], \"language\" : 'eng'})\n",
    "    \n",
    "\n",
    "if __name__ == \"__main__\":\n",
    "    app.run(host='0.0.0.0', port=13533)"
   ]
  }
 ],
 "metadata": {
  "kernelspec": {
   "display_name": "Python 3",
   "language": "python",
   "name": "python3"
  },
  "language_info": {
   "codemirror_mode": {
    "name": "ipython",
    "version": 3
   },
   "file_extension": ".py",
   "mimetype": "text/x-python",
   "name": "python",
   "nbconvert_exporter": "python",
   "pygments_lexer": "ipython3",
   "version": "3.6.4"
  }
 },
 "nbformat": 4,
 "nbformat_minor": 2
}
