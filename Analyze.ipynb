{
 "cells": [
  {
   "cell_type": "code",
   "execution_count": null,
   "metadata": {},
   "outputs": [
    {
     "name": "stderr",
     "output_type": "stream",
     "text": [
      " * Running on http://0.0.0.0:13533/ (Press CTRL+C to quit)\n",
      "127.0.0.1 - - [02/Nov/2018 13:22:49] \"\u001b[37mPOST /analyze HTTP/1.1\u001b[0m\" 200 -\n",
      "127.0.0.1 - - [02/Nov/2018 14:16:38] \"\u001b[37mPOST /analyze HTTP/1.1\u001b[0m\" 200 -\n",
      "127.0.0.1 - - [02/Nov/2018 14:17:10] \"\u001b[37mPOST /analyze HTTP/1.1\u001b[0m\" 200 -\n",
      "127.0.0.1 - - [02/Nov/2018 14:17:42] \"\u001b[37mPOST /analyze HTTP/1.1\u001b[0m\" 200 -\n",
      "127.0.0.1 - - [03/Nov/2018 10:49:40] \"\u001b[37mPOST /analyze HTTP/1.1\u001b[0m\" 200 -\n",
      "127.0.0.1 - - [03/Nov/2018 10:50:01] \"\u001b[37mPOST /analyze HTTP/1.1\u001b[0m\" 200 -\n",
      "127.0.0.1 - - [03/Nov/2018 10:51:15] \"\u001b[37mPOST /analyze HTTP/1.1\u001b[0m\" 200 -\n",
      "127.0.0.1 - - [03/Nov/2018 10:51:35] \"\u001b[37mPOST /analyze HTTP/1.1\u001b[0m\" 200 -\n",
      "127.0.0.1 - - [03/Nov/2018 10:52:27] \"\u001b[37mPOST /analyze HTTP/1.1\u001b[0m\" 200 -\n",
      "127.0.0.1 - - [03/Nov/2018 10:53:06] \"\u001b[37mPOST /analyze HTTP/1.1\u001b[0m\" 200 -\n",
      "127.0.0.1 - - [03/Nov/2018 10:53:21] \"\u001b[37mPOST /analyze HTTP/1.1\u001b[0m\" 200 -\n",
      "127.0.0.1 - - [03/Nov/2018 10:53:31] \"\u001b[37mPOST /analyze HTTP/1.1\u001b[0m\" 200 -\n",
      "127.0.0.1 - - [03/Nov/2018 10:54:07] \"\u001b[37mPOST /analyze HTTP/1.1\u001b[0m\" 200 -\n",
      "127.0.0.1 - - [03/Nov/2018 10:58:23] \"\u001b[37mPOST /analyze HTTP/1.1\u001b[0m\" 200 -\n",
      "127.0.0.1 - - [03/Nov/2018 11:04:23] \"\u001b[37mPOST /analyze HTTP/1.1\u001b[0m\" 200 -\n",
      "127.0.0.1 - - [03/Nov/2018 11:04:49] \"\u001b[37mPOST /analyze HTTP/1.1\u001b[0m\" 200 -\n",
      "127.0.0.1 - - [03/Nov/2018 11:05:40] \"\u001b[37mPOST /analyze HTTP/1.1\u001b[0m\" 200 -\n",
      "127.0.0.1 - - [03/Nov/2018 11:06:28] \"\u001b[37mPOST /analyze HTTP/1.1\u001b[0m\" 200 -\n",
      "127.0.0.1 - - [03/Nov/2018 11:06:42] \"\u001b[37mPOST /analyze HTTP/1.1\u001b[0m\" 200 -\n",
      "127.0.0.1 - - [03/Nov/2018 11:07:00] \"\u001b[37mPOST /analyze HTTP/1.1\u001b[0m\" 200 -\n",
      "127.0.0.1 - - [03/Nov/2018 11:07:32] \"\u001b[37mPOST /analyze HTTP/1.1\u001b[0m\" 200 -\n",
      "127.0.0.1 - - [03/Nov/2018 11:07:50] \"\u001b[37mPOST /analyze HTTP/1.1\u001b[0m\" 200 -\n",
      "127.0.0.1 - - [03/Nov/2018 11:08:08] \"\u001b[37mPOST /analyze HTTP/1.1\u001b[0m\" 200 -\n",
      "127.0.0.1 - - [03/Nov/2018 11:08:31] \"\u001b[37mPOST /analyze HTTP/1.1\u001b[0m\" 200 -\n",
      "127.0.0.1 - - [03/Nov/2018 11:08:41] \"\u001b[37mPOST /analyze HTTP/1.1\u001b[0m\" 200 -\n"
     ]
    }
   ],
   "source": [
    "from flask import Flask\n",
    "from flask import request\n",
    "import nltk.stem.porter as stemmer\n",
    "import json\n",
    "import requests\n",
    "\n",
    "app = Flask(__name__)\n",
    "\n",
    "@app.route(\"/\")\n",
    "def hello():\n",
    "    return \"Hello World!\"\n",
    "\n",
    "@app.route(\"/analyze\", methods=[\"POST\"])\n",
    "def analyze():\n",
    "    j = request.json\n",
    "    query = j['data']\n",
    "    words = query.split(' ')\n",
    "    #stemming\n",
    "    response_stemmed = requests.post('http://127.0.0.1:13535/analysis/stemmer', json={'data' : words})\n",
    "    parsed_stemmed = json.loads(response_stemmed.text)\n",
    "    \n",
    "    #delete stopwords\n",
    "    response_stopwords = requests.post('http://127.0.0.1:13536/analysis/stopwords', json={'data' : parsed_stemmed['processed_data']})\n",
    "    parsed_stopwords = json.loads(response_stopwords.text)\n",
    "    \n",
    "    #add synonymus\n",
    "    response_synonymus = requests.post('http://127.0.0.1:13539/analysis/synonymus', json={'data' : parsed_stopwords['processed_data']})\n",
    "    parsed_synonymus = json.loads(response_synonymus.text)\n",
    "    \n",
    "    #fix misprints\n",
    "    response_fixed = requests.post('http://127.0.0.1:13540/analysis/misprints', json={'data' : parsed_stopwords['processed_data']})\n",
    "    parsed_fixed_text = json.loads(response_fixed.text)\n",
    "    return json.dumps({\"status\":\"ok\", \"words\": parsed_fixed_text['processed_data'], \"language\" : parsed_stemmed['language']})\n",
    "    \n",
    "\n",
    "if __name__ == \"__main__\":\n",
    "    app.run(host='0.0.0.0', port=13533)"
   ]
  },
  {
   "cell_type": "code",
   "execution_count": null,
   "metadata": {
    "collapsed": true
   },
   "outputs": [],
   "source": []
  }
 ],
 "metadata": {
  "kernelspec": {
   "display_name": "Python 3",
   "language": "python",
   "name": "python3"
  },
  "language_info": {
   "codemirror_mode": {
    "name": "ipython",
    "version": 3
   },
   "file_extension": ".py",
   "mimetype": "text/x-python",
   "name": "python",
   "nbconvert_exporter": "python",
   "pygments_lexer": "ipython3",
   "version": "3.6.4"
  }
 },
 "nbformat": 4,
 "nbformat_minor": 2
}
