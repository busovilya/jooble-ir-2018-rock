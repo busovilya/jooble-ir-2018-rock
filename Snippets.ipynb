{
 "cells": [
  {
   "cell_type": "code",
   "execution_count": null,
   "metadata": {},
   "outputs": [],
   "source": [
    "from flask import Flask, request\n",
    "import json\n",
    "\n",
    "app = Flask(__name__)\n",
    "\n",
    "\n",
    "@app.route('/snippets', methods =['POST'])\n",
    "def login():\n",
    "    j = request.json\n",
    "    docs = j['data']\n",
    "    #find snippets\n",
    "    docs_snippets = []\n",
    "\n",
    "    for doc in docs:\n",
    "        docs_snippets.append({'doc_id':doc['doc_id'], 'snippet':'some text'})\n",
    "    \n",
    "    return json.dumps({'status':'ok', 'got_data': docs, 'snippets':docs_snippets})\n",
    "    \n",
    "\n",
    "if __name__ == \"__main__\":\n",
    "    app.run(host='0.0.0.0', port=13542)"
   ]
  }
 ],
 "metadata": {
  "kernelspec": {
   "display_name": "Python 3",
   "language": "python",
   "name": "python3"
  },
  "language_info": {
   "codemirror_mode": {
    "name": "ipython",
    "version": 3
   },
   "file_extension": ".py",
   "mimetype": "text/x-python",
   "name": "python",
   "nbconvert_exporter": "python",
   "pygments_lexer": "ipython3",
   "version": "3.6.4"
  }
 },
 "nbformat": 4,
 "nbformat_minor": 2
}
