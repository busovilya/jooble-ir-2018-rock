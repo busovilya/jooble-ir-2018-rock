{
 "cells": [
  {
   "cell_type": "code",
   "execution_count": null,
   "metadata": {},
   "outputs": [],
   "source": [
    "from flask import Flask, request\n",
    "import json\n",
    "\n",
    "app = Flask(__name__)\n",
    "\n",
    "'''\n",
    "This service makes snippets for documentss\n",
    "'''\n",
    "@app.route('/snippets', methods =['POST'])\n",
    "def snippets():\n",
    "    json_data = request.json\n",
    "    docs = json_data['data']\n",
    "    #find snippets\n",
    "    for doc in docs:\n",
    "        doc['snippet'] = doc['text'][:50]\n",
    "        del doc['text']\n",
    "        \n",
    "    return json.dumps({'status':'ok', 'got_data': docs, 'processed_data':docs}, ensure_ascii=False)\n",
    "    \n",
    "\n",
    "if __name__ == \"__main__\":\n",
    "    app.run(host='0.0.0.0', port=13542)"
   ]
  }
 ],
 "metadata": {
  "kernelspec": {
   "display_name": "Python 3",
   "language": "python",
   "name": "python3"
  },
  "language_info": {
   "codemirror_mode": {
    "name": "ipython",
    "version": 3
   },
   "file_extension": ".py",
   "mimetype": "text/x-python",
   "name": "python",
   "nbconvert_exporter": "python",
   "pygments_lexer": "ipython3",
   "version": "3.6.4"
  }
 },
 "nbformat": 4,
 "nbformat_minor": 2
}
