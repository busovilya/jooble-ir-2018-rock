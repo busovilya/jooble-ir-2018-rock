{
 "cells": [
  {
   "cell_type": "code",
   "execution_count": null,
   "metadata": {},
   "outputs": [
    {
     "name": "stderr",
     "output_type": "stream",
     "text": [
      " * Running on http://0.0.0.0:13565/ (Press CTRL+C to quit)\n",
      "[2018-11-02 11:21:26,668] ERROR in app: Exception on /search [POST]\n",
      "Traceback (most recent call last):\n",
      "  File \"C:\\Users\\busov\\Anaconda3\\lib\\site-packages\\flask\\app.py\", line 1982, in wsgi_app\n",
      "    response = self.full_dispatch_request()\n",
      "  File \"C:\\Users\\busov\\Anaconda3\\lib\\site-packages\\flask\\app.py\", line 1614, in full_dispatch_request\n",
      "    rv = self.handle_user_exception(e)\n",
      "  File \"C:\\Users\\busov\\Anaconda3\\lib\\site-packages\\flask\\app.py\", line 1517, in handle_user_exception\n",
      "    reraise(exc_type, exc_value, tb)\n",
      "  File \"C:\\Users\\busov\\Anaconda3\\lib\\site-packages\\flask\\_compat.py\", line 33, in reraise\n",
      "    raise value\n",
      "  File \"C:\\Users\\busov\\Anaconda3\\lib\\site-packages\\flask\\app.py\", line 1612, in full_dispatch_request\n",
      "    rv = self.dispatch_request()\n",
      "  File \"C:\\Users\\busov\\Anaconda3\\lib\\site-packages\\flask\\app.py\", line 1598, in dispatch_request\n",
      "    return self.view_functions[rule.endpoint](**req.view_args)\n",
      "  File \"<ipython-input-3-e687f20024e3>\", line 22, in search\n",
      "    parsed_reverceindex = json.loads(response_reverceindex.text)\n",
      "  File \"C:\\Users\\busov\\Anaconda3\\lib\\json\\__init__.py\", line 354, in loads\n",
      "    return _default_decoder.decode(s)\n",
      "  File \"C:\\Users\\busov\\Anaconda3\\lib\\json\\decoder.py\", line 339, in decode\n",
      "    obj, end = self.raw_decode(s, idx=_w(s, 0).end())\n",
      "  File \"C:\\Users\\busov\\Anaconda3\\lib\\json\\decoder.py\", line 357, in raw_decode\n",
      "    raise JSONDecodeError(\"Expecting value\", s, err.value) from None\n",
      "json.decoder.JSONDecodeError: Expecting value: line 1 column 1 (char 0)\n",
      "127.0.0.1 - - [02/Nov/2018 11:21:26] \"\u001b[1m\u001b[35mPOST /search HTTP/1.1\u001b[0m\" 500 -\n"
     ]
    },
    {
     "name": "stdout",
     "output_type": "stream",
     "text": [
      "<!DOCTYPE HTML PUBLIC \"-//W3C//DTD HTML 3.2 Final//EN\">\n",
      "<title>500 Internal Server Error</title>\n",
      "<h1>Internal Server Error</h1>\n",
      "<p>The server encountered an internal error and was unable to complete your request.  Either the server is overloaded or there is an error in the application.</p>\n",
      "\n"
     ]
    },
    {
     "name": "stderr",
     "output_type": "stream",
     "text": [
      "[2018-11-02 11:21:50,376] ERROR in app: Exception on /search [POST]\n",
      "Traceback (most recent call last):\n",
      "  File \"C:\\Users\\busov\\Anaconda3\\lib\\site-packages\\flask\\app.py\", line 1982, in wsgi_app\n",
      "    response = self.full_dispatch_request()\n",
      "  File \"C:\\Users\\busov\\Anaconda3\\lib\\site-packages\\flask\\app.py\", line 1614, in full_dispatch_request\n",
      "    rv = self.handle_user_exception(e)\n",
      "  File \"C:\\Users\\busov\\Anaconda3\\lib\\site-packages\\flask\\app.py\", line 1517, in handle_user_exception\n",
      "    reraise(exc_type, exc_value, tb)\n",
      "  File \"C:\\Users\\busov\\Anaconda3\\lib\\site-packages\\flask\\_compat.py\", line 33, in reraise\n",
      "    raise value\n",
      "  File \"C:\\Users\\busov\\Anaconda3\\lib\\site-packages\\flask\\app.py\", line 1612, in full_dispatch_request\n",
      "    rv = self.dispatch_request()\n",
      "  File \"C:\\Users\\busov\\Anaconda3\\lib\\site-packages\\flask\\app.py\", line 1598, in dispatch_request\n",
      "    return self.view_functions[rule.endpoint](**req.view_args)\n",
      "  File \"<ipython-input-3-e687f20024e3>\", line 22, in search\n",
      "    parsed_reverceindex = json.loads(response_reverceindex.text)\n",
      "  File \"C:\\Users\\busov\\Anaconda3\\lib\\json\\__init__.py\", line 354, in loads\n",
      "    return _default_decoder.decode(s)\n",
      "  File \"C:\\Users\\busov\\Anaconda3\\lib\\json\\decoder.py\", line 339, in decode\n",
      "    obj, end = self.raw_decode(s, idx=_w(s, 0).end())\n",
      "  File \"C:\\Users\\busov\\Anaconda3\\lib\\json\\decoder.py\", line 357, in raw_decode\n",
      "    raise JSONDecodeError(\"Expecting value\", s, err.value) from None\n",
      "json.decoder.JSONDecodeError: Expecting value: line 1 column 1 (char 0)\n",
      "127.0.0.1 - - [02/Nov/2018 11:21:50] \"\u001b[1m\u001b[35mPOST /search HTTP/1.1\u001b[0m\" 500 -\n"
     ]
    },
    {
     "name": "stdout",
     "output_type": "stream",
     "text": [
      "<!DOCTYPE HTML PUBLIC \"-//W3C//DTD HTML 3.2 Final//EN\">\n",
      "<title>500 Internal Server Error</title>\n",
      "<h1>Internal Server Error</h1>\n",
      "<p>The server encountered an internal error and was unable to complete your request.  Either the server is overloaded or there is an error in the application.</p>\n",
      "\n"
     ]
    },
    {
     "name": "stderr",
     "output_type": "stream",
     "text": [
      "127.0.0.1 - - [02/Nov/2018 11:24:48] \"\u001b[37mPOST /search HTTP/1.1\u001b[0m\" 200 -\n"
     ]
    },
    {
     "name": "stdout",
     "output_type": "stream",
     "text": [
      "{\"status\": \"ok\", \"got_data\": [\"look\", \"for\", \"a\"], \"data\": [1, 2, 3]}\n"
     ]
    },
    {
     "name": "stderr",
     "output_type": "stream",
     "text": [
      "127.0.0.1 - - [02/Nov/2018 11:26:46] \"\u001b[37mPOST /search HTTP/1.1\u001b[0m\" 200 -\n"
     ]
    },
    {
     "name": "stdout",
     "output_type": "stream",
     "text": [
      "{\"status\": \"ok\", \"got_data\": [\"look\", \"for\", \"a\"], \"data\": [{\"id\": 56, \"word_info\": {\"w1\": 1, \"w2\": 2}}]}\n"
     ]
    },
    {
     "name": "stderr",
     "output_type": "stream",
     "text": [
      "127.0.0.1 - - [02/Nov/2018 11:27:19] \"\u001b[37mPOST /search HTTP/1.1\u001b[0m\" 200 -\n"
     ]
    },
    {
     "name": "stdout",
     "output_type": "stream",
     "text": [
      "{\"status\": \"ok\", \"got_data\": [\"look\", \"for\", \"a\"], \"data\": [{\"id\": 45, \"word_info\": {\"w1\": 1, \"w2\": 2}}, {\"id\": 44, \"word_info\": {\"w1\": 1, \"w2\": 2}}, {\"id\": 8, \"word_info\": {\"w1\": 1, \"w2\": 2}}]}\n"
     ]
    },
    {
     "name": "stderr",
     "output_type": "stream",
     "text": [
      "[2018-11-02 11:27:39,781] ERROR in app: Exception on /search [POST]\n",
      "Traceback (most recent call last):\n",
      "  File \"C:\\Users\\busov\\Anaconda3\\lib\\site-packages\\flask\\app.py\", line 1982, in wsgi_app\n",
      "    response = self.full_dispatch_request()\n",
      "  File \"C:\\Users\\busov\\Anaconda3\\lib\\site-packages\\flask\\app.py\", line 1614, in full_dispatch_request\n",
      "    rv = self.handle_user_exception(e)\n",
      "  File \"C:\\Users\\busov\\Anaconda3\\lib\\site-packages\\flask\\app.py\", line 1517, in handle_user_exception\n",
      "    reraise(exc_type, exc_value, tb)\n",
      "  File \"C:\\Users\\busov\\Anaconda3\\lib\\site-packages\\flask\\_compat.py\", line 33, in reraise\n",
      "    raise value\n",
      "  File \"C:\\Users\\busov\\Anaconda3\\lib\\site-packages\\flask\\app.py\", line 1612, in full_dispatch_request\n",
      "    rv = self.dispatch_request()\n",
      "  File \"C:\\Users\\busov\\Anaconda3\\lib\\site-packages\\flask\\app.py\", line 1598, in dispatch_request\n",
      "    return self.view_functions[rule.endpoint](**req.view_args)\n",
      "  File \"<ipython-input-3-e687f20024e3>\", line 22, in search\n",
      "    parsed_reverceindex = json.loads(response_reverceindex.text)\n",
      "  File \"C:\\Users\\busov\\Anaconda3\\lib\\json\\__init__.py\", line 354, in loads\n",
      "    return _default_decoder.decode(s)\n",
      "  File \"C:\\Users\\busov\\Anaconda3\\lib\\json\\decoder.py\", line 339, in decode\n",
      "    obj, end = self.raw_decode(s, idx=_w(s, 0).end())\n",
      "  File \"C:\\Users\\busov\\Anaconda3\\lib\\json\\decoder.py\", line 357, in raw_decode\n",
      "    raise JSONDecodeError(\"Expecting value\", s, err.value) from None\n",
      "json.decoder.JSONDecodeError: Expecting value: line 1 column 1 (char 0)\n",
      "127.0.0.1 - - [02/Nov/2018 11:27:39] \"\u001b[1m\u001b[35mPOST /search HTTP/1.1\u001b[0m\" 500 -\n"
     ]
    },
    {
     "name": "stdout",
     "output_type": "stream",
     "text": [
      "<!DOCTYPE HTML PUBLIC \"-//W3C//DTD HTML 3.2 Final//EN\">\n",
      "<title>500 Internal Server Error</title>\n",
      "<h1>Internal Server Error</h1>\n",
      "<p>The server encountered an internal error and was unable to complete your request.  Either the server is overloaded or there is an error in the application.</p>\n",
      "\n"
     ]
    },
    {
     "name": "stderr",
     "output_type": "stream",
     "text": [
      "[2018-11-02 11:28:56,903] ERROR in app: Exception on /search [POST]\n",
      "Traceback (most recent call last):\n",
      "  File \"C:\\Users\\busov\\Anaconda3\\lib\\site-packages\\flask\\app.py\", line 1982, in wsgi_app\n",
      "    response = self.full_dispatch_request()\n",
      "  File \"C:\\Users\\busov\\Anaconda3\\lib\\site-packages\\flask\\app.py\", line 1614, in full_dispatch_request\n",
      "    rv = self.handle_user_exception(e)\n",
      "  File \"C:\\Users\\busov\\Anaconda3\\lib\\site-packages\\flask\\app.py\", line 1517, in handle_user_exception\n",
      "    reraise(exc_type, exc_value, tb)\n",
      "  File \"C:\\Users\\busov\\Anaconda3\\lib\\site-packages\\flask\\_compat.py\", line 33, in reraise\n",
      "    raise value\n",
      "  File \"C:\\Users\\busov\\Anaconda3\\lib\\site-packages\\flask\\app.py\", line 1612, in full_dispatch_request\n",
      "    rv = self.dispatch_request()\n",
      "  File \"C:\\Users\\busov\\Anaconda3\\lib\\site-packages\\flask\\app.py\", line 1598, in dispatch_request\n",
      "    return self.view_functions[rule.endpoint](**req.view_args)\n",
      "  File \"<ipython-input-3-e687f20024e3>\", line 22, in search\n",
      "    parsed_reverceindex = json.loads(response_reverceindex.text)\n",
      "  File \"C:\\Users\\busov\\Anaconda3\\lib\\json\\__init__.py\", line 354, in loads\n",
      "    return _default_decoder.decode(s)\n",
      "  File \"C:\\Users\\busov\\Anaconda3\\lib\\json\\decoder.py\", line 339, in decode\n",
      "    obj, end = self.raw_decode(s, idx=_w(s, 0).end())\n",
      "  File \"C:\\Users\\busov\\Anaconda3\\lib\\json\\decoder.py\", line 357, in raw_decode\n",
      "    raise JSONDecodeError(\"Expecting value\", s, err.value) from None\n",
      "json.decoder.JSONDecodeError: Expecting value: line 1 column 1 (char 0)\n",
      "127.0.0.1 - - [02/Nov/2018 11:28:56] \"\u001b[1m\u001b[35mPOST /search HTTP/1.1\u001b[0m\" 500 -\n"
     ]
    },
    {
     "name": "stdout",
     "output_type": "stream",
     "text": [
      "<!DOCTYPE HTML PUBLIC \"-//W3C//DTD HTML 3.2 Final//EN\">\n",
      "<title>500 Internal Server Error</title>\n",
      "<h1>Internal Server Error</h1>\n",
      "<p>The server encountered an internal error and was unable to complete your request.  Either the server is overloaded or there is an error in the application.</p>\n",
      "\n"
     ]
    },
    {
     "name": "stderr",
     "output_type": "stream",
     "text": [
      "[2018-11-02 11:29:39,865] ERROR in app: Exception on /search [POST]\n",
      "Traceback (most recent call last):\n",
      "  File \"C:\\Users\\busov\\Anaconda3\\lib\\site-packages\\flask\\app.py\", line 1982, in wsgi_app\n",
      "    response = self.full_dispatch_request()\n",
      "  File \"C:\\Users\\busov\\Anaconda3\\lib\\site-packages\\flask\\app.py\", line 1614, in full_dispatch_request\n",
      "    rv = self.handle_user_exception(e)\n",
      "  File \"C:\\Users\\busov\\Anaconda3\\lib\\site-packages\\flask\\app.py\", line 1517, in handle_user_exception\n",
      "    reraise(exc_type, exc_value, tb)\n",
      "  File \"C:\\Users\\busov\\Anaconda3\\lib\\site-packages\\flask\\_compat.py\", line 33, in reraise\n",
      "    raise value\n",
      "  File \"C:\\Users\\busov\\Anaconda3\\lib\\site-packages\\flask\\app.py\", line 1612, in full_dispatch_request\n",
      "    rv = self.dispatch_request()\n",
      "  File \"C:\\Users\\busov\\Anaconda3\\lib\\site-packages\\flask\\app.py\", line 1598, in dispatch_request\n",
      "    return self.view_functions[rule.endpoint](**req.view_args)\n",
      "  File \"<ipython-input-3-e687f20024e3>\", line 22, in search\n",
      "    parsed_reverceindex = json.loads(response_reverceindex.text)\n",
      "  File \"C:\\Users\\busov\\Anaconda3\\lib\\json\\__init__.py\", line 354, in loads\n",
      "    return _default_decoder.decode(s)\n",
      "  File \"C:\\Users\\busov\\Anaconda3\\lib\\json\\decoder.py\", line 339, in decode\n",
      "    obj, end = self.raw_decode(s, idx=_w(s, 0).end())\n",
      "  File \"C:\\Users\\busov\\Anaconda3\\lib\\json\\decoder.py\", line 357, in raw_decode\n",
      "    raise JSONDecodeError(\"Expecting value\", s, err.value) from None\n",
      "json.decoder.JSONDecodeError: Expecting value: line 1 column 1 (char 0)\n",
      "127.0.0.1 - - [02/Nov/2018 11:29:39] \"\u001b[1m\u001b[35mPOST /search HTTP/1.1\u001b[0m\" 500 -\n"
     ]
    },
    {
     "name": "stdout",
     "output_type": "stream",
     "text": [
      "<!DOCTYPE HTML PUBLIC \"-//W3C//DTD HTML 3.2 Final//EN\">\n",
      "<title>500 Internal Server Error</title>\n",
      "<h1>Internal Server Error</h1>\n",
      "<p>The server encountered an internal error and was unable to complete your request.  Either the server is overloaded or there is an error in the application.</p>\n",
      "\n"
     ]
    },
    {
     "name": "stderr",
     "output_type": "stream",
     "text": [
      "[2018-11-02 11:29:55,771] ERROR in app: Exception on /search [POST]\n",
      "Traceback (most recent call last):\n",
      "  File \"C:\\Users\\busov\\Anaconda3\\lib\\site-packages\\flask\\app.py\", line 1982, in wsgi_app\n",
      "    response = self.full_dispatch_request()\n",
      "  File \"C:\\Users\\busov\\Anaconda3\\lib\\site-packages\\flask\\app.py\", line 1614, in full_dispatch_request\n",
      "    rv = self.handle_user_exception(e)\n",
      "  File \"C:\\Users\\busov\\Anaconda3\\lib\\site-packages\\flask\\app.py\", line 1517, in handle_user_exception\n",
      "    reraise(exc_type, exc_value, tb)\n",
      "  File \"C:\\Users\\busov\\Anaconda3\\lib\\site-packages\\flask\\_compat.py\", line 33, in reraise\n",
      "    raise value\n",
      "  File \"C:\\Users\\busov\\Anaconda3\\lib\\site-packages\\flask\\app.py\", line 1612, in full_dispatch_request\n",
      "    rv = self.dispatch_request()\n",
      "  File \"C:\\Users\\busov\\Anaconda3\\lib\\site-packages\\flask\\app.py\", line 1598, in dispatch_request\n",
      "    return self.view_functions[rule.endpoint](**req.view_args)\n",
      "  File \"<ipython-input-3-e687f20024e3>\", line 22, in search\n",
      "    parsed_reverceindex = json.loads(response_reverceindex.text)\n",
      "  File \"C:\\Users\\busov\\Anaconda3\\lib\\json\\__init__.py\", line 354, in loads\n",
      "    return _default_decoder.decode(s)\n",
      "  File \"C:\\Users\\busov\\Anaconda3\\lib\\json\\decoder.py\", line 339, in decode\n",
      "    obj, end = self.raw_decode(s, idx=_w(s, 0).end())\n",
      "  File \"C:\\Users\\busov\\Anaconda3\\lib\\json\\decoder.py\", line 357, in raw_decode\n",
      "    raise JSONDecodeError(\"Expecting value\", s, err.value) from None\n",
      "json.decoder.JSONDecodeError: Expecting value: line 1 column 1 (char 0)\n",
      "127.0.0.1 - - [02/Nov/2018 11:29:55] \"\u001b[1m\u001b[35mPOST /search HTTP/1.1\u001b[0m\" 500 -\n"
     ]
    },
    {
     "name": "stdout",
     "output_type": "stream",
     "text": [
      "<!DOCTYPE HTML PUBLIC \"-//W3C//DTD HTML 3.2 Final//EN\">\n",
      "<title>500 Internal Server Error</title>\n",
      "<h1>Internal Server Error</h1>\n",
      "<p>The server encountered an internal error and was unable to complete your request.  Either the server is overloaded or there is an error in the application.</p>\n",
      "\n"
     ]
    },
    {
     "name": "stderr",
     "output_type": "stream",
     "text": [
      "127.0.0.1 - - [02/Nov/2018 11:30:24] \"\u001b[37mPOST /search HTTP/1.1\u001b[0m\" 200 -\n"
     ]
    },
    {
     "name": "stdout",
     "output_type": "stream",
     "text": [
      "{\"status\": \"ok\", \"got_data\": [\"look\", \"for\", \"a\"], \"data\": [{\"id\": 85, \"word_info\": {\"w1\": 1, \"w2\": 2}}, {\"id\": 61, \"word_info\": {\"w1\": 1, \"w2\": 2}}, {\"id\": 89, \"word_info\": {\"w1\": 1, \"w2\": 2}}]}\n"
     ]
    }
   ],
   "source": [
    "from flask import Flask\n",
    "from flask import request\n",
    "import nltk.stem.porter as stemmer\n",
    "import json\n",
    "import requests\n",
    "\n",
    "app = Flask(__name__)\n",
    "\n",
    "@app.route(\"/\")\n",
    "def hello():\n",
    "    return \"Hello World!\"\n",
    "\n",
    "@app.route(\"/search\", methods=[\"POST\"])\n",
    "def search():\n",
    "    j = request.json\n",
    "    query = j['query']\n",
    "    \n",
    "    response_analyze = requests.post('http://127.0.0.1:13533/analyze', json={'data' : query})\n",
    "    parsed_analyze = json.loads(response_analyze.text)\n",
    "    response_reverceindex = requests.post('http://127.0.0.1:13538/reverceindex', json={'data': parsed_analyze['words']})\n",
    "    parsed_reverceindex = json.loads(response_reverceindex.text)\n",
    "    return json.dumps({\"status\":\"ok\", \"data\" : parsed_analyze['words']})\n",
    "    \n",
    "\n",
    "if __name__ == \"__main__\":\n",
    "    app.run(host='0.0.0.0', port=13565)"
   ]
  },
  {
   "cell_type": "code",
   "execution_count": null,
   "metadata": {
    "collapsed": true
   },
   "outputs": [],
   "source": []
  }
 ],
 "metadata": {
  "kernelspec": {
   "display_name": "Python 3",
   "language": "python",
   "name": "python3"
  },
  "language_info": {
   "codemirror_mode": {
    "name": "ipython",
    "version": 3
   },
   "file_extension": ".py",
   "mimetype": "text/x-python",
   "name": "python",
   "nbconvert_exporter": "python",
   "pygments_lexer": "ipython3",
   "version": "3.6.4"
  }
 },
 "nbformat": 4,
 "nbformat_minor": 2
}
