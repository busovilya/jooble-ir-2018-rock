{
 "cells": [
  {
   "cell_type": "code",
   "execution_count": null,
   "metadata": {},
   "outputs": [],
   "source": [
    "from flask import Flask\n",
    "from flask import request\n",
    "import nltk.stem.porter as stemmer\n",
    "import json\n",
    "import requests\n",
    "\n",
    "app = Flask(__name__)\n",
    "\n",
    "\n",
    "@app.route(\"/search\", methods=[\"POST\"])\n",
    "def search():\n",
    "    j = request.json\n",
    "    query = j['query']\n",
    "    \n",
    "    response_analyze = requests.post('http://127.0.0.1:13533/analyze', json={'data' : query})\n",
    "    parsed_analyze = json.loads(response_analyze.text)\n",
    "    print(parsed_analyze)\n",
    "    \n",
    "    response_reverceindex = requests.post('http://127.0.0.1:13538/reverseindex', json={'data': parsed_analyze['words'], 'max_docs':j.get('max_docs')})\n",
    "    parsed_reverceindex = json.loads(response_reverceindex.text)\n",
    "    '''\n",
    "    response_ranked_docs = requests.post('http://127.0.0.1:13541/rank', json={'data': parsed_reverceindex['processed_data']})\n",
    "    parsed_ranked_docs = json.loads(response_ranked_docs.text)\n",
    "    '''\n",
    "    response_docs_snippets = requests.post('http://127.0.0.1:13542/snippets', json={'data': parsed_reverceindex['processed_data']})\n",
    "    parsed_docs_snippets = json.loads(response_docs_snippets.text)\n",
    "    print(parsed_docs_snippets['processed_data'])\n",
    "\n",
    "    return json.dumps({\"status\":\"ok\", \"documents\": parsed_docs_snippets['processed_data']}, ensure_ascii=False)\n",
    "\n",
    "if __name__ == \"__main__\":\n",
    "    app.run(host='0.0.0.0', port=13565)"
   ]
  },
  {
   "cell_type": "code",
   "execution_count": null,
   "metadata": {},
   "outputs": [],
   "source": []
  }
 ],
 "metadata": {
  "kernelspec": {
   "display_name": "Python 3",
   "language": "python",
   "name": "python3"
  },
  "language_info": {
   "codemirror_mode": {
    "name": "ipython",
    "version": 3
   },
   "file_extension": ".py",
   "mimetype": "text/x-python",
   "name": "python",
   "nbconvert_exporter": "python",
   "pygments_lexer": "ipython3",
   "version": "3.7.0"
  }
 },
 "nbformat": 4,
 "nbformat_minor": 2
}
