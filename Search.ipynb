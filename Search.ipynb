{
 "cells": [
  {
   "cell_type": "code",
   "execution_count": null,
   "metadata": {},
   "outputs": [],
   "source": [
    "from flask import Flask\n",
    "from flask import request\n",
    "import nltk.stem.porter as stemmer\n",
    "import json\n",
    "import requests\n",
    "\n",
    "app = Flask(__name__)\n",
    "\n",
    "'''\n",
    "Main search service\n",
    "'''\n",
    "@app.route(\"/search\", methods=[\"POST\"])\n",
    "def search():\n",
    "    json_data = request.json\n",
    "    query = json_data['query']\n",
    "    \n",
    "    #call Analysis service to process query\n",
    "    response_analyze = requests.post('http://127.0.0.1:13533/analyze', json={'data' : query})\n",
    "    parsed_analyze = json.loads(response_analyze.text)\n",
    "    print(parsed_analyze)\n",
    "    \n",
    "    #call ReverseIndex service to create reverse index\n",
    "    response_reverceindex = requests.post('http://127.0.0.1:13538/reverseindex', json={'data': parsed_analyze['words'], 'max_docs':json_data.get('max_docs')})\n",
    "    parsed_reverceindex = json.loads(response_reverceindex.text)\n",
    "    '''\n",
    "    #Call Ranking service to rank documents\n",
    "    response_ranked_docs = requests.post('http://127.0.0.1:13541/rank', json={'data': parsed_reverceindex['processed_data']})\n",
    "    parsed_ranked_docs = json.loads(response_ranked_docs.text)\n",
    "    '''\n",
    "    \n",
    "    #call Snippets service to create snippet for each document\n",
    "    response_docs_snippets = requests.post('http://127.0.0.1:13542/snippets', json={'data': parsed_reverceindex['processed_data']})\n",
    "    parsed_docs_snippets = json.loads(response_docs_snippets.text)\n",
    "\n",
    "    return json.dumps({\"status\":\"ok\", \"documents\": parsed_docs_snippets['processed_data']}, ensure_ascii=False)\n",
    "\n",
    "if __name__ == \"__main__\":\n",
    "    app.run(host='0.0.0.0', port=13565)"
   ]
  }
 ],
 "metadata": {
  "kernelspec": {
   "display_name": "Python 3",
   "language": "python",
   "name": "python3"
  },
  "language_info": {
   "codemirror_mode": {
    "name": "ipython",
    "version": 3
   },
   "file_extension": ".py",
   "mimetype": "text/x-python",
   "name": "python",
   "nbconvert_exporter": "python",
   "pygments_lexer": "ipython3",
   "version": "3.6.4"
  }
 },
 "nbformat": 4,
 "nbformat_minor": 2
}
