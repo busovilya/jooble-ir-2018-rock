{
 "cells": [
  {
   "cell_type": "code",
   "execution_count": null,
   "metadata": {},
   "outputs": [
    {
     "name": "stderr",
     "output_type": "stream",
     "text": [
      " * Running on http://0.0.0.0:13535/ (Press CTRL+C to quit)\n",
      "127.0.0.1 - - [02/Nov/2018 13:22:48] \"\u001b[37mPOST /analysis/stemmer HTTP/1.1\u001b[0m\" 200 -\n",
      "127.0.0.1 - - [02/Nov/2018 14:16:38] \"\u001b[37mPOST /analysis/stemmer HTTP/1.1\u001b[0m\" 200 -\n",
      "127.0.0.1 - - [02/Nov/2018 14:17:10] \"\u001b[37mPOST /analysis/stemmer HTTP/1.1\u001b[0m\" 200 -\n",
      "127.0.0.1 - - [02/Nov/2018 14:17:42] \"\u001b[37mPOST /analysis/stemmer HTTP/1.1\u001b[0m\" 200 -\n",
      "127.0.0.1 - - [03/Nov/2018 10:49:40] \"\u001b[37mPOST /analysis/stemmer HTTP/1.1\u001b[0m\" 200 -\n",
      "127.0.0.1 - - [03/Nov/2018 10:50:00] \"\u001b[37mPOST /analysis/stemmer HTTP/1.1\u001b[0m\" 200 -\n",
      "127.0.0.1 - - [03/Nov/2018 10:51:15] \"\u001b[37mPOST /analysis/stemmer HTTP/1.1\u001b[0m\" 200 -\n",
      "127.0.0.1 - - [03/Nov/2018 10:51:35] \"\u001b[37mPOST /analysis/stemmer HTTP/1.1\u001b[0m\" 200 -\n",
      "127.0.0.1 - - [03/Nov/2018 10:52:27] \"\u001b[37mPOST /analysis/stemmer HTTP/1.1\u001b[0m\" 200 -\n",
      "127.0.0.1 - - [03/Nov/2018 10:53:06] \"\u001b[37mPOST /analysis/stemmer HTTP/1.1\u001b[0m\" 200 -\n",
      "127.0.0.1 - - [03/Nov/2018 10:53:21] \"\u001b[37mPOST /analysis/stemmer HTTP/1.1\u001b[0m\" 200 -\n",
      "127.0.0.1 - - [03/Nov/2018 10:53:31] \"\u001b[37mPOST /analysis/stemmer HTTP/1.1\u001b[0m\" 200 -\n",
      "127.0.0.1 - - [03/Nov/2018 10:54:07] \"\u001b[37mPOST /analysis/stemmer HTTP/1.1\u001b[0m\" 200 -\n",
      "127.0.0.1 - - [03/Nov/2018 10:58:23] \"\u001b[37mPOST /analysis/stemmer HTTP/1.1\u001b[0m\" 200 -\n",
      "127.0.0.1 - - [03/Nov/2018 11:04:23] \"\u001b[37mPOST /analysis/stemmer HTTP/1.1\u001b[0m\" 200 -\n",
      "127.0.0.1 - - [03/Nov/2018 11:04:49] \"\u001b[37mPOST /analysis/stemmer HTTP/1.1\u001b[0m\" 200 -\n",
      "127.0.0.1 - - [03/Nov/2018 11:05:39] \"\u001b[37mPOST /analysis/stemmer HTTP/1.1\u001b[0m\" 200 -\n",
      "127.0.0.1 - - [03/Nov/2018 11:06:28] \"\u001b[37mPOST /analysis/stemmer HTTP/1.1\u001b[0m\" 200 -\n",
      "127.0.0.1 - - [03/Nov/2018 11:06:42] \"\u001b[37mPOST /analysis/stemmer HTTP/1.1\u001b[0m\" 200 -\n",
      "127.0.0.1 - - [03/Nov/2018 11:06:59] \"\u001b[37mPOST /analysis/stemmer HTTP/1.1\u001b[0m\" 200 -\n",
      "127.0.0.1 - - [03/Nov/2018 11:07:32] \"\u001b[37mPOST /analysis/stemmer HTTP/1.1\u001b[0m\" 200 -\n",
      "127.0.0.1 - - [03/Nov/2018 11:07:50] \"\u001b[37mPOST /analysis/stemmer HTTP/1.1\u001b[0m\" 200 -\n",
      "127.0.0.1 - - [03/Nov/2018 11:08:08] \"\u001b[37mPOST /analysis/stemmer HTTP/1.1\u001b[0m\" 200 -\n",
      "127.0.0.1 - - [03/Nov/2018 11:08:31] \"\u001b[37mPOST /analysis/stemmer HTTP/1.1\u001b[0m\" 200 -\n",
      "127.0.0.1 - - [03/Nov/2018 11:08:41] \"\u001b[37mPOST /analysis/stemmer HTTP/1.1\u001b[0m\" 200 -\n"
     ]
    }
   ],
   "source": [
    "from flask import Flask\n",
    "from flask import request\n",
    "import nltk.stem.porter as stemmer\n",
    "import json\n",
    "import requests\n",
    "\n",
    "app = Flask(__name__)\n",
    "\n",
    "\n",
    "@app.route(\"/analysis/stemmer\", methods=[\"POST\"])\n",
    "def test():\n",
    "    j = request.json\n",
    "    data = j['data']\n",
    "    language_detection = requests.post('http://127.0.0.1:13534/analysis/detector', json={'data' : data})\n",
    "    leng = json.loads(language_detection.text)['language']\n",
    "    s = stemmer.PorterStemmer()\n",
    "    return json.dumps({\"status\":\"ok\", \"got_data\":j, \"processed_data\": list(map(s.stem, data)), \"language\":leng})\n",
    "    \n",
    "\n",
    "if __name__ == \"__main__\":\n",
    "    app.run(host='0.0.0.0', port=13535)"
   ]
  },
  {
   "cell_type": "code",
   "execution_count": null,
   "metadata": {
    "collapsed": true
   },
   "outputs": [],
   "source": []
  }
 ],
 "metadata": {
  "kernelspec": {
   "display_name": "Python 3",
   "language": "python",
   "name": "python3"
  },
  "language_info": {
   "codemirror_mode": {
    "name": "ipython",
    "version": 3
   },
   "file_extension": ".py",
   "mimetype": "text/x-python",
   "name": "python",
   "nbconvert_exporter": "python",
   "pygments_lexer": "ipython3",
   "version": "3.6.4"
  }
 },
 "nbformat": 4,
 "nbformat_minor": 2
}
