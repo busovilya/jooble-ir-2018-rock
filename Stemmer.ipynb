{
 "cells": [
  {
   "cell_type": "code",
   "execution_count": null,
   "metadata": {},
   "outputs": [
    {
     "name": "stdout",
     "output_type": "stream",
     "text": [
      " * Serving Flask app \"__main__\" (lazy loading)\n",
      " * Environment: production\n",
      "   WARNING: Do not use the development server in a production environment.\n",
      "   Use a production WSGI server instead.\n",
      " * Debug mode: off\n"
     ]
    },
    {
     "name": "stderr",
     "output_type": "stream",
     "text": [
      " * Running on http://0.0.0.0:13535/ (Press CTRL+C to quit)\n",
      "127.0.0.1 - - [08/Nov/2018 09:21:54] \"POST /analysis/stemmer HTTP/1.1\" 200 -\n",
      "127.0.0.1 - - [08/Nov/2018 09:22:03] \"POST /analysis/stemmer HTTP/1.1\" 200 -\n",
      "127.0.0.1 - - [08/Nov/2018 09:22:13] \"POST /analysis/stemmer HTTP/1.1\" 200 -\n",
      "127.0.0.1 - - [08/Nov/2018 09:22:17] \"POST /analysis/stemmer HTTP/1.1\" 200 -\n",
      "127.0.0.1 - - [08/Nov/2018 09:22:23] \"POST /analysis/stemmer HTTP/1.1\" 200 -\n",
      "127.0.0.1 - - [08/Nov/2018 09:22:30] \"POST /analysis/stemmer HTTP/1.1\" 200 -\n",
      "127.0.0.1 - - [08/Nov/2018 09:22:41] \"POST /analysis/stemmer HTTP/1.1\" 200 -\n",
      "127.0.0.1 - - [08/Nov/2018 09:22:46] \"POST /analysis/stemmer HTTP/1.1\" 200 -\n",
      "127.0.0.1 - - [08/Nov/2018 09:34:39] \"POST /analysis/stemmer HTTP/1.1\" 200 -\n",
      "127.0.0.1 - - [08/Nov/2018 09:34:46] \"POST /analysis/stemmer HTTP/1.1\" 200 -\n",
      "127.0.0.1 - - [08/Nov/2018 09:34:55] \"POST /analysis/stemmer HTTP/1.1\" 200 -\n",
      "127.0.0.1 - - [08/Nov/2018 09:35:00] \"POST /analysis/stemmer HTTP/1.1\" 200 -\n",
      "127.0.0.1 - - [08/Nov/2018 09:35:05] \"POST /analysis/stemmer HTTP/1.1\" 200 -\n",
      "127.0.0.1 - - [08/Nov/2018 09:35:12] \"POST /analysis/stemmer HTTP/1.1\" 200 -\n",
      "127.0.0.1 - - [08/Nov/2018 09:35:22] \"POST /analysis/stemmer HTTP/1.1\" 200 -\n",
      "127.0.0.1 - - [08/Nov/2018 09:35:27] \"POST /analysis/stemmer HTTP/1.1\" 200 -\n"
     ]
    }
   ],
   "source": [
    "from flask import Flask\n",
    "from flask import request\n",
    "import nltk.stem.porter as stemmer\n",
    "import json\n",
    "import requests\n",
    "\n",
    "app = Flask(__name__)\n",
    "\n",
    "\n",
    "@app.route(\"/analysis/stemmer\", methods=[\"POST\"])\n",
    "def test():\n",
    "    j = request.json\n",
    "    data = j['data']\n",
    "    #language_detection = requests.post('http://127.0.0.1:13534/analysis/detector', json={'data' : data})\n",
    "    #leng = json.loads(language_detection.text)['language']\n",
    "    #now languageDetector is requested from Analyze\n",
    "    s = stemmer.PorterStemmer()\n",
    "    return json.dumps({\"status\":\"ok\", \"got_data\":j, \"processed_data\": list(map(s.stem, data))})\n",
    "    \n",
    "\n",
    "if __name__ == \"__main__\":\n",
    "    app.run(host='0.0.0.0', port=13535)"
   ]
  },
  {
   "cell_type": "code",
   "execution_count": null,
   "metadata": {},
   "outputs": [],
   "source": []
  }
 ],
 "metadata": {
  "kernelspec": {
   "display_name": "Python 3",
   "language": "python",
   "name": "python3"
  },
  "language_info": {
   "codemirror_mode": {
    "name": "ipython",
    "version": 3
   },
   "file_extension": ".py",
   "mimetype": "text/x-python",
   "name": "python",
   "nbconvert_exporter": "python",
   "pygments_lexer": "ipython3",
   "version": "3.7.0"
  }
 },
 "nbformat": 4,
 "nbformat_minor": 2
}
