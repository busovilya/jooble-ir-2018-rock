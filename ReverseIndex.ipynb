{
 "cells": [
  {
   "cell_type": "code",
   "execution_count": null,
   "metadata": {},
   "outputs": [],
   "source": [
    "obj = create_inverted_index()"
   ]
  },
  {
   "cell_type": "code",
   "execution_count": null,
   "metadata": {},
   "outputs": [],
   "source": [
    "import pickle"
   ]
  },
  {
   "cell_type": "code",
   "execution_count": null,
   "metadata": {},
   "outputs": [],
   "source": [
    "with open('reverse_index.pickle', 'rb') as file:\n",
    "    obj = pickle.load(file)"
   ]
  },
  {
   "cell_type": "code",
   "execution_count": null,
   "metadata": {},
   "outputs": [],
   "source": [
    "docs[docs['id'].apply(lambda x : x in [3119780, 324804, 2495750, 1794250, 9386922, 9654542, 9477456, 9822035, 9120694, 7284024])]"
   ]
  },
  {
   "cell_type": "code",
   "execution_count": null,
   "metadata": {},
   "outputs": [],
   "source": [
    "import pickle\n",
    "with open('reverse_index.pickle', 'wb') as handle:\n",
    "    pickle.dump(obj, handle, protocol=pickle.HIGHEST_PROTOCOL)"
   ]
  },
  {
   "cell_type": "code",
   "execution_count": null,
   "metadata": {
    "scrolled": true
   },
   "outputs": [],
   "source": [
    "from flask import Flask\n",
    "from flask import request\n",
    "import nltk.stem.porter as stemmer\n",
    "import json\n",
    "import requests\n",
    "import numpy as np\n",
    "\n",
    "app = Flask(__name__)\n",
    "\n",
    "@app.route(\"/reverseindex\", methods=[\"POST\"])\n",
    "def reverceindex():\n",
    "    j = request.json\n",
    "    words = j['data']\n",
    "    \n",
    "    documents = list(intersect_all(words, obj))\n",
    "    \n",
    "    if j.get('max_docs'):\n",
    "        documents = documents[:j.get('max_docs')]\n",
    "        print (documents)\n",
    "    \n",
    "    documents = docs[docs['id'].apply(lambda x : x in documents)].loc[:, ['id', 'text']].to_dict('records')\n",
    "    \n",
    "    return json.dumps({\"status\":\"ok\", \"got_data\":j['data'], \"processed_data\": documents})\n",
    "\n",
    "\n",
    "@app.route(\"/reverseindex/add\", methods=['POST'])\n",
    "def add():\n",
    "    '''\n",
    "    Add doc to reverse index\n",
    "    '''\n",
    "    pass\n",
    "    \n",
    "\n",
    "if __name__ == \"__main__\":\n",
    "    app.run(host='0.0.0.0', port=13538)"
   ]
  },
  {
   "cell_type": "code",
   "execution_count": null,
   "metadata": {},
   "outputs": [],
   "source": [
    "import pandas as pd\n",
    "docs = pd.read_csv('../../Data/eval_texts.csv', sep='\\t')\n",
    "docs.drop_duplicates(subset='id', keep='first', inplace=True)\n",
    "docs.head()"
   ]
  },
  {
   "cell_type": "code",
   "execution_count": null,
   "metadata": {},
   "outputs": [],
   "source": [
    "import pandas as pd\n",
    "from collections import Counter\n",
    "\n",
    "def position_in_text(lst, term):\n",
    "    return [i for i, x in enumerate(lst) if x == term]\n",
    "\n",
    "def create_inverted_index():   \n",
    "    inverted_index = dict()\n",
    "    docs = pd.read_csv('../../Data/eval_texts.csv', sep='\\t')\n",
    "    for i in range(docs.shape[0]):\n",
    "        doc = dict()\n",
    "        doc['docID'] = int(docs.loc[i, 'id'])\n",
    "        #doc['text'] = docs.loc[i, 'text_searchable']\n",
    "        response_analyze = requests.post('http://127.0.0.1:13533/analyze', json={'data' : docs.loc[i, 'text']})\n",
    "        doc['text_searchable'] = json.loads(response_analyze.text)['words']\n",
    "        \n",
    "        #tokens = doc['text'].split(' ')\n",
    "        tokens = doc['text_searchable']\n",
    "        number_of_occurrences = Counter(tokens)         \n",
    "        for term in set(tokens):#number_of_occurrences.keys():\n",
    "          \n",
    "          if term not in inverted_index:\n",
    "            inverted_index[term] = [ {'docID': doc['docID'], 'count': number_of_occurrences[term], 'pos': position_in_text(tokens, term)}]\n",
    "          \n",
    "          else:\n",
    "            inverted_index[term].append({'docID': doc['docID'], 'count': number_of_occurrences[term], 'pos': position_in_text(tokens, term)})\n",
    "            \n",
    "    return(inverted_index)"
   ]
  },
  {
   "cell_type": "code",
   "execution_count": null,
   "metadata": {},
   "outputs": [],
   "source": [
    "def intersect_all(list_of_term, inverted_index):\n",
    "    \n",
    "    ans = set()\n",
    "    for term in list_of_term:            \n",
    "        p = inverted_index.get(term)\n",
    "        posting_list=set()\n",
    "        if not p:\n",
    "            return set()\n",
    "        for d in p:\n",
    "            posting_list.add(d['docID'])\n",
    "        if len(ans) == 0:\n",
    "            ans = posting_list\n",
    "        else:\n",
    "            ans = ans & posting_list\n",
    "\n",
    "    return ans"
   ]
  },
  {
   "cell_type": "code",
   "execution_count": null,
   "metadata": {},
   "outputs": [],
   "source": [
    "def intersect(term1, term2, inverted_index):\n",
    "    answer = []\n",
    "    p1, p2 = inverted_index[term1], inverted_index[term2]\n",
    "  \n",
    "    posting_list1, posting_list2 = [], []\n",
    "  \n",
    "    for d in p1:\n",
    "        posting_list1.append(d['docID'])\n",
    "    for d in p2:\n",
    "        posting_list2.append(d['docID'])\n",
    "    \n",
    "    posting_list1.sort()\n",
    "    posting_list2.sort()\n",
    "    \n",
    "    i,j = 0, 0    \n",
    "    while i < len(posting_list1) and j < len(posting_list2):\n",
    "        if posting_list1[i] == posting_list1[j]:\n",
    "            answer.append(posting_list1[i])\n",
    "            i+=1\n",
    "            j+=1\n",
    "        elif posting_list1[i] < posting_list1[j]:\n",
    "            i+=1\n",
    "        else:\n",
    "            j+=1\n",
    "      \n",
    "    return answer"
   ]
  }
 ],
 "metadata": {
  "kernelspec": {
   "display_name": "Python 3",
   "language": "python",
   "name": "python3"
  },
  "language_info": {
   "codemirror_mode": {
    "name": "ipython",
    "version": 3
   },
   "file_extension": ".py",
   "mimetype": "text/x-python",
   "name": "python",
   "nbconvert_exporter": "python",
   "pygments_lexer": "ipython3",
   "version": "3.7.0"
  }
 },
 "nbformat": 4,
 "nbformat_minor": 2
}
