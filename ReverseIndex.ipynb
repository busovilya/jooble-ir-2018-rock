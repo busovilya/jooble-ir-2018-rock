{
 "cells": [
  {
   "cell_type": "code",
   "execution_count": null,
   "metadata": {},
   "outputs": [
    {
     "name": "stderr",
     "output_type": "stream",
     "text": [
      " * Running on http://0.0.0.0:13538/ (Press CTRL+C to quit)\n",
      "127.0.0.1 - - [03/Nov/2018 11:07:00] \"\u001b[37mPOST /reverceindex HTTP/1.1\u001b[0m\" 200 -\n",
      "127.0.0.1 - - [03/Nov/2018 11:07:32] \"\u001b[37mPOST /reverceindex HTTP/1.1\u001b[0m\" 200 -\n",
      "127.0.0.1 - - [03/Nov/2018 11:07:50] \"\u001b[37mPOST /reverceindex HTTP/1.1\u001b[0m\" 200 -\n",
      "127.0.0.1 - - [03/Nov/2018 11:08:08] \"\u001b[37mPOST /reverceindex HTTP/1.1\u001b[0m\" 200 -\n",
      "127.0.0.1 - - [03/Nov/2018 11:08:31] \"\u001b[37mPOST /reverceindex HTTP/1.1\u001b[0m\" 200 -\n",
      "127.0.0.1 - - [03/Nov/2018 11:08:41] \"\u001b[37mPOST /reverceindex HTTP/1.1\u001b[0m\" 200 -\n"
     ]
    }
   ],
   "source": [
    "from flask import Flask\n",
    "from flask import request\n",
    "import nltk.stem.porter as stemmer\n",
    "import json\n",
    "import requests\n",
    "import numpy as np\n",
    "\n",
    "app = Flask(__name__)\n",
    "\n",
    "\n",
    "@app.route(\"/reverceindex\", methods=[\"POST\"])\n",
    "def reverceindex():\n",
    "    j = request.json\n",
    "    words = j['data']\n",
    "    \n",
    "    ##### I need SQL\n",
    "    docs = []  \n",
    "    \n",
    "    for w in words:\n",
    "        dictionary = {'doc_id': int(np.random.randint(100, size=1)[0]), 'word_info':{'w1':1, 'w2':2}}\n",
    "        docs.append(dictionary)\n",
    "    \n",
    "    return json.dumps({\"status\":\"ok\", \"got_data\":j['data'], \"processed_data\": docs})\n",
    "    \n",
    "\n",
    "if __name__ == \"__main__\":\n",
    "    app.run(host='0.0.0.0', port=13538)"
   ]
  },
  {
   "cell_type": "code",
   "execution_count": null,
   "metadata": {
    "collapsed": true
   },
   "outputs": [],
   "source": []
  },
  {
   "cell_type": "code",
   "execution_count": null,
   "metadata": {
    "collapsed": true
   },
   "outputs": [],
   "source": []
  }
 ],
 "metadata": {
  "kernelspec": {
   "display_name": "Python 3",
   "language": "python",
   "name": "python3"
  },
  "language_info": {
   "codemirror_mode": {
    "name": "ipython",
    "version": 3
   },
   "file_extension": ".py",
   "mimetype": "text/x-python",
   "name": "python",
   "nbconvert_exporter": "python",
   "pygments_lexer": "ipython3",
   "version": "3.6.4"
  }
 },
 "nbformat": 4,
 "nbformat_minor": 2
}
