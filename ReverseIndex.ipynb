{
 "cells": [
  {
   "cell_type": "code",
   "execution_count": 3,
   "metadata": {},
   "outputs": [],
   "source": [
    "import gzip\n",
    "import json\n",
    "import os\n",
    "from json import JSONDecodeError\n",
    "import pandas as pd\n",
    "import pickle\n",
    "import requests\n",
    "import time"
   ]
  },
  {
   "cell_type": "code",
   "execution_count": 119,
   "metadata": {},
   "outputs": [
    {
     "name": "stderr",
     "output_type": "stream",
     "text": [
      "C:\\Users\\busov\\Anaconda3\\lib\\site-packages\\ipykernel_launcher.py:1: ParserWarning: Falling back to the 'python' engine because the 'c' engine does not support regex separators (separators > 1 char and different from '\\s+' are interpreted as regex); you can avoid this warning by specifying engine='python'.\n",
      "  \"\"\"Entry point for launching an IPython kernel.\n"
     ]
    }
   ],
   "source": [
    "docs = pd.read_csv('Data/eval_texts.csv', sep='\\\\t', encoding='utf-8')\n",
    "docs.drop_duplicates(subset='id', keep='first', inplace=True)"
   ]
  },
  {
   "cell_type": "code",
   "execution_count": 290,
   "metadata": {},
   "outputs": [],
   "source": [
    "with open('reverse_index_new.pickle', 'rb') as file:\n",
    "    inverted_index = pickle.load(file)"
   ]
  },
  {
   "cell_type": "code",
   "execution_count": null,
   "metadata": {},
   "outputs": [],
   "source": [
    "\"use this function for creating inverted index\"\n",
    "start = time.time()\n",
    "inverted_index = create_inverted_index()\n",
    "print(time.time()-start)"
   ]
  },
  {
   "cell_type": "code",
   "execution_count": 240,
   "metadata": {},
   "outputs": [],
   "source": [
    "\"save inverted index for using at home\"\n",
    "with open('reverse_index_new.pickle', 'wb') as handle:\n",
    "    pickle.dump(inverted_index, handle, protocol=pickle.HIGHEST_PROTOCOL)"
   ]
  },
  {
   "cell_type": "code",
   "execution_count": 12,
   "metadata": {},
   "outputs": [],
   "source": [
    "\"you can use saved inverted index at home\"\n",
    "with open('reverse_index_new.pickle', 'rb') as file:\n",
    "    inverted_index = pickle.load(file)"
   ]
  },
  {
   "cell_type": "code",
   "execution_count": 13,
   "metadata": {},
   "outputs": [],
   "source": [
    "docs_text = []\n",
    "for root, dirs, files in os.walk(\"Data/by\"):  \n",
    "    for filename in files:\n",
    "        if 'text' in filename:\n",
    "            with gzip.open('Data/by/' + filename, 'rb') as f:\n",
    "                for line in f:\n",
    "                    try: \n",
    "                        docs_text.append(json.loads(line))\n",
    "                    except JSONDecodeError:\n",
    "                        print(\"Can't read file \" + filename)"
   ]
  },
  {
   "cell_type": "code",
   "execution_count": 14,
   "metadata": {},
   "outputs": [],
   "source": [
    "meta_docs = []\n",
    "for root, dirs, files in os.walk(\"Data/by\"):  \n",
    "    for filename in files:\n",
    "        if 'text' not in filename:\n",
    "            with gzip.open('Data/by/' + filename, 'rb') as f:\n",
    "                for line in f:\n",
    "                    try: \n",
    "                        meta_docs.append(json.loads(line))\n",
    "                    except JSONDecodeError:\n",
    "                        print(\"Can't read file \" + filename)"
   ]
  },
  {
   "cell_type": "code",
   "execution_count": 16,
   "metadata": {},
   "outputs": [],
   "source": [
    "meta_docs = pd.DataFrame(meta_docs)\n",
    "meta_docs.drop_duplicates(subset='id', keep='first', inplace=True)\n",
    "docs_text = pd.DataFrame(docs_text)\n",
    "docs_text.drop_duplicates(subset='id_job', keep='first', inplace=True)\n",
    "docs=pd.merge(meta_docs, docs_text, how='inner', left_on='id', right_on='id_job')"
   ]
  },
  {
   "cell_type": "code",
   "execution_count": 27,
   "metadata": {},
   "outputs": [],
   "source": [
    "docs = docs.iloc[:1000, :]"
   ]
  },
  {
   "cell_type": "code",
   "execution_count": null,
   "metadata": {
    "scrolled": true
   },
   "outputs": [],
   "source": [
    "from flask import Flask\n",
    "from flask import request\n",
    "import json\n",
    "import requests\n",
    "import numpy as np\n",
    "\n",
    "app = Flask(__name__)\n",
    "\n",
    "read_files = ['eval_texts.csv']\n",
    "\n",
    "@app.route(\"/reverseindex\", methods=[\"POST\"])\n",
    "def reverseindex():\n",
    "    json_data = request.json\n",
    "    words = json_data['data']\n",
    "    \n",
    "    #intersect lists of documents for all processed words in query\n",
    "    documents = list(intersect_all(words, inverted_index))\n",
    "\n",
    "    #if maximal numbers of documents given, then select only the desired amount\n",
    "    if json_data.get('max_docs'):\n",
    "        documents = documents[:json_data.get('max_docs')]\n",
    "    \n",
    "    #get text of found documentss\n",
    "    documents = docs[docs['id'].apply(lambda x : int(x) in documents)].loc[:, ['id', 'text']].to_dict('records')\n",
    "    return json.dumps({\"status\":\"ok\", \"got_data\":json_data['data'], \"processed_data\": documents})\n",
    "\n",
    "\n",
    "@app.route(\"/reverseindex/add\", methods=['POST'])\n",
    "def add():\n",
    "    global docs\n",
    "    \n",
    "    files_to_read = []\n",
    "    mypath = \"Data\"\n",
    "    files = [f for f in os.listdir(mypath) if os.path.isfile(os.path.join(mypath, f))]\n",
    "    for filename in files:\n",
    "        if filename not in read_files:\n",
    "            files_to_read.append(filename)\n",
    "            read_files.append(filename)\n",
    "                \n",
    "    docs_new = pd.DataFrame()\n",
    "    for file_name in files_to_read:\n",
    "        print(file_name)\n",
    "        docs_new = pd.read_csv(\"{}\\{}\".format(mypath, file_name), sep='\\t')\n",
    "        docs_new.drop_duplicates(subset='id', keep='first', inplace=True)\n",
    "        docs = docs.append(docs_new, ignore_index=True)\n",
    "    \n",
    "    for index, row in docs_new.iterrows():\n",
    "        doc = dict()\n",
    "        doc['docID'] = int(row['id'])\n",
    "        response_analyze = requests.post('http://127.0.0.1:13533/analyze', json={'data' : row['text']})\n",
    "        doc['text_searchable'] = json.loads(response_analyze.text)['words']\n",
    "        response_analyze = requests.post('http://127.0.0.1:13533/analyze', json={'data' : row['title']})\n",
    "        doc['title_searchable'] = json.loads(response_analyze.text)['words']\n",
    "        \n",
    "        \n",
    "        tokens_text = doc['text_searchable']\n",
    "        tokens_title = doc['title_searchable']\n",
    "        \n",
    "        number_of_occurrences = Counter(tokens_text+tokens_title)         \n",
    "        for term in set(tokens_title+tokens_text):\n",
    "            title_flag = False\n",
    "            if term in tokens_title:\n",
    "                title_flag = True\n",
    "                \n",
    "            if term not in inverted_index:                \n",
    "                inverted_index[term] = [ {'docID': doc['docID'], 'count': number_of_occurrences[term],\n",
    "                                          'pos': position_in_text(tokens_text, term), \n",
    "                                          'pos_title': position_in_text(tokens_title, term),\n",
    "                                          'title_flag': title_flag}] \n",
    "            else:\n",
    "                inverted_index[term].append({'docID': doc['docID'], 'count': number_of_occurrences[term],\n",
    "                                             'pos': position_in_text(tokens_text, term), \n",
    "                                             'pos_title': position_in_text(tokens_title, term),\n",
    "                                             'title_flag': title_flag})\n",
    "    return json.dumps({\"status\":\"ok\", \"added\" : docs_new.to_dict()}, ensure_ascii=False)\n",
    "\n",
    "        \n",
    "\n",
    "if __name__ == \"__main__\":\n",
    "    app.run(host='0.0.0.0', port=13538)"
   ]
  },
  {
   "cell_type": "code",
   "execution_count": 8,
   "metadata": {},
   "outputs": [],
   "source": [
    "import pandas as pd\n",
    "from collections import Counter\n",
    "\n",
    "def position_in_text(lst, term):\n",
    "    '''\n",
    "    lst - list of tokens\n",
    "    term - term that you are looking for\n",
    "    Return all positions of term in the list of tokens(0 = first token) \n",
    "    '''\n",
    "    return [i for i, x in enumerate(lst) if x == term]\n",
    "\n",
    "def create_inverted_index():\n",
    "    '''\n",
    "    Return inverted index in list of dictionaries\n",
    "    word -> [{documentID, count of occurencies in document, positions in document, title_flag}, ...]\n",
    "    '''\n",
    "    inverted_index = dict()\n",
    "    for index, row in docs.iterrows():\n",
    "        doc = dict()\n",
    "        doc['docID'] = int(row['id'])\n",
    "        response_analyze = requests.post('http://127.0.0.1:13533/analyze', json={'data' : row['text']})\n",
    "        doc['text_searchable'] = json.loads(response_analyze.text)['words']\n",
    "        response_analyze = requests.post('http://127.0.0.1:13533/analyze', json={'data' : row['title']})\n",
    "        doc['title_searchable'] = json.loads(response_analyze.text)['words']\n",
    "        \n",
    "        \n",
    "        tokens_text = doc['text_searchable']\n",
    "        tokens_title = doc['title_searchable']\n",
    "        \n",
    "        number_of_occurrences = Counter(tokens_text+tokens_title)         \n",
    "        for term in set(tokens_title+tokens_text):\n",
    "            title_flag = False\n",
    "            if term in tokens_title:\n",
    "                title_flag = True\n",
    "                \n",
    "            if term not in inverted_index:                \n",
    "                inverted_index[term] = [ {'docID': doc['docID'], 'count': number_of_occurrences[term],\n",
    "                                          'pos': position_in_text(tokens_text, term), \n",
    "                                          'pos_title': position_in_text(tokens_title, term),\n",
    "                                          'title_flag': title_flag}] \n",
    "            else:\n",
    "                inverted_index[term].append({'docID': doc['docID'], 'count': number_of_occurrences[term],\n",
    "                                             'pos': position_in_text(tokens_text, term), \n",
    "                                             'pos_title': position_in_text(tokens_title, term),\n",
    "                                             'title_flag': title_flag})\n",
    "    return inverted_index"
   ]
  },
  {
   "cell_type": "code",
   "execution_count": 19,
   "metadata": {},
   "outputs": [],
   "source": [
    "def intersect_all(terms, inverted_index):\n",
    "    '''\n",
    "    terms - list of terms for wich we want to intersect set of documents\n",
    "    inverted_index - created inverted index\n",
    "    '''\n",
    "    ans = set()\n",
    "    for term in terms:            \n",
    "        p = inverted_index.get(term)\n",
    "        posting_list=set()\n",
    "        if not p:\n",
    "            return set()\n",
    "        for d in p:\n",
    "            posting_list.add(d['docID'])\n",
    "        if len(ans) == 0:\n",
    "            ans = posting_list\n",
    "        else:\n",
    "            ans = ans & posting_list\n",
    "\n",
    "    return ans"
   ]
  }
 ],
 "metadata": {
  "kernelspec": {
   "display_name": "Python 3",
   "language": "python",
   "name": "python3"
  },
  "language_info": {
   "codemirror_mode": {
    "name": "ipython",
    "version": 3
   },
   "file_extension": ".py",
   "mimetype": "text/x-python",
   "name": "python",
   "nbconvert_exporter": "python",
   "pygments_lexer": "ipython3",
   "version": "3.6.4"
  }
 },
 "nbformat": 4,
 "nbformat_minor": 2
}
